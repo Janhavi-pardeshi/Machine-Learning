{
 "cells": [
  {
   "cell_type": "markdown",
   "id": "9e22d2d1-698c-4c2d-8a47-6a7f67de4cb6",
   "metadata": {},
   "source": [
    "## Data Structure and Algorithm"
   ]
  },
  {
   "cell_type": "markdown",
   "id": "46098dec-40e6-49b0-bad4-f253b650651c",
   "metadata": {},
   "source": [
    "Depth first search and Breadth first search"
   ]
  },
  {
   "cell_type": "code",
   "execution_count": 31,
   "id": "a1e60eaa-869b-42c5-8a47-40b1bae64aca",
   "metadata": {},
   "outputs": [],
   "source": [
    "class Node:\n",
    "    def __init__(self, value):\n",
    "        self.value = value\n",
    "        self.left = None\n",
    "        self.right = None"
   ]
  },
  {
   "cell_type": "code",
   "execution_count": 32,
   "id": "a9c8fd59-cbf4-4c27-9585-28832f29cf41",
   "metadata": {},
   "outputs": [],
   "source": [
    "from collections import deque\n",
    "\n",
    "def BFS(root):\n",
    "    if root is None:\n",
    "        return\n",
    "    \n",
    "    queue = deque([root])\n",
    "\n",
    "    while queue:\n",
    "        node = queue.popleft() \n",
    "        print(node.value, end=' ')  \n",
    "\n",
    "        if node.left:\n",
    "            queue.append(node.left)\n",
    "        if node.right:\n",
    "            queue.append(node.right)"
   ]
  },
  {
   "cell_type": "code",
   "execution_count": 33,
   "id": "e1dcfc20-23a2-49fa-86cf-903e1240c6d0",
   "metadata": {},
   "outputs": [],
   "source": [
    "def DFS(node):\n",
    "    if node is None:\n",
    "        return\n",
    "    print(node.value, end=' ')\n",
    "    DFS(node.left)\n",
    "    DFS(node.right)"
   ]
  },
  {
   "cell_type": "code",
   "execution_count": 34,
   "id": "8c957f5b-e5ef-4c90-9245-f5ea1196d2aa",
   "metadata": {},
   "outputs": [
    {
     "name": "stdout",
     "output_type": "stream",
     "text": [
      "1 2 4 5 3 "
     ]
    }
   ],
   "source": [
    "root = Node(1)\n",
    "root.left = Node(2)\n",
    "root.right = Node(3)\n",
    "root.left.left = Node(4)\n",
    "root.left.right = Node(5)\n",
    "\n",
    "DFS(root)"
   ]
  },
  {
   "cell_type": "code",
   "execution_count": 35,
   "id": "dcb1a57f-34a4-424c-b514-847aeb0b201e",
   "metadata": {},
   "outputs": [
    {
     "name": "stdout",
     "output_type": "stream",
     "text": [
      "1 2 3 4 5 "
     ]
    }
   ],
   "source": [
    "BFS(root)"
   ]
  },
  {
   "cell_type": "markdown",
   "id": "e575197a-d17a-4054-8301-88c3fa262663",
   "metadata": {},
   "source": [
    "Depth-first Search on Graph"
   ]
  },
  {
   "cell_type": "code",
   "execution_count": 37,
   "id": "d290c7b1-06af-410f-a0c7-0a2d08e3ab6d",
   "metadata": {},
   "outputs": [
    {
     "name": "stdout",
     "output_type": "stream",
     "text": [
      "A C F E B D "
     ]
    }
   ],
   "source": [
    "def DFS(graph, start):\n",
    "    visited = set()  \n",
    "    stack = [start]  \n",
    "\n",
    "    while stack:\n",
    "        node = stack.pop()  \n",
    "        if node not in visited:\n",
    "            visited.add(node)  \n",
    "            print(node, end=' ') \n",
    "            stack.extend(graph[node])  \n",
    "graph = {\n",
    "    'A': ['B', 'C'],\n",
    "    'B': ['A', 'D', 'E'],\n",
    "    'C': ['A', 'F'],\n",
    "    'D': ['B'],\n",
    "    'E': ['B', 'F'],\n",
    "    'F': ['C', 'E'],\n",
    "}\n",
    "\n",
    "DFS(graph, 'A')  "
   ]
  },
  {
   "cell_type": "markdown",
   "id": "e0e14d2f-c1df-4484-a8c6-80ef37f50e99",
   "metadata": {},
   "source": [
    "Breadth-first Search on graph"
   ]
  },
  {
   "cell_type": "code",
   "execution_count": 42,
   "id": "91b4105f-d1a2-4096-ab7d-a6c6dc814331",
   "metadata": {},
   "outputs": [
    {
     "name": "stdout",
     "output_type": "stream",
     "text": [
      "A B C D E F "
     ]
    }
   ],
   "source": [
    "from collections import deque\n",
    "\n",
    "def BFS(graph, start):\n",
    "    visited=set()\n",
    "    queue = deque([start])\n",
    "    while queue:\n",
    "        node = queue.popleft()\n",
    "        if node not in visited:\n",
    "            visited.add(node)\n",
    "            print(node,end=' ')\n",
    "            queue.extend(graph[node])\n",
    "\n",
    "graph = {\n",
    "    'A': ['B', 'C'],\n",
    "    'B': ['A', 'D', 'E'],\n",
    "    'C': ['A', 'F'],\n",
    "    'D': ['B'],\n",
    "    'E': ['B', 'F'],\n",
    "    'F': ['C', 'E'],\n",
    "}\n",
    "\n",
    "BFS(graph,'A')"
   ]
  },
  {
   "cell_type": "code",
   "execution_count": null,
   "id": "463a816f-acc0-4013-a9a6-a331696fcaba",
   "metadata": {},
   "outputs": [],
   "source": []
  }
 ],
 "metadata": {
  "kernelspec": {
   "display_name": "Python 3 (ipykernel)",
   "language": "python",
   "name": "python3"
  },
  "language_info": {
   "codemirror_mode": {
    "name": "ipython",
    "version": 3
   },
   "file_extension": ".py",
   "mimetype": "text/x-python",
   "name": "python",
   "nbconvert_exporter": "python",
   "pygments_lexer": "ipython3",
   "version": "3.11.9"
  }
 },
 "nbformat": 4,
 "nbformat_minor": 5
}
