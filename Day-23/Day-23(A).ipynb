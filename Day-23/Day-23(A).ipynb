{
 "cells": [
  {
   "cell_type": "markdown",
   "id": "469766cc-31f9-46b2-8e0b-016c6eab90a5",
   "metadata": {},
   "source": [
    "## Deep Learning"
   ]
  },
  {
   "cell_type": "code",
   "execution_count": null,
   "id": "bf2cebea-c75d-4c24-91ff-e49909f2bad4",
   "metadata": {},
   "outputs": [],
   "source": [
    "import numpy as np\n",
    "from keras.models import Sequential\n",
    "from keras.layers import Dense\n",
    "data = np.random.random((1000,100))\n",
    "labels = np.random.randint(2,size=(1000,1))\n",
    "print(labels)\n",
    "print(data)"
   ]
  },
  {
   "cell_type": "code",
   "execution_count": null,
   "id": "2fca31a2-7825-48dc-b8c8-f58db3b3929b",
   "metadata": {},
   "outputs": [],
   "source": [
    "print(np. unique(labels))"
   ]
  },
  {
   "cell_type": "code",
   "execution_count": null,
   "id": "188c3915-c80e-40fd-9826-4375b969b191",
   "metadata": {},
   "outputs": [],
   "source": [
    "print(np. unique(data))"
   ]
  },
  {
   "cell_type": "markdown",
   "id": "8bff2e76-2599-4004-b13d-1b22cbfef319",
   "metadata": {},
   "source": [
    "## Classification Algorithm"
   ]
  },
  {
   "cell_type": "code",
   "execution_count": null,
   "id": "3e71fcdf-1af1-474b-b80a-e8be7833b29b",
   "metadata": {},
   "outputs": [],
   "source": [
    "model = Sequential()\n",
    "model.add(Dense(1, activation='relu',input_dim=100))\n",
    "model.compile(optimizer='rmsprop',loss='binary_crossentropy',metrics=['accuracy'])\n",
    "model.fit(data,labels,epochs=10,batch_size=32) #epochs(10)=means program will run 10 times,#batch_size(32)=means in batches the data is send to processor\n",
    "predictions=model.predict(data)"
   ]
  },
  {
   "cell_type": "code",
   "execution_count": null,
   "id": "38f24379-3bf9-490e-bd0c-9da50065e656",
   "metadata": {},
   "outputs": [],
   "source": [
    "from keras.datasets import boston_housing,mnist,cifar10,imdb\n",
    "(x_train,y_train),(x_test,y_test) = mnist.load_data()\n",
    "(x_train2,y_train2),(x_test2,y_test2) = boston_housing.load_data()\n",
    "(x_train3,y_train3),(x_test3,y_test3) = cifar10.load_data()\n",
    "(x_train4,y_train4),(x_test4,y_test4) = imdb.load_data(num_words=20000)\n",
    "num_classes = 10\n"
   ]
  },
  {
   "cell_type": "code",
   "execution_count": null,
   "id": "cc595fe1-913e-461f-91af-4a8d7d4bd7ad",
   "metadata": {},
   "outputs": [],
   "source": [
    "print(y_train3)\n",
    "print(y_train4)\n",
    "print(np. unique(y_train4))\n",
    "print(np.unique(y_test4))\n",
    "print(np.unique(y_train3))\n",
    "print(np.unique(y_test3))\n",
    "print(np.unique(y_test2))\n",
    "print(np.unique(y_test2))"
   ]
  },
  {
   "cell_type": "code",
   "execution_count": null,
   "id": "0c9d24cd-c1db-4f0c-a809-4edb9e7d22dc",
   "metadata": {},
   "outputs": [],
   "source": [
    "from keras.preprocessing import sequence\n",
    "x_train4  = sequence.pad_sequences(x_train4,maxlen=80)\n",
    "x_test4  = sequence.pad_sequences(x_test4,maxlen=80)"
   ]
  },
  {
   "cell_type": "code",
   "execution_count": null,
   "id": "81983bf7-a033-465d-bcab-f876a74845c8",
   "metadata": {},
   "outputs": [],
   "source": [
    "print(x_train4)\n",
    "print(x_test4)"
   ]
  },
  {
   "cell_type": "code",
   "execution_count": null,
   "id": "cf379755-16b8-4aef-b9da-8789992576f6",
   "metadata": {},
   "outputs": [],
   "source": [
    "from keras.utils import to_categorical\n",
    "Y_train = to_categorical(y_train, num_classes)\n",
    "Y_test = to_categorical(y_test, num_classes)\n",
    "Y_train3 = to_categorical(y_train3, num_classes)\n",
    "Y_test3 = to_categorical(y_test3, num_classes)"
   ]
  },
  {
   "cell_type": "code",
   "execution_count": null,
   "id": "8b995402-5d7e-4c0e-9c42-52e6054bcd16",
   "metadata": {},
   "outputs": [],
   "source": [
    "print(Y_train)\n",
    "print(Y_test)\n",
    "print(Y_train3)\n",
    "print(Y_test3)\n"
   ]
  },
  {
   "cell_type": "markdown",
   "id": "8ade0204-6d79-4bf9-8939-57b8cd1d3633",
   "metadata": {},
   "source": [
    "## Binary Classification using keras"
   ]
  },
  {
   "cell_type": "code",
   "execution_count": null,
   "id": "ec20515c-2cda-4541-963f-11c04747ee82",
   "metadata": {},
   "outputs": [],
   "source": [
    "from keras.models import Sequential\n",
    "model = Sequential()\n",
    "model2 = Sequential()\n",
    "model3 = Sequential()\n"
   ]
  },
  {
   "cell_type": "code",
   "execution_count": null,
   "id": "c0bfa7bc-1f53-4318-aa6a-ecbc610d9ac8",
   "metadata": {},
   "outputs": [],
   "source": [
    "from keras.layers import Dense\n",
    "model.add(Dense(12,input_dim=8,kernel_initializer='uniform',activation='relu'))\n",
    "model.add(Dense(8, kernel_initializer='uniform',activation='relu'))\n",
    "model.add(Dense(1, kernel_initializer='uniform',activation='sigmoid'))"
   ]
  },
  {
   "cell_type": "code",
   "execution_count": null,
   "id": "87e40a0a-69e4-4d25-a0f6-7c4707e7b715",
   "metadata": {},
   "outputs": [],
   "source": [
    "from keras.layers import Dropout\n",
    "model.add(Dense(512,activation='relu',input_shape=(784,)))\n",
    "model.add(Dropout(0.2))\n",
    "model.add(Dense(512,activation='relu'))\n",
    "model.add(Dropout(0.2))\n",
    "model.add(Dense(10,activation='softmax'))                \n",
    "               "
   ]
  },
  {
   "cell_type": "code",
   "execution_count": null,
   "id": "48138d19-02a9-49da-b4b8-08ced6872a43",
   "metadata": {},
   "outputs": [],
   "source": [
    "model.add(Dense(64,activation='relu',input_dim = x_test4.shape[1]))\n",
    "model.add(Dense(1))"
   ]
  },
  {
   "cell_type": "code",
   "execution_count": null,
   "id": "41b5039a-1f1c-4eb7-84de-3b9127699900",
   "metadata": {},
   "outputs": [],
   "source": [
    "print(x_test4)"
   ]
  },
  {
   "cell_type": "code",
   "execution_count": null,
   "id": "10554047-2322-441e-a059-04e665782477",
   "metadata": {},
   "outputs": [],
   "source": []
  }
 ],
 "metadata": {
  "kernelspec": {
   "display_name": "Python 3 (ipykernel)",
   "language": "python",
   "name": "python3"
  },
  "language_info": {
   "codemirror_mode": {
    "name": "ipython",
    "version": 3
   },
   "file_extension": ".py",
   "mimetype": "text/x-python",
   "name": "python",
   "nbconvert_exporter": "python",
   "pygments_lexer": "ipython3",
   "version": "3.11.9"
  }
 },
 "nbformat": 4,
 "nbformat_minor": 5
}
