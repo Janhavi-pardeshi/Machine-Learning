{
 "cells": [
  {
   "cell_type": "markdown",
   "id": "f94997be-47b8-4dcd-a2d9-4c454b7c2aa2",
   "metadata": {},
   "source": [
    "## Object Flexibility"
   ]
  },
  {
   "cell_type": "code",
   "execution_count": 1,
   "id": "55b46e76-66c2-45ab-be30-5d242da69bf0",
   "metadata": {},
   "outputs": [
    {
     "data": {
      "text/plain": [
       "False"
      ]
     },
     "execution_count": 1,
     "metadata": {},
     "output_type": "execute_result"
    }
   ],
   "source": [
    "n = [1,2,3,4]\n",
    "n[1] is n[2]"
   ]
  },
  {
   "cell_type": "code",
   "execution_count": 2,
   "id": "3d1a4a95-19ec-45d4-9f43-b6352b512057",
   "metadata": {},
   "outputs": [
    {
     "data": {
      "text/plain": [
       "False"
      ]
     },
     "execution_count": 2,
     "metadata": {},
     "output_type": "execute_result"
    }
   ],
   "source": [
    "n[1] is n[3]"
   ]
  },
  {
   "cell_type": "code",
   "execution_count": 3,
   "id": "7eb431f7-cce4-40b6-9394-d741814ff5f9",
   "metadata": {},
   "outputs": [
    {
     "data": {
      "text/plain": [
       "False"
      ]
     },
     "execution_count": 3,
     "metadata": {},
     "output_type": "execute_result"
    }
   ],
   "source": [
    "n[1] is n[0]"
   ]
  },
  {
   "cell_type": "code",
   "execution_count": 4,
   "id": "d0704639-5758-4f06-b7cc-0755645e1b5a",
   "metadata": {},
   "outputs": [
    {
     "data": {
      "text/plain": [
       "True"
      ]
     },
     "execution_count": 4,
     "metadata": {},
     "output_type": "execute_result"
    }
   ],
   "source": [
    "s1 = 'spam'\n",
    "s2 = 'spam'\n",
    "s1==s2\n"
   ]
  },
  {
   "cell_type": "code",
   "execution_count": 5,
   "id": "c5a4ea38-705c-4d0e-a146-f3f9458fb15a",
   "metadata": {},
   "outputs": [
    {
     "data": {
      "text/plain": [
       "True"
      ]
     },
     "execution_count": 5,
     "metadata": {},
     "output_type": "execute_result"
    }
   ],
   "source": [
    "s1 is s2 "
   ]
  },
  {
   "cell_type": "code",
   "execution_count": 6,
   "id": "83887b9a-9cfb-41af-8f3b-d07bc9f845ff",
   "metadata": {},
   "outputs": [
    {
     "data": {
      "text/plain": [
       "(False, False, True)"
      ]
     },
     "execution_count": 6,
     "metadata": {},
     "output_type": "execute_result"
    }
   ],
   "source": [
    "L1=[1,('a',3)]\n",
    "L2=[1,('a',2)]\n",
    "L1 < L2,L1 == L2,L1 > L2"
   ]
  },
  {
   "cell_type": "code",
   "execution_count": 7,
   "id": "78c8d921-c7d4-49e1-94ff-d4c1381cc05f",
   "metadata": {},
   "outputs": [
    {
     "name": "stdout",
     "output_type": "stream",
     "text": [
      "91 2 30\n",
      "92 3 4\n"
     ]
    }
   ],
   "source": [
    "for (a,b,c) in [(91,2,30),(92,3,4)]:\n",
    "    print(a,b,c)"
   ]
  },
  {
   "cell_type": "code",
   "execution_count": 8,
   "id": "57d9ecbe-8c95-4590-8497-1be78488a482",
   "metadata": {},
   "outputs": [
    {
     "data": {
      "text/plain": [
       "(1, [2, 3], 4)"
      ]
     },
     "execution_count": 8,
     "metadata": {},
     "output_type": "execute_result"
    }
   ],
   "source": [
    "a,*b, c = (1,2,3,4)\n",
    "a,b,c"
   ]
  },
  {
   "cell_type": "code",
   "execution_count": 9,
   "id": "9682ed93-3617-44d2-9dc1-d583d790204c",
   "metadata": {},
   "outputs": [
    {
     "data": {
      "text/plain": [
       "([1, 2], 3, 4)"
      ]
     },
     "execution_count": 9,
     "metadata": {},
     "output_type": "execute_result"
    }
   ],
   "source": [
    "*a,b, c = (1,2,3,4)\n",
    "a,b,c"
   ]
  },
  {
   "cell_type": "code",
   "execution_count": 10,
   "id": "9631c8a8-f6df-45a9-baf5-382e2f4f30bc",
   "metadata": {},
   "outputs": [
    {
     "data": {
      "text/plain": [
       "(1, 2, [3, 4])"
      ]
     },
     "execution_count": 10,
     "metadata": {},
     "output_type": "execute_result"
    }
   ],
   "source": [
    "a,b, *c = (1,2,3,4)\n",
    "a,b,c"
   ]
  },
  {
   "cell_type": "code",
   "execution_count": 11,
   "id": "9197d1b9-f19a-4342-b348-e167326989c4",
   "metadata": {},
   "outputs": [
    {
     "name": "stdout",
     "output_type": "stream",
     "text": [
      "1 [2, 3] 4\n",
      "5 [6, 7] 8\n"
     ]
    }
   ],
   "source": [
    "for (a,*b,c ) in [(1,2,3,4),(5,6,7,8)]:  #indicate List\n",
    "    print(a,b,c)"
   ]
  },
  {
   "cell_type": "code",
   "execution_count": 12,
   "id": "f72c112d-4e0f-4028-92e9-4c8c0e6f78b2",
   "metadata": {},
   "outputs": [
    {
     "name": "stdout",
     "output_type": "stream",
     "text": [
      "1 (2, 3) 4\n",
      "5 (6, 7) 8\n"
     ]
    }
   ],
   "source": [
    "for all in [(1,2,3,4),(5,6,7,8)]:       # indicate tuple\n",
    "    a,b,c = all[0],all[1:3],all[3]\n",
    "    print(a,b,c)"
   ]
  },
  {
   "cell_type": "code",
   "execution_count": 13,
   "id": "6a26b8dd-654f-474d-b35b-e27c81fb9f64",
   "metadata": {},
   "outputs": [
    {
     "data": {
      "text/plain": [
       "['s', 'a', 'm']"
      ]
     },
     "execution_count": 13,
     "metadata": {},
     "output_type": "execute_result"
    }
   ],
   "source": [
    "seq1 = \"spam\"\n",
    "seq2 = \"scam\"\n",
    "res = [] # Start empty\n",
    "for x in seq1: # Scan first sequence\n",
    "    if x in seq2: # Common item?\n",
    "        res.append(x) # Add to result end\n",
    "\n",
    "res"
   ]
  },
  {
   "cell_type": "code",
   "execution_count": 14,
   "id": "97463f5f-563d-441e-8ec1-ab7ca71ced13",
   "metadata": {},
   "outputs": [
    {
     "data": {
      "text/plain": [
       "[2, 3, 4, 5, 6]"
      ]
     },
     "execution_count": 14,
     "metadata": {},
     "output_type": "execute_result"
    }
   ],
   "source": [
    " L = [1, 2, 3, 4, 5]\n",
    "for i in range(len(L)): # Add one to each item in L\n",
    "    L[i] += 1 # Or L[i] = L[i] + 1\n",
    "\n",
    "L"
   ]
  },
  {
   "cell_type": "markdown",
   "id": "6c57add6-191e-41b5-b605-975125ecb87e",
   "metadata": {},
   "source": [
    "## Parallel Traversals : Zip and map"
   ]
  },
  {
   "cell_type": "code",
   "execution_count": 15,
   "id": "2fe682ea-917b-4fd6-ad6f-84e6039f841a",
   "metadata": {},
   "outputs": [],
   "source": [
    " L1 = [1,2,3,4]\n",
    "L2 = [5,6,7,8]"
   ]
  },
  {
   "cell_type": "code",
   "execution_count": 16,
   "id": "3e907770-4cd2-49ad-8ae0-9f7bad9d980e",
   "metadata": {},
   "outputs": [
    {
     "data": {
      "text/plain": [
       "<zip at 0x23147664800>"
      ]
     },
     "execution_count": 16,
     "metadata": {},
     "output_type": "execute_result"
    }
   ],
   "source": [
    "zip(L1,L2)"
   ]
  },
  {
   "cell_type": "code",
   "execution_count": 17,
   "id": "94b2a316-928a-46d5-88cf-b1c86c9a712d",
   "metadata": {},
   "outputs": [
    {
     "data": {
      "text/plain": [
       "[(1, 5), (2, 6), (3, 7), (4, 8)]"
      ]
     },
     "execution_count": 17,
     "metadata": {},
     "output_type": "execute_result"
    }
   ],
   "source": [
    "list(zip(L1,L2))"
   ]
  },
  {
   "cell_type": "code",
   "execution_count": 18,
   "id": "0b448658-ddf6-46d1-a60d-9923df801173",
   "metadata": {},
   "outputs": [
    {
     "name": "stdout",
     "output_type": "stream",
     "text": [
      "1 5 -- 6\n",
      "2 6 -- 8\n",
      "3 7 -- 10\n",
      "4 8 -- 12\n"
     ]
    }
   ],
   "source": [
    "for (x,y) in zip(L1,L2):\n",
    "    print(x,y, '--' ,x+y)"
   ]
  },
  {
   "cell_type": "markdown",
   "id": "d2cb8e2d-f6f0-4261-8383-6d4804738f08",
   "metadata": {},
   "source": [
    "## Discreptive statistics"
   ]
  },
  {
   "cell_type": "code",
   "execution_count": 19,
   "id": "fc64577e-641c-45f2-8421-3bdf82898099",
   "metadata": {},
   "outputs": [
    {
     "data": {
      "text/plain": [
       "' \\nVariables Types:\\n1.Nominal: Unordered categorical variables.\\n\\n2.Ordinal: There is an ordering but no implication of equal distance between the different points of the scale.\\n\\n3.Interval: There are equal differences between successive points on the scale but the position of zero is arbitrary.\\n\\n4.Ratio: The relative magnitudes of scores and the differences between them matter. The position of zero is fixed.\\n\\n'"
      ]
     },
     "execution_count": 19,
     "metadata": {},
     "output_type": "execute_result"
    }
   ],
   "source": [
    "''' \n",
    "Variables Types:\n",
    "1.Nominal: Unordered categorical variables.\n",
    "\n",
    "2.Ordinal: There is an ordering but no implication of equal distance between the different points of the scale.\n",
    "\n",
    "3.Interval: There are equal differences between successive points on the scale but the position of zero is arbitrary.\n",
    "\n",
    "4.Ratio: The relative magnitudes of scores and the differences between them matter. The position of zero is fixed.\n",
    "\n",
    "'''"
   ]
  },
  {
   "cell_type": "code",
   "execution_count": 20,
   "id": "d1f372ad-bcd2-43b2-a43c-109cc7eb5a3b",
   "metadata": {},
   "outputs": [],
   "source": [
    "import numpy as np \n",
    "import pandas as pd\n",
    "import matplotlib.pyplot as plt"
   ]
  },
  {
   "cell_type": "code",
   "execution_count": 21,
   "id": "cfaa5ace-f76e-4832-8163-948f4e07f9d2",
   "metadata": {},
   "outputs": [
    {
     "data": {
      "text/plain": [
       "(list, int)"
      ]
     },
     "execution_count": 21,
     "metadata": {},
     "output_type": "execute_result"
    }
   ],
   "source": [
    "df = [24,24,45,62,30,34,24,27,34,30,9,20,35]\n",
    "type(df),type(df[0])"
   ]
  },
  {
   "cell_type": "code",
   "execution_count": 22,
   "id": "c3dda590-e158-4a53-b73a-5eff1665998d",
   "metadata": {},
   "outputs": [
    {
     "data": {
      "text/plain": [
       "(9, 62)"
      ]
     },
     "execution_count": 22,
     "metadata": {},
     "output_type": "execute_result"
    }
   ],
   "source": [
    "np.min(df),np.max(df)"
   ]
  },
  {
   "cell_type": "code",
   "execution_count": 23,
   "id": "d629ab99-07e9-424a-9856-e9e2fd3f9d00",
   "metadata": {},
   "outputs": [
    {
     "data": {
      "text/plain": [
       "13"
      ]
     },
     "execution_count": 23,
     "metadata": {},
     "output_type": "execute_result"
    }
   ],
   "source": [
    "len(df)"
   ]
  },
  {
   "cell_type": "code",
   "execution_count": 24,
   "id": "bff6eaad-457c-4a74-845c-8c0e33decb24",
   "metadata": {},
   "outputs": [
    {
     "data": {
      "text/plain": [
       "30.615384615384617"
      ]
     },
     "execution_count": 24,
     "metadata": {},
     "output_type": "execute_result"
    }
   ],
   "source": [
    "np.mean(df)"
   ]
  },
  {
   "cell_type": "code",
   "execution_count": 25,
   "id": "4d5e25a0-d12d-4077-abab-c24ac26edbd5",
   "metadata": {},
   "outputs": [],
   "source": [
    "data = pd.read_table(\"https://archive.ics.uci.edu/ml/machine-learning-databases/adult/adult.data\", sep=\",\",\n",
    "                names=(\"age\",\"type_employer\",\"fnlwgt\",\"education\",\"education_num\",\"marital\",\n",
    "                       \"occupation\",\"relationship\",\"race\",\"sex\",\"capital_gain\",\"capital_lose\",\n",
    "                       \"hr_per_week\",\"country\",\"income\"))\n",
    "ages = data[\"age\"].tolist()"
   ]
  },
  {
   "cell_type": "code",
   "execution_count": 26,
   "id": "0c90145f-e633-45ff-8157-6da1bf0eb140",
   "metadata": {},
   "outputs": [
    {
     "name": "stdout",
     "output_type": "stream",
     "text": [
      "32561\n",
      "17\n",
      "90\n",
      "38.58164675532078\n",
      "37.0\n"
     ]
    }
   ],
   "source": [
    "print(len(ages))\n",
    "print(np.min(ages))\n",
    "print(np.max(ages))\n",
    "print(np.mean(ages))\n",
    "print(np.median(ages))"
   ]
  },
  {
   "cell_type": "code",
   "execution_count": 27,
   "id": "a04a2f0e-d259-4191-b026-ae6569bbaf77",
   "metadata": {},
   "outputs": [
    {
     "data": {
      "image/png": "[encoded data removed]",
      "text/plain": [
       "<Figure size 640x480 with 1 Axes>"
      ]
     },
     "metadata": {},
     "output_type": "display_data"
    }
   ],
   "source": [
    "plt.hist(ages,20)\n",
    "plt.title(\"1994 Census Histogram\")\n",
    "plt.xlabel(\"Age\")\n",
    "plt.ylabel(\"Frequency\")\n",
    "plt.show()"
   ]
  },
  {
   "cell_type": "code",
   "execution_count": 29,
   "id": "7862c67d-8256-4cf0-b0c0-32cab44f725f",
   "metadata": {},
   "outputs": [
    {
     "data": {
      "text/plain": [
       "(28.0, 48.0)"
      ]
     },
     "execution_count": 29,
     "metadata": {},
     "output_type": "execute_result"
    }
   ],
   "source": [
    "np.percentile(ages,25), np.percentile(ages,75)"
   ]
  },
  {
   "cell_type": "code",
   "execution_count": 30,
   "id": "31e8ed0e-7b72-43a4-a92b-8433e17ce754",
   "metadata": {},
   "outputs": [
    {
     "data": {
      "image/png": "[encoded data removed]",
      "text/plain": [
       "<Figure size 640x480 with 1 Axes>"
      ]
     },
     "metadata": {},
     "output_type": "display_data"
    }
   ],
   "source": [
    "plt.boxplot(ages,20)\n",
    "plt.title(\"1994 Census Histogram\")\n",
    "plt.xlabel(\"Age\")\n",
    "plt.ylabel(\"Frequency\")\n",
    "plt.show()"
   ]
  },
  {
   "cell_type": "code",
   "execution_count": 31,
   "id": "2a3d58ae-3487-4abf-8008-bd919633f496",
   "metadata": {},
   "outputs": [
    {
     "data": {
      "text/plain": [
       "20.0"
      ]
     },
     "execution_count": 31,
     "metadata": {},
     "output_type": "execute_result"
    }
   ],
   "source": [
    "Q1 = np.percentile(ages,25)\n",
    "Q2 = np.percentile(ages,50)\n",
    "Q3 = np.percentile(ages,75)\n",
    "iqr = Q3 -Q1\n",
    "iqr"
   ]
  },
  {
   "cell_type": "code",
   "execution_count": 33,
   "id": "44946f0a-89d4-4438-aead-300ff9a4a86b",
   "metadata": {},
   "outputs": [
    {
     "data": {
      "image/png": "[encoded data removed]",
      "text/plain": [
       "<Figure size 640x480 with 1 Axes>"
      ]
     },
     "metadata": {},
     "output_type": "display_data"
    }
   ],
   "source": [
    "import scipy\n",
    "mu = 0 #mean\n",
    "variance = 2  \n",
    "sigma = np.sqrt(variance) #standard deviation\n",
    "x = np.linspace(mu - 3 * variance, mu + 3 * variance, 100)\n",
    "_ = plt.plot(x, scipy.stats.norm.pdf(x, mu, sigma))   #probability density"
   ]
  },
  {
   "cell_type": "markdown",
   "id": "2b26d84d-d322-43bf-a08f-e393e04a0fdc",
   "metadata": {},
   "source": [
    "## Inferential Statistics"
   ]
  },
  {
   "cell_type": "markdown",
   "id": "a2e66e6b-4c6a-4ad1-9f30-31bec24e2749",
   "metadata": {},
   "source": [
    "## >The Chi Square Distribution"
   ]
  },
  {
   "cell_type": "code",
   "execution_count": 36,
   "id": "cd53b305-c371-48ea-a26a-af4fb396d343",
   "metadata": {},
   "outputs": [
    {
     "data": {
      "text/plain": [
       "<matplotlib.legend.Legend at 0x2315b71df10>"
      ]
     },
     "execution_count": 36,
     "metadata": {},
     "output_type": "execute_result"
    },
    {
     "data": {
      "image/png": "[encoded data removed]",
      "text/plain": [
       "<Figure size 640x480 with 1 Axes>"
      ]
     },
     "metadata": {},
     "output_type": "display_data"
    }
   ],
   "source": [
    "fvalues = np.linspace(.1, 5, 100)\n",
    "# pdf(x, df1, df2): Probability density function at x of F.\n",
    "plt.plot(fvalues, scipy.stats.f.pdf(fvalues, 1, 30), 'b-', label=\"F(1, 30)\")\n",
    "plt.plot(fvalues, scipy.stats.f.pdf(fvalues, 5, 30), 'r-', label=\"F(5, 30)\")\n",
    "plt.legend()\n"
   ]
  },
  {
   "cell_type": "code",
   "execution_count": null,
   "id": "dd06e06c-260d-4067-b2f9-6814918a47af",
   "metadata": {},
   "outputs": [],
   "source": [
    "## An automobile company mancfactures both a two(TW) and a four wheeler(FW). A company manager wants to make the production of both types of vehicle according to the given data below:"
   ]
  },
  {
   "cell_type": "code",
   "execution_count": 81,
   "id": "01989dd9-8567-4b3b-8d32-2531bcf4ac1a",
   "metadata": {},
   "outputs": [
    {
     "name": "stdin",
     "output_type": "stream",
     "text": [
      "Enter total number of vehicle: 10\n",
      "Enter total number of wheels: 20\n"
     ]
    },
    {
     "name": "stdout",
     "output_type": "stream",
     "text": [
      "Invalid input\n"
     ]
    }
   ],
   "source": [
    "v = int(input(\"Enter total number of vehicle:\"))\n",
    "w = int(input(\"Enter total number of wheels:\"))\n",
    "count = 0\n",
    "for i in range(0,v):\n",
    "    for j in range(0,v):\n",
    "        if ((i+j == v) and ((2*i + 4*j)==w)):\n",
    "            print(\"Two wheeler:\",i,\"Total wheeles:\",j)\n",
    "        else:\n",
    "            count+=1\n",
    "\n",
    "if count==(v**2):\n",
    "    print(\"Invalid input\")"
   ]
  },
  {
   "cell_type": "code",
   "execution_count": 79,
   "id": "3931547d-9df9-4706-ab02-a88c0b209d00",
   "metadata": {},
   "outputs": [
    {
     "name": "stdin",
     "output_type": "stream",
     "text": [
      "Enter total number of vehicle: 10\n",
      "Enter total number of wheels: 20\n"
     ]
    },
    {
     "name": "stdout",
     "output_type": "stream",
     "text": [
      "10 0\n"
     ]
    }
   ],
   "source": [
    "v = int(input(\"Enter total number of vehicle:\"))\n",
    "w = int(input(\"Enter total number of wheels:\"))\n",
    "y = (w-2*v)//2\n",
    "x = v-y\n",
    "if ( x>=0 and y>=0):\n",
    "    print(x,y)\n",
    "else:\n",
    "    print(\"Invalid input\")"
   ]
  },
  {
   "cell_type": "code",
   "execution_count": null,
   "id": "90bca15d-6f30-4487-814e-9b1c571b2fa9",
   "metadata": {},
   "outputs": [],
   "source": [
    "''' \n",
    "constraint\n",
    "1.v>2w"
   ]
  },
  {
   "cell_type": "code",
   "execution_count": null,
   "id": "314e1cba-de05-480f-b8c0-f430fe2e97df",
   "metadata": {},
   "outputs": [],
   "source": []
  },
  {
   "cell_type": "code",
   "execution_count": null,
   "id": "2532b6c1-5ea8-4603-99bd-367ea28bb411",
   "metadata": {},
   "outputs": [],
   "source": []
  }
 ],
 "metadata": {
  "kernelspec": {
   "display_name": "Python 3 (ipykernel)",
   "language": "python",
   "name": "python3"
  },
  "language_info": {
   "codemirror_mode": {
    "name": "ipython",
    "version": 3
   },
   "file_extension": ".py",
   "mimetype": "text/x-python",
   "name": "python",
   "nbconvert_exporter": "python",
   "pygments_lexer": "ipython3",
   "version": "3.11.9"
  }
 },
 "nbformat": 4,
 "nbformat_minor": 5
}
