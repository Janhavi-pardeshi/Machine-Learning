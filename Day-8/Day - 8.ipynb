{
 "cells": [
  {
   "cell_type": "markdown",
   "id": "bedd96b2-b957-4e5b-bd64-4ae94702c578",
   "metadata": {},
   "source": [
    "###  Numeric Display Format"
   ]
  },
  {
   "cell_type": "code",
   "execution_count": 105,
   "id": "40f27edb-e765-473e-8192-581e796555e0",
   "metadata": {},
   "outputs": [
    {
     "name": "stdout",
     "output_type": "stream",
     "text": [
      "0.03333333333333333\n"
     ]
    }
   ],
   "source": [
    "num = 1/30\n",
    "print(num)"
   ]
  },
  {
   "cell_type": "code",
   "execution_count": 106,
   "id": "d6d0b518-ec43-4808-807c-84a43e8273fb",
   "metadata": {},
   "outputs": [
    {
     "name": "stdout",
     "output_type": "stream",
     "text": [
      " 0.033333\n"
     ]
    }
   ],
   "source": [
    "print(\"% 2f\"% num)"
   ]
  },
  {
   "cell_type": "code",
   "execution_count": 107,
   "id": "fa902ef8-608b-497c-9598-70a5b6eb5a2c",
   "metadata": {},
   "outputs": [
    {
     "data": {
      "text/plain": [
       "0.03"
      ]
     },
     "execution_count": 107,
     "metadata": {},
     "output_type": "execute_result"
    }
   ],
   "source": [
    "round(num,2)"
   ]
  },
  {
   "cell_type": "code",
   "execution_count": 108,
   "id": "1127f49c-ed38-445a-a9a0-a4937b65f332",
   "metadata": {},
   "outputs": [
    {
     "data": {
      "text/plain": [
       "'0.03'"
      ]
     },
     "execution_count": 108,
     "metadata": {},
     "output_type": "execute_result"
    }
   ],
   "source": [
    "'{0:4.2f}'.format(num)"
   ]
  },
  {
   "cell_type": "code",
   "execution_count": 109,
   "id": "410da0f0-6ee6-4891-a466-81e1e91a6825",
   "metadata": {},
   "outputs": [],
   "source": [
    "class student:\n",
    "    def __init__( self,name,roll,marks):\n",
    "        self.name = name\n",
    "        self.roll = roll\n",
    "        self.marks = marks\n",
    "    def grace( marks):\n",
    "        grace = 40-marks \n",
    "        print('Grace',grace)  \n",
    "    def display_status(marks):\n",
    "        if(marks >= 40):\n",
    "            return 'pass'\n",
    "        else:\n",
    "            print('fail')\n",
    "         "
   ]
  },
  {
   "cell_type": "code",
   "execution_count": 110,
   "id": "4da2a6b2-5e16-44e4-a60d-4fa0c4421b0a",
   "metadata": {},
   "outputs": [
    {
     "name": "stdout",
     "output_type": "stream",
     "text": [
      "pass\n",
      "<function student.grace at 0x0000025F05248FE0>\n"
     ]
    }
   ],
   "source": [
    "sham = student.display_status(90)\n",
    "print(sham)\n",
    "ram = student.grace\n",
    "print(ram)"
   ]
  },
  {
   "cell_type": "code",
   "execution_count": 111,
   "id": "e2f08a73-e166-4009-86e9-a3a6dd58d7ed",
   "metadata": {},
   "outputs": [
    {
     "data": {
      "text/plain": [
       "0"
      ]
     },
     "execution_count": 111,
     "metadata": {},
     "output_type": "execute_result"
    }
   ],
   "source": [
    "x = 10\n",
    "y = 20\n",
    "x//y"
   ]
  },
  {
   "cell_type": "code",
   "execution_count": 112,
   "id": "d53021f3-a6bc-4b3a-b3ed-6a8feb4d486d",
   "metadata": {},
   "outputs": [
    {
     "data": {
      "text/plain": [
       "3"
      ]
     },
     "execution_count": 112,
     "metadata": {},
     "output_type": "execute_result"
    }
   ],
   "source": [
    "import math\n",
    "math.ceil(2.3)"
   ]
  },
  {
   "cell_type": "code",
   "execution_count": 113,
   "id": "e8bf4d3d-c1c7-4f85-a6a9-9e9ae60d724b",
   "metadata": {},
   "outputs": [
    {
     "data": {
      "text/plain": [
       "2"
      ]
     },
     "execution_count": 113,
     "metadata": {},
     "output_type": "execute_result"
    }
   ],
   "source": [
    "math.floor(2.3)"
   ]
  },
  {
   "cell_type": "code",
   "execution_count": 114,
   "id": "95755014-6c01-41af-b31a-d38f70ee7606",
   "metadata": {},
   "outputs": [
    {
     "data": {
      "text/plain": [
       "(-1+0j)"
      ]
     },
     "execution_count": 114,
     "metadata": {},
     "output_type": "execute_result"
    }
   ],
   "source": [
    "1j * 1J"
   ]
  },
  {
   "cell_type": "code",
   "execution_count": 115,
   "id": "52188f3c-cd45-446f-8355-a94a7ea6b678",
   "metadata": {},
   "outputs": [
    {
     "data": {
      "text/plain": [
       "(2+3j)"
      ]
     },
     "execution_count": 115,
     "metadata": {},
     "output_type": "execute_result"
    }
   ],
   "source": [
    "2 + 1j * 3"
   ]
  },
  {
   "cell_type": "code",
   "execution_count": 116,
   "id": "eed57160-a7f0-4806-a36b-4a8038ca755d",
   "metadata": {},
   "outputs": [
    {
     "data": {
      "text/plain": [
       "(6+3j)"
      ]
     },
     "execution_count": 116,
     "metadata": {},
     "output_type": "execute_result"
    }
   ],
   "source": [
    "(2 +  1J) * 3"
   ]
  },
  {
   "cell_type": "code",
   "execution_count": 117,
   "id": "c197fb5c-5542-4895-836c-f23b931496da",
   "metadata": {},
   "outputs": [
    {
     "data": {
      "text/plain": [
       "(1, 16, 255)"
      ]
     },
     "execution_count": 117,
     "metadata": {},
     "output_type": "execute_result"
    }
   ],
   "source": [
    "0o1 , 0o20, 0o377   # Octal to decimal"
   ]
  },
  {
   "cell_type": "code",
   "execution_count": 118,
   "id": "adff821f-5574-4b59-9f58-2f5c9a3d7c9e",
   "metadata": {},
   "outputs": [
    {
     "data": {
      "text/plain": [
       "(1, 16, 187)"
      ]
     },
     "execution_count": 118,
     "metadata": {},
     "output_type": "execute_result"
    }
   ],
   "source": [
    "0x01, 0x10, 0xBB    # hex to decimal"
   ]
  },
  {
   "cell_type": "code",
   "execution_count": 122,
   "id": "9684a37a-da58-46a6-8829-e353fb1af06a",
   "metadata": {
    "scrolled": true
   },
   "outputs": [
    {
     "data": {
      "text/plain": [
       "(1, 16, 967)"
      ]
     },
     "execution_count": 122,
     "metadata": {},
     "output_type": "execute_result"
    }
   ],
   "source": [
    "0b1, 0b10000, 0b1111000111  # Binary to decimal"
   ]
  },
  {
   "cell_type": "code",
   "execution_count": 123,
   "id": "9d504c2f-757d-4acb-b071-d7156beb2b42",
   "metadata": {},
   "outputs": [
    {
     "data": {
      "text/plain": [
       "(64, 64, 64, 64)"
      ]
     },
     "execution_count": 123,
     "metadata": {},
     "output_type": "execute_result"
    }
   ],
   "source": [
    "int ('64') , int('100' , 8),int('40',16),int('1000000',2) "
   ]
  },
  {
   "cell_type": "code",
   "execution_count": 121,
   "id": "8b33a926-9ebc-4568-ac75-4c3e0603e780",
   "metadata": {},
   "outputs": [
    {
     "data": {
      "text/plain": [
       "('0o100', '0x40', '0b1000000')"
      ]
     },
     "execution_count": 121,
     "metadata": {},
     "output_type": "execute_result"
    }
   ],
   "source": [
    "oct(64),hex(64),bin(64)"
   ]
  },
  {
   "cell_type": "code",
   "execution_count": 124,
   "id": "e72ee702-e3b5-4dd1-8fc3-af0a2a3d5376",
   "metadata": {},
   "outputs": [
    {
     "data": {
      "text/plain": [
       "(64, 64, 64, 64)"
      ]
     },
     "execution_count": 124,
     "metadata": {},
     "output_type": "execute_result"
    }
   ],
   "source": [
    "int ('64') , int('100' , 8),int('40',16),int('1000000',2) "
   ]
  },
  {
   "cell_type": "code",
   "execution_count": 126,
   "id": "456ed85a-42b9-4ccd-85af-4744dbf82d33",
   "metadata": {},
   "outputs": [
    {
     "data": {
      "text/plain": [
       "(64, 64)"
      ]
     },
     "execution_count": 126,
     "metadata": {},
     "output_type": "execute_result"
    }
   ],
   "source": [
    "int('0x40', 16),int('0b1000000',2)"
   ]
  },
  {
   "cell_type": "code",
   "execution_count": 127,
   "id": "6eb5e955-1c28-4348-8e6b-4ba4d056ea4e",
   "metadata": {},
   "outputs": [
    {
     "data": {
      "text/plain": [
       "(64, 64, 64, 8)"
      ]
     },
     "execution_count": 127,
     "metadata": {},
     "output_type": "execute_result"
    }
   ],
   "source": [
    "eval('64'),eval('0o100'),eval('0x40'),eval('0b1000')"
   ]
  },
  {
   "cell_type": "code",
   "execution_count": 128,
   "id": "de00ff1c-d269-4eb4-95d8-31817c2b93a0",
   "metadata": {},
   "outputs": [
    {
     "data": {
      "text/plain": [
       "'100,40,1000000'"
      ]
     },
     "execution_count": 128,
     "metadata": {},
     "output_type": "execute_result"
    }
   ],
   "source": [
    "'{0:o},{1:x},{2:b}'.format(64,64,64) # use to convert integers to octal and hexadecimal strings with matting method calls and expression"
   ]
  },
  {
   "cell_type": "code",
   "execution_count": 129,
   "id": "2bb7303d-ed99-4dfc-82f6-1b8e5ddfb2fd",
   "metadata": {},
   "outputs": [
    {
     "data": {
      "text/plain": [
       "'100, ff,FF'"
      ]
     },
     "execution_count": 129,
     "metadata": {},
     "output_type": "execute_result"
    }
   ],
   "source": [
    "'%o, %x,%X' %(64,255,255)"
   ]
  },
  {
   "cell_type": "code",
   "execution_count": 132,
   "id": "8340228d-e2b7-403f-b10c-902857c5b8e4",
   "metadata": {},
   "outputs": [
    {
     "data": {
      "text/plain": [
       "(1, 16, 255)"
      ]
     },
     "execution_count": 132,
     "metadata": {},
     "output_type": "execute_result"
    }
   ],
   "source": [
    "0o1,0o20,0o377"
   ]
  },
  {
   "cell_type": "code",
   "execution_count": 134,
   "id": "80f99cb9-69b3-4473-9b10-102b38792700",
   "metadata": {},
   "outputs": [
    {
     "data": {
      "text/plain": [
       "'144'"
      ]
     },
     "execution_count": 134,
     "metadata": {},
     "output_type": "execute_result"
    }
   ],
   "source": [
    "'{0:o}'.format(0x64) # hex to octal"
   ]
  },
  {
   "cell_type": "code",
   "execution_count": 136,
   "id": "0b6f955f-e6d5-497b-a572-f20b89aaf771",
   "metadata": {},
   "outputs": [
    {
     "data": {
      "text/plain": [
       "4"
      ]
     },
     "execution_count": 136,
     "metadata": {},
     "output_type": "execute_result"
    }
   ],
   "source": [
    "x = 1\n",
    "x << 2 #(left 2 bits)"
   ]
  },
  {
   "cell_type": "code",
   "execution_count": 137,
   "id": "08cca930-a552-4406-93bb-483f581d1643",
   "metadata": {},
   "outputs": [
    {
     "data": {
      "text/plain": [
       "0"
      ]
     },
     "execution_count": 137,
     "metadata": {},
     "output_type": "execute_result"
    }
   ],
   "source": [
    "x>>2   #(right 2 bits)"
   ]
  },
  {
   "cell_type": "code",
   "execution_count": 145,
   "id": "f1afd759-c117-41cf-89bf-a309b0fb1624",
   "metadata": {},
   "outputs": [
    {
     "data": {
      "text/plain": [
       "65"
      ]
     },
     "execution_count": 145,
     "metadata": {},
     "output_type": "execute_result"
    }
   ],
   "source": [
    "x|0x40   # Bitwise OR:0011"
   ]
  },
  {
   "cell_type": "code",
   "execution_count": 141,
   "id": "e05c9890-bc50-4284-b99d-6628c1ef6d64",
   "metadata": {},
   "outputs": [
    {
     "data": {
      "text/plain": [
       "1"
      ]
     },
     "execution_count": 141,
     "metadata": {},
     "output_type": "execute_result"
    }
   ],
   "source": [
    "x&1  # And operation(Bitwise AND:0001)"
   ]
  },
  {
   "cell_type": "code",
   "execution_count": 142,
   "id": "fc085669-9b9f-4b8c-907b-d9ebfb07aaf2",
   "metadata": {},
   "outputs": [
    {
     "data": {
      "text/plain": [
       "4"
      ]
     },
     "execution_count": 142,
     "metadata": {},
     "output_type": "execute_result"
    }
   ],
   "source": [
    "x = 0b0001\n",
    "x << 2"
   ]
  },
  {
   "cell_type": "code",
   "execution_count": 143,
   "id": "b9951bb8-dd95-4434-a84d-3575997ce382",
   "metadata": {},
   "outputs": [
    {
     "data": {
      "text/plain": [
       "'0b100'"
      ]
     },
     "execution_count": 143,
     "metadata": {},
     "output_type": "execute_result"
    }
   ],
   "source": [
    "bin( x << 2)"
   ]
  },
  {
   "cell_type": "code",
   "execution_count": 146,
   "id": "3d9311d6-6b34-46f1-b86c-d279be5ab7a8",
   "metadata": {},
   "outputs": [
    {
     "data": {
      "text/plain": [
       "'0b11'"
      ]
     },
     "execution_count": 146,
     "metadata": {},
     "output_type": "execute_result"
    }
   ],
   "source": [
    "bin(x|0b010)"
   ]
  },
  {
   "cell_type": "code",
   "execution_count": 148,
   "id": "bb1acd6c-3467-4e5d-bfa3-8b27f33eeee8",
   "metadata": {},
   "outputs": [
    {
     "data": {
      "text/plain": [
       "'0b1'"
      ]
     },
     "execution_count": 148,
     "metadata": {},
     "output_type": "execute_result"
    }
   ],
   "source": [
    "bin(x & 0b1)"
   ]
  },
  {
   "cell_type": "code",
   "execution_count": 149,
   "id": "8f4ea8f0-6d81-47e2-804a-0cfb6d94e690",
   "metadata": {},
   "outputs": [
    {
     "data": {
      "text/plain": [
       "'0b11111111'"
      ]
     },
     "execution_count": 149,
     "metadata": {},
     "output_type": "execute_result"
    }
   ],
   "source": [
    "x = 0xFF\n",
    "bin(x)"
   ]
  },
  {
   "cell_type": "code",
   "execution_count": 150,
   "id": "4208f5ac-1069-4776-8e69-4cf9509847db",
   "metadata": {},
   "outputs": [
    {
     "data": {
      "text/plain": [
       "'0b1010101'"
      ]
     },
     "execution_count": 150,
     "metadata": {},
     "output_type": "execute_result"
    }
   ],
   "source": [
    "bin(x ^ 0b10101010)"
   ]
  },
  {
   "cell_type": "code",
   "execution_count": 151,
   "id": "52bf1101-e83b-44eb-b40c-b607febc528e",
   "metadata": {},
   "outputs": [
    {
     "data": {
      "text/plain": [
       "85"
      ]
     },
     "execution_count": 151,
     "metadata": {},
     "output_type": "execute_result"
    }
   ],
   "source": [
    "int('1010101', 2)"
   ]
  },
  {
   "cell_type": "code",
   "execution_count": 152,
   "id": "0dfa8d83-997d-4417-bde0-edddb01ddded",
   "metadata": {},
   "outputs": [
    {
     "data": {
      "text/plain": [
       "'0x55'"
      ]
     },
     "execution_count": 152,
     "metadata": {},
     "output_type": "execute_result"
    }
   ],
   "source": [
    "hex(85)"
   ]
  },
  {
   "cell_type": "code",
   "execution_count": 153,
   "id": "e04ea23a-abe0-4d35-808e-0e93cee060db",
   "metadata": {},
   "outputs": [
    {
     "data": {
      "text/plain": [
       "('0b1100011', 7)"
      ]
     },
     "execution_count": 153,
     "metadata": {},
     "output_type": "execute_result"
    }
   ],
   "source": [
    "x = 99\n",
    "bin(x), x.bit_length()"
   ]
  },
  {
   "cell_type": "code",
   "execution_count": 154,
   "id": "ea334f97-b05a-4238-a44c-9f03e2c1f6cb",
   "metadata": {},
   "outputs": [
    {
     "data": {
      "text/plain": [
       "('0b100000000', 9)"
      ]
     },
     "execution_count": 154,
     "metadata": {},
     "output_type": "execute_result"
    }
   ],
   "source": [
    "bin(256),(256).bit_length()"
   ]
  },
  {
   "cell_type": "code",
   "execution_count": 155,
   "id": "dcc96f95-1cf1-4499-b294-df5652d7b9d6",
   "metadata": {},
   "outputs": [
    {
     "data": {
      "text/plain": [
       "9"
      ]
     },
     "execution_count": 155,
     "metadata": {},
     "output_type": "execute_result"
    }
   ],
   "source": [
    "len(bin(256)) - 2"
   ]
  },
  {
   "cell_type": "code",
   "execution_count": 156,
   "id": "2e48ea1e-8c5b-4bb6-afb5-7928778ed0bf",
   "metadata": {},
   "outputs": [],
   "source": [
    "# Find whether a given number can be represented in the parts of (2,8,16)\n"
   ]
  },
  {
   "cell_type": "code",
   "execution_count": 163,
   "id": "6e66e8d7-4511-41fa-ac44-88c9e137e571",
   "metadata": {},
   "outputs": [
    {
     "data": {
      "text/plain": [
       "(42, 10)"
      ]
     },
     "execution_count": 163,
     "metadata": {},
     "output_type": "execute_result"
    }
   ],
   "source": [
    "abs(-42),sum([1,2,3,4])"
   ]
  },
  {
   "cell_type": "code",
   "execution_count": 159,
   "id": "239fea40-96d1-4c07-bc0a-78bf8e207baf",
   "metadata": {},
   "outputs": [
    {
     "data": {
      "text/plain": [
       "(16, 16)"
      ]
     },
     "execution_count": 159,
     "metadata": {},
     "output_type": "execute_result"
    }
   ],
   "source": [
    "pow(2,4), 2 **4"
   ]
  },
  {
   "cell_type": "code",
   "execution_count": 164,
   "id": "94a1830d-99b2-463f-bdfb-f4d65acc1fbd",
   "metadata": {},
   "outputs": [
    {
     "data": {
      "text/plain": [
       "(1, 9)"
      ]
     },
     "execution_count": 164,
     "metadata": {},
     "output_type": "execute_result"
    }
   ],
   "source": [
    "min(2,1),max(9,0)"
   ]
  },
  {
   "cell_type": "code",
   "execution_count": 166,
   "id": "093bd952-8b60-41d5-b895-ad47cb7871f3",
   "metadata": {},
   "outputs": [
    {
     "data": {
      "text/plain": [
       "1.7320508075688772"
      ]
     },
     "execution_count": 166,
     "metadata": {},
     "output_type": "execute_result"
    }
   ],
   "source": [
    "math.sqrt(3)"
   ]
  },
  {
   "cell_type": "code",
   "execution_count": 167,
   "id": "c7c791fd-58a8-409e-b174-c648ca7a9738",
   "metadata": {},
   "outputs": [
    {
     "data": {
      "text/plain": [
       "0.03489949670250097"
      ]
     },
     "execution_count": 167,
     "metadata": {},
     "output_type": "execute_result"
    }
   ],
   "source": [
    "math.sin(2 * math.pi / 180)"
   ]
  },
  {
   "cell_type": "code",
   "execution_count": 168,
   "id": "30ed8cda-6ca0-431e-a456-94bcadd7e0e7",
   "metadata": {},
   "outputs": [
    {
     "data": {
      "text/plain": [
       "(2, -2)"
      ]
     },
     "execution_count": 168,
     "metadata": {},
     "output_type": "execute_result"
    }
   ],
   "source": [
    "math.trunc(2.567),math.trunc(-2.567)"
   ]
  },
  {
   "cell_type": "code",
   "execution_count": 175,
   "id": "b5e0cb2f-ff90-4745-8c9d-ac37417b4d1a",
   "metadata": {},
   "outputs": [
    {
     "data": {
      "text/plain": [
       "(' 2.6', '3.89')"
      ]
     },
     "execution_count": 175,
     "metadata": {},
     "output_type": "execute_result"
    }
   ],
   "source": [
    "' %.1f' % 2.567, '{0:.2f}'.format(3.89)\n"
   ]
  },
  {
   "cell_type": "code",
   "execution_count": 174,
   "id": "9f88b58b-c067-41cf-9a78-692e5567fb55",
   "metadata": {},
   "outputs": [
    {
     "data": {
      "text/plain": [
       "(4, 1)"
      ]
     },
     "execution_count": 174,
     "metadata": {},
     "output_type": "execute_result"
    }
   ],
   "source": [
    "round(3.89),1 #round(2.467),round(2.567,2)"
   ]
  },
  {
   "cell_type": "code",
   "execution_count": 176,
   "id": "64177af4-bbb3-41e4-aa94-292d0e4448ef",
   "metadata": {},
   "outputs": [
    {
     "data": {
      "text/plain": [
       "0.7321193195055136"
      ]
     },
     "execution_count": 176,
     "metadata": {},
     "output_type": "execute_result"
    }
   ],
   "source": [
    "import random\n",
    "random.random()"
   ]
  },
  {
   "cell_type": "code",
   "execution_count": 177,
   "id": "058f5ec7-be3f-4742-bcfd-5c3cff9bc873",
   "metadata": {},
   "outputs": [
    {
     "data": {
      "text/plain": [
       "0.5973416828095982"
      ]
     },
     "execution_count": 177,
     "metadata": {},
     "output_type": "execute_result"
    }
   ],
   "source": [
    "random.random()"
   ]
  },
  {
   "cell_type": "code",
   "execution_count": 186,
   "id": "2fa38ab1-7525-484a-87b0-21cfc2c6f8ae",
   "metadata": {},
   "outputs": [
    {
     "data": {
      "text/plain": [
       "5"
      ]
     },
     "execution_count": 186,
     "metadata": {},
     "output_type": "execute_result"
    }
   ],
   "source": [
    "random.randint(1,10)"
   ]
  },
  {
   "cell_type": "code",
   "execution_count": 190,
   "id": "e7c4587b-3c5d-4f19-830a-b9928c17fb17",
   "metadata": {},
   "outputs": [
    {
     "data": {
      "text/plain": [
       "'Life of Brian'"
      ]
     },
     "execution_count": 190,
     "metadata": {},
     "output_type": "execute_result"
    }
   ],
   "source": [
    "random.choice(['Life of Brian','Holy grail','meaning of life'])"
   ]
  },
  {
   "cell_type": "code",
   "execution_count": 188,
   "id": "6eb6cf36-146c-490f-ab75-1295df57ecb7",
   "metadata": {},
   "outputs": [
    {
     "data": {
      "text/plain": [
       "'Holy grail'"
      ]
     },
     "execution_count": 188,
     "metadata": {},
     "output_type": "execute_result"
    }
   ],
   "source": [
    "random.choice(['Life of Brian','Holy grail','meaning of life'])"
   ]
  },
  {
   "cell_type": "code",
   "execution_count": 197,
   "id": "76df05bf-f97e-4d78-91af-eb74be7f9559",
   "metadata": {},
   "outputs": [
    {
     "data": {
      "text/plain": [
       "Decimal('0.14')"
      ]
     },
     "execution_count": 197,
     "metadata": {},
     "output_type": "execute_result"
    }
   ],
   "source": [
    "import decimal\n",
    "decimal.getcontext().prec = 2\n",
    "decimal.Decimal(1)/ decimal.Decimal(7)"
   ]
  },
  {
   "cell_type": "code",
   "execution_count": 198,
   "id": "a2e9dab8-1fac-4968-8874-324fb4874c23",
   "metadata": {},
   "outputs": [],
   "source": [
    "from fractions import Fraction\n",
    "x = Fraction(1,3)\n",
    "y = Fraction(4,6)"
   ]
  },
  {
   "cell_type": "code",
   "execution_count": 199,
   "id": "81cfcf98-ba7a-451f-9a74-ce303d8aed51",
   "metadata": {},
   "outputs": [
    {
     "data": {
      "text/plain": [
       "Fraction(1, 3)"
      ]
     },
     "execution_count": 199,
     "metadata": {},
     "output_type": "execute_result"
    }
   ],
   "source": [
    "x"
   ]
  },
  {
   "cell_type": "code",
   "execution_count": 200,
   "id": "17e5ecdc-85e0-4fe6-8333-c139e2ffa8e4",
   "metadata": {},
   "outputs": [
    {
     "data": {
      "text/plain": [
       "Fraction(2, 3)"
      ]
     },
     "execution_count": 200,
     "metadata": {},
     "output_type": "execute_result"
    }
   ],
   "source": [
    "y"
   ]
  },
  {
   "cell_type": "code",
   "execution_count": 201,
   "id": "ec56ea25-d22d-4c99-b526-f5dc3da921c6",
   "metadata": {},
   "outputs": [
    {
     "name": "stdout",
     "output_type": "stream",
     "text": [
      "2/3\n"
     ]
    }
   ],
   "source": [
    "print(y)"
   ]
  },
  {
   "cell_type": "code",
   "execution_count": 202,
   "id": "0309c229-8981-437a-8dd7-1b0aa5e90a08",
   "metadata": {},
   "outputs": [
    {
     "data": {
      "text/plain": [
       "Fraction(1, 1)"
      ]
     },
     "execution_count": 202,
     "metadata": {},
     "output_type": "execute_result"
    }
   ],
   "source": [
    "x + y"
   ]
  },
  {
   "cell_type": "code",
   "execution_count": 203,
   "id": "10e3662d-6a88-4aa6-8481-2fb2bcfc1292",
   "metadata": {},
   "outputs": [
    {
     "data": {
      "text/plain": [
       "Fraction(-1, 3)"
      ]
     },
     "execution_count": 203,
     "metadata": {},
     "output_type": "execute_result"
    }
   ],
   "source": [
    "x -y "
   ]
  },
  {
   "cell_type": "code",
   "execution_count": 204,
   "id": "fd37150f-2c10-4c42-be6e-aba2c2d0ec8d",
   "metadata": {},
   "outputs": [
    {
     "data": {
      "text/plain": [
       "Fraction(2, 9)"
      ]
     },
     "execution_count": 204,
     "metadata": {},
     "output_type": "execute_result"
    }
   ],
   "source": [
    "x * y"
   ]
  },
  {
   "cell_type": "markdown",
   "id": "a2cd8bb2-0144-4a35-8984-1d5e0a34d080",
   "metadata": {},
   "source": [
    "## Sets Operation"
   ]
  },
  {
   "cell_type": "code",
   "execution_count": 206,
   "id": "8a57a8bb-4abf-408f-b624-0612fdefbe95",
   "metadata": {},
   "outputs": [
    {
     "data": {
      "text/plain": [
       "{'a', 'b', 'c', 'd', 'e'}"
      ]
     },
     "execution_count": 206,
     "metadata": {},
     "output_type": "execute_result"
    }
   ],
   "source": [
    "x = set('abcde')\n",
    "y = set('dbxyz')\n",
    "x"
   ]
  },
  {
   "cell_type": "code",
   "execution_count": 208,
   "id": "0d40d890-0a87-4ae7-8962-47824dbc6a94",
   "metadata": {},
   "outputs": [
    {
     "data": {
      "text/plain": [
       "{'a', 'b', 'c', 'd', 'e'}"
      ]
     },
     "execution_count": 208,
     "metadata": {},
     "output_type": "execute_result"
    }
   ],
   "source": [
    "set(['a','c','b','d','e'])"
   ]
  },
  {
   "cell_type": "code",
   "execution_count": 209,
   "id": "a561882f-6fc1-4dce-88f6-9d4988001641",
   "metadata": {},
   "outputs": [
    {
     "data": {
      "text/plain": [
       "True"
      ]
     },
     "execution_count": 209,
     "metadata": {},
     "output_type": "execute_result"
    }
   ],
   "source": [
    "'e' in x "
   ]
  },
  {
   "cell_type": "code",
   "execution_count": 214,
   "id": "f810c7c0-0618-4bbc-81ff-f994fc480b9b",
   "metadata": {},
   "outputs": [
    {
     "data": {
      "text/plain": [
       "{'a', 'c', 'e'}"
      ]
     },
     "execution_count": 214,
     "metadata": {},
     "output_type": "execute_result"
    }
   ],
   "source": [
    "x - y  #diff"
   ]
  },
  {
   "cell_type": "code",
   "execution_count": 215,
   "id": "198d90a0-ac47-44f9-a49a-17239cf5d0ad",
   "metadata": {},
   "outputs": [
    {
     "data": {
      "text/plain": [
       "{'a', 'b', 'c', 'd', 'e', 'x', 'y', 'z'}"
      ]
     },
     "execution_count": 215,
     "metadata": {},
     "output_type": "execute_result"
    }
   ],
   "source": [
    "x | y   # union"
   ]
  },
  {
   "cell_type": "code",
   "execution_count": 216,
   "id": "d2a3c545-f887-421f-9975-b801d152bd36",
   "metadata": {},
   "outputs": [
    {
     "data": {
      "text/plain": [
       "{'b', 'd'}"
      ]
     },
     "execution_count": 216,
     "metadata": {},
     "output_type": "execute_result"
    }
   ],
   "source": [
    "x & y   # intersect"
   ]
  },
  {
   "cell_type": "code",
   "execution_count": 217,
   "id": "133736e9-9dc2-4903-970b-641fff3a2eb1",
   "metadata": {},
   "outputs": [
    {
     "data": {
      "text/plain": [
       "{'a', 'c', 'e', 'x', 'y', 'z'}"
      ]
     },
     "execution_count": 217,
     "metadata": {},
     "output_type": "execute_result"
    }
   ],
   "source": [
    "x ^ y  # symmetric diff"
   ]
  },
  {
   "cell_type": "code",
   "execution_count": 218,
   "id": "d825e3ec-2126-4fcc-baa5-6d3137d98c33",
   "metadata": {},
   "outputs": [
    {
     "data": {
      "text/plain": [
       "{'x', 'y', 'z'}"
      ]
     },
     "execution_count": 218,
     "metadata": {},
     "output_type": "execute_result"
    }
   ],
   "source": [
    "y - x"
   ]
  },
  {
   "cell_type": "code",
   "execution_count": 219,
   "id": "6643e3e6-93c4-4d52-9157-de0d0148b307",
   "metadata": {},
   "outputs": [
    {
     "data": {
      "text/plain": [
       "False"
      ]
     },
     "execution_count": 219,
     "metadata": {},
     "output_type": "execute_result"
    }
   ],
   "source": [
    "x > y "
   ]
  },
  {
   "cell_type": "code",
   "execution_count": 220,
   "id": "38fbad90-bf8b-44c1-a1a2-afea646166d2",
   "metadata": {},
   "outputs": [
    {
     "data": {
      "text/plain": [
       "{'b', 'd'}"
      ]
     },
     "execution_count": 220,
     "metadata": {},
     "output_type": "execute_result"
    }
   ],
   "source": [
    "z = x.intersection(y)\n",
    "z"
   ]
  },
  {
   "cell_type": "code",
   "execution_count": 223,
   "id": "98277e0d-4eab-478a-b6ca-8bf78b32fb35",
   "metadata": {},
   "outputs": [
    {
     "data": {
      "text/plain": [
       "{'SPAM', 'b', 'd'}"
      ]
     },
     "execution_count": 223,
     "metadata": {},
     "output_type": "execute_result"
    }
   ],
   "source": [
    "z.add('SPAM')\n",
    "z"
   ]
  },
  {
   "cell_type": "code",
   "execution_count": 229,
   "id": "081e3489-0950-4d5d-8a40-dfbd4050921a",
   "metadata": {},
   "outputs": [
    {
     "data": {
      "text/plain": [
       "{'SPAM', 'd', 'x', 'y'}"
      ]
     },
     "execution_count": 229,
     "metadata": {},
     "output_type": "execute_result"
    }
   ],
   "source": [
    "z.update(set(['x','y']))\n",
    "z"
   ]
  },
  {
   "cell_type": "code",
   "execution_count": 236,
   "id": "6905e70f-6c89-431e-a226-b403fcf9144a",
   "metadata": {},
   "outputs": [
    {
     "name": "stdout",
     "output_type": "stream",
     "text": [
      "aaa\n",
      "ccc\n",
      "bbb\n"
     ]
    }
   ],
   "source": [
    "for item in set('abc'): print(item * 3) # Because they are unordered , though, they don't support sequence operations like indexing and slicing"
   ]
  },
  {
   "cell_type": "code",
   "execution_count": 238,
   "id": "b0e1e39c-7311-45c6-bdd7-20a808733fbc",
   "metadata": {},
   "outputs": [
    {
     "name": "stdout",
     "output_type": "stream",
     "text": [
      "name\n",
      "roll\n"
     ]
    }
   ],
   "source": [
    "D = {'name':1,'roll':2}\n",
    "for item in D:\n",
    "    print(item)"
   ]
  },
  {
   "cell_type": "code",
   "execution_count": 239,
   "id": "a4ffaf59-a6f3-49b6-9eef-6897ce35145b",
   "metadata": {},
   "outputs": [
    {
     "name": "stdout",
     "output_type": "stream",
     "text": [
      "1\n",
      "2\n",
      "3\n"
     ]
    }
   ],
   "source": [
    "list=[1,2,3]\n",
    "for item in list:\n",
    "    print(item)"
   ]
  },
  {
   "cell_type": "code",
   "execution_count": 240,
   "id": "7b26e9bb-093e-4219-a0ac-371375e775f0",
   "metadata": {},
   "outputs": [
    {
     "data": {
      "text/plain": [
       "{1, 2, 3, 4}"
      ]
     },
     "execution_count": 240,
     "metadata": {},
     "output_type": "execute_result"
    }
   ],
   "source": [
    "k = {1,2,3,4}\n",
    "k"
   ]
  },
  {
   "cell_type": "code",
   "execution_count": 250,
   "id": "2c8db298-b18c-46cd-ba4b-8bd94bb7858b",
   "metadata": {},
   "outputs": [
    {
     "data": {
      "text/plain": [
       "'spam'"
      ]
     },
     "execution_count": 250,
     "metadata": {},
     "output_type": "execute_result"
    }
   ],
   "source": [
    "a = 3 \n",
    "b = a\n",
    "a = 'spam'\n",
    "a"
   ]
  },
  {
   "cell_type": "code",
   "execution_count": 252,
   "id": "6e3dd0a9-3cfb-4418-8ee9-5004d2bd4d81",
   "metadata": {},
   "outputs": [
    {
     "data": {
      "text/plain": [
       "5"
      ]
     },
     "execution_count": 252,
     "metadata": {},
     "output_type": "execute_result"
    }
   ],
   "source": [
    "a= 3\n",
    "b = a\n",
    "a = a+2\n",
    "a"
   ]
  },
  {
   "cell_type": "code",
   "execution_count": 277,
   "id": "c012ea75-8edc-4953-95bf-a0941ecb8294",
   "metadata": {},
   "outputs": [
    {
     "name": "stdin",
     "output_type": "stream",
     "text": [
      "Enter the radius of the circle:  2\n"
     ]
    },
    {
     "name": "stdout",
     "output_type": "stream",
     "text": [
      "Area of the circle: 12.566370614359172\n"
     ]
    },
    {
     "name": "stdin",
     "output_type": "stream",
     "text": [
      "Enter the base of the triangle:  2\n",
      "Enter the height of the triangle:  1\n"
     ]
    },
    {
     "name": "stdout",
     "output_type": "stream",
     "text": [
      "Area of the triangle: 1.0\n"
     ]
    },
    {
     "name": "stdin",
     "output_type": "stream",
     "text": [
      "Enter the length of the rectangle:  2\n",
      "Enter the width of the rectangle:  2\n"
     ]
    },
    {
     "name": "stdout",
     "output_type": "stream",
     "text": [
      "Area of the rectangle: 4.0\n"
     ]
    },
    {
     "name": "stdin",
     "output_type": "stream",
     "text": [
      "Enter the length of the first side of the triangle:  2\n",
      "Enter the length of the second side of the triangle:  2\n",
      "Enter the length of the third side of the triangle:  2\n"
     ]
    },
    {
     "name": "stdout",
     "output_type": "stream",
     "text": [
      "Perimeter of the triangle: 6.0\n"
     ]
    }
   ],
   "source": [
    "import math\n",
    "\n",
    "class Shape:\n",
    "    def area_circle(self, radius):\n",
    "        return math.pi * radius ** 2\n",
    "\n",
    "    def area_triangle(self, base, height):\n",
    "        return 0.5 * base * height\n",
    "\n",
    "    def area_rectangle(self, length, width):\n",
    "        return length * width\n",
    "\n",
    "    def perimeter_triangle(self, side1, side2, side3):\n",
    "        return side1 + side2 + side3\n",
    "\n",
    "def main():\n",
    "    shape = Shape()\n",
    "    \n",
    "    radius = float(input(\"Enter the radius of the circle: \"))\n",
    "    circle_area = shape.area_circle(radius)\n",
    "    print(f\"Area of the circle: {circle_area}\")\n",
    "\n",
    "    base = float(input(\"Enter the base of the triangle: \"))\n",
    "    height = float(input(\"Enter the height of the triangle: \"))\n",
    "    triangle_area = shape.area_triangle(base, height)\n",
    "    print(f\"Area of the triangle: {triangle_area}\")\n",
    "\n",
    "    length = float(input(\"Enter the length of the rectangle: \"))\n",
    "    width = float(input(\"Enter the width of the rectangle: \"))\n",
    "    rectangle_area = shape.area_rectangle(length, width)\n",
    "    print(f\"Area of the rectangle: {rectangle_area}\")\n",
    "\n",
    "    side1 = float(input(\"Enter the length of the first side of the triangle: \"))\n",
    "    side2 = float(input(\"Enter the length of the second side of the triangle: \"))\n",
    "    side3 = float(input(\"Enter the length of the third side of the triangle: \"))\n",
    "    triangle_perimeter = shape.perimeter_triangle(side1, side2, side3)\n",
    "    print(f\"Perimeter of the triangle: {triangle_perimeter}\")\n",
    "\n",
    "if __name__ == \"__main__\":\n",
    "    main()\n"
   ]
  },
  {
   "cell_type": "code",
   "execution_count": 282,
   "id": "72d030a4-1d0a-449e-92d8-d9c1b1816044",
   "metadata": {},
   "outputs": [
    {
     "data": {
      "text/plain": [
       "b'spam'"
      ]
     },
     "execution_count": 282,
     "metadata": {},
     "output_type": "execute_result"
    }
   ],
   "source": [
    "s = b'spam'\n",
    "s"
   ]
  },
  {
   "cell_type": "code",
   "execution_count": 283,
   "id": "65d19bc2-1cd3-4e36-805c-6082317243f3",
   "metadata": {},
   "outputs": [
    {
     "data": {
      "text/plain": [
       "'pam'"
      ]
     },
     "execution_count": 283,
     "metadata": {},
     "output_type": "execute_result"
    }
   ],
   "source": [
    "s = u'pam'\n",
    "s"
   ]
  },
  {
   "cell_type": "code",
   "execution_count": 286,
   "id": "0eae2aee-fe3a-4042-a234-99e3bdf669a1",
   "metadata": {},
   "outputs": [
    {
     "data": {
      "text/plain": [
       "'\\\\temp\\\\spam'"
      ]
     },
     "execution_count": 286,
     "metadata": {},
     "output_type": "execute_result"
    }
   ],
   "source": [
    "s = r'\\temp\\spam'\n",
    "s"
   ]
  },
  {
   "cell_type": "code",
   "execution_count": 290,
   "id": "ab0f395c-4e12-4d66-841d-fc17efcf707f",
   "metadata": {},
   "outputs": [
    {
     "data": {
      "text/plain": [
       "'ab'"
      ]
     },
     "execution_count": 290,
     "metadata": {},
     "output_type": "execute_result"
    }
   ],
   "source": [
    "s1 = 'a'\n",
    "s2 = 'b'\n",
    "s3 = s1 + s2\n",
    "s3"
   ]
  },
  {
   "cell_type": "code",
   "execution_count": 292,
   "id": "6855b1bd-2c86-42bb-b2de-faf3cf9cf470",
   "metadata": {},
   "outputs": [
    {
     "name": "stdout",
     "output_type": "stream",
     "text": [
      " a kind parrot\n"
     ]
    }
   ],
   "source": [
    "print(\" a {0} parrot\".format(\"kind\"))"
   ]
  },
  {
   "cell_type": "code",
   "execution_count": 297,
   "id": "4ba5be9e-e56e-4c08-876b-58a3900bdf5b",
   "metadata": {},
   "outputs": [
    {
     "data": {
      "text/plain": [
       "0"
      ]
     },
     "execution_count": 297,
     "metadata": {},
     "output_type": "execute_result"
    }
   ],
   "source": [
    "s = 'parrot'\n",
    "s.find('pa')"
   ]
  },
  {
   "cell_type": "code",
   "execution_count": 298,
   "id": "e3f8528c-c52e-46f5-9480-42d643e21af1",
   "metadata": {},
   "outputs": [
    {
     "data": {
      "text/plain": [
       "'parrot'"
      ]
     },
     "execution_count": 298,
     "metadata": {},
     "output_type": "execute_result"
    }
   ],
   "source": [
    "s.rstrip()"
   ]
  },
  {
   "cell_type": "code",
   "execution_count": 299,
   "id": "f8ea7526-f572-404b-9505-e9fec0a32a60",
   "metadata": {},
   "outputs": [
    {
     "data": {
      "text/plain": [
       "'xxrrot'"
      ]
     },
     "execution_count": 299,
     "metadata": {},
     "output_type": "execute_result"
    }
   ],
   "source": [
    "s.replace('pa','xx')"
   ]
  },
  {
   "cell_type": "code",
   "execution_count": 300,
   "id": "dfa5ceec-7a33-49a7-83ec-fabf73f17648",
   "metadata": {},
   "outputs": [
    {
     "data": {
      "text/plain": [
       "['parrot']"
      ]
     },
     "execution_count": 300,
     "metadata": {},
     "output_type": "execute_result"
    }
   ],
   "source": [
    "s.split(',')"
   ]
  },
  {
   "cell_type": "code",
   "execution_count": 301,
   "id": "d21fb4dd-5b20-466e-9aee-7c9d2a0ba662",
   "metadata": {},
   "outputs": [
    {
     "data": {
      "text/plain": [
       "False"
      ]
     },
     "execution_count": 301,
     "metadata": {},
     "output_type": "execute_result"
    }
   ],
   "source": [
    "s.isdigit()"
   ]
  },
  {
   "cell_type": "code",
   "execution_count": 302,
   "id": "52edf787-6feb-46e0-b4af-ce8c227140e8",
   "metadata": {},
   "outputs": [
    {
     "data": {
      "text/plain": [
       "'parrot'"
      ]
     },
     "execution_count": 302,
     "metadata": {},
     "output_type": "execute_result"
    }
   ],
   "source": [
    "s.lower()"
   ]
  },
  {
   "cell_type": "code",
   "execution_count": 306,
   "id": "8cf82425-5395-43f4-a58c-bd25c4d5bc6b",
   "metadata": {},
   "outputs": [
    {
     "data": {
      "text/plain": [
       "'pspamaspamrspamrspamospamt'"
      ]
     },
     "execution_count": 306,
     "metadata": {},
     "output_type": "execute_result"
    }
   ],
   "source": [
    "'spam'.join(s)"
   ]
  },
  {
   "cell_type": "code",
   "execution_count": 307,
   "id": "f5aa4222-8e2a-426f-9d10-da5e94a10c2a",
   "metadata": {},
   "outputs": [
    {
     "data": {
      "text/plain": [
       "b'parrot'"
      ]
     },
     "execution_count": 307,
     "metadata": {},
     "output_type": "execute_result"
    }
   ],
   "source": [
    "s.encode('latin-1')"
   ]
  },
  {
   "cell_type": "code",
   "execution_count": 308,
   "id": "ef17aa99-4829-4c72-ac7f-e616c32a10de",
   "metadata": {},
   "outputs": [
    {
     "name": "stdout",
     "output_type": "stream",
     "text": [
      "p\n",
      "a\n",
      "r\n",
      "r\n",
      "o\n",
      "t\n"
     ]
    }
   ],
   "source": [
    "for x in s : print(x)"
   ]
  },
  {
   "cell_type": "code",
   "execution_count": 309,
   "id": "50c376a0-b29d-4919-9e5d-500bda00ad54",
   "metadata": {},
   "outputs": [
    {
     "data": {
      "text/plain": [
       "False"
      ]
     },
     "execution_count": 309,
     "metadata": {},
     "output_type": "execute_result"
    }
   ],
   "source": [
    "'spam' in s"
   ]
  },
  {
   "cell_type": "code",
   "execution_count": 311,
   "id": "0162fceb-594c-43e1-b5ce-7787dc8efd29",
   "metadata": {},
   "outputs": [
    {
     "data": {
      "text/plain": [
       "['pp', 'aa', 'rr', 'rr', 'oo', 'tt']"
      ]
     },
     "execution_count": 311,
     "metadata": {},
     "output_type": "execute_result"
    }
   ],
   "source": [
    "[c * 2 for c in s]"
   ]
  },
  {
   "cell_type": "code",
   "execution_count": 312,
   "id": "0e4c5cfa-47ca-4c85-a89c-cfc9042af4eb",
   "metadata": {},
   "outputs": [
    {
     "data": {
      "text/plain": [
       "<map at 0x25f045a3670>"
      ]
     },
     "execution_count": 312,
     "metadata": {},
     "output_type": "execute_result"
    }
   ],
   "source": [
    "map(ord,s)"
   ]
  },
  {
   "cell_type": "code",
   "execution_count": 313,
   "id": "d63cd833-4e1c-4daf-a994-1923b70b0e9f",
   "metadata": {},
   "outputs": [
    {
     "data": {
      "text/plain": [
       "('knight\"s', \"knight's\")"
      ]
     },
     "execution_count": 313,
     "metadata": {},
     "output_type": "execute_result"
    }
   ],
   "source": [
    "'knight\"s', \"knight's\""
   ]
  },
  {
   "cell_type": "code",
   "execution_count": 314,
   "id": "6ab81ef2-26b0-4f14-a0fa-7926e636adb7",
   "metadata": {},
   "outputs": [
    {
     "data": {
      "text/plain": [
       "'meaning of Life'"
      ]
     },
     "execution_count": 314,
     "metadata": {},
     "output_type": "execute_result"
    }
   ],
   "source": [
    "title = \"meaning \" 'of' \" Life\"\n",
    "title"
   ]
  },
  {
   "cell_type": "code",
   "execution_count": 317,
   "id": "010ad04a-1bb0-4ddd-a311-2c8c653828a8",
   "metadata": {},
   "outputs": [
    {
     "data": {
      "text/plain": [
       "('knight\"s', \"knight's\")"
      ]
     },
     "execution_count": 317,
     "metadata": {},
     "output_type": "execute_result"
    }
   ],
   "source": [
    "'knight\"s', \"knight's\""
   ]
  },
  {
   "cell_type": "code",
   "execution_count": 318,
   "id": "666f4808-2ada-4741-80ba-78c59943abd1",
   "metadata": {},
   "outputs": [
    {
     "data": {
      "text/plain": [
       "115"
      ]
     },
     "execution_count": 318,
     "metadata": {},
     "output_type": "execute_result"
    }
   ],
   "source": [
    "ord('s')"
   ]
  },
  {
   "cell_type": "code",
   "execution_count": 319,
   "id": "fe958c50-fe2c-491d-bd9c-3f6a36af8021",
   "metadata": {},
   "outputs": [
    {
     "data": {
      "text/plain": [
       "'s'"
      ]
     },
     "execution_count": 319,
     "metadata": {},
     "output_type": "execute_result"
    }
   ],
   "source": [
    "chr(115)"
   ]
  },
  {
   "cell_type": "code",
   "execution_count": 323,
   "id": "0aac73e8-6da0-4903-8f2e-414f4be24b7d",
   "metadata": {},
   "outputs": [
    {
     "data": {
      "text/plain": [
       "'6'"
      ]
     },
     "execution_count": 323,
     "metadata": {},
     "output_type": "execute_result"
    }
   ],
   "source": [
    "s = '5'\n",
    "s = chr(ord(s) + 1)\n",
    "s"
   ]
  },
  {
   "cell_type": "code",
   "execution_count": 325,
   "id": "049a1863-2646-4b38-a94f-9bbad37ab662",
   "metadata": {},
   "outputs": [],
   "source": [
    "s = chr(ord(s) +1)"
   ]
  },
  {
   "cell_type": "code",
   "execution_count": 326,
   "id": "01c44af9-722b-45e3-a884-f80a2aaaef81",
   "metadata": {},
   "outputs": [
    {
     "data": {
      "text/plain": [
       "5"
      ]
     },
     "execution_count": 326,
     "metadata": {},
     "output_type": "execute_result"
    }
   ],
   "source": [
    "int('5')"
   ]
  },
  {
   "cell_type": "code",
   "execution_count": 327,
   "id": "6f8ff37d-60f4-4840-b19d-7021627fb7d8",
   "metadata": {},
   "outputs": [
    {
     "data": {
      "text/plain": [
       "5"
      ]
     },
     "execution_count": 327,
     "metadata": {},
     "output_type": "execute_result"
    }
   ],
   "source": [
    "ord('5') - ord('0')"
   ]
  },
  {
   "cell_type": "code",
   "execution_count": 328,
   "id": "47959093-97fd-47de-ac19-9a72612edd97",
   "metadata": {},
   "outputs": [
    {
     "data": {
      "text/plain": [
       "'spamalot'"
      ]
     },
     "execution_count": 328,
     "metadata": {},
     "output_type": "execute_result"
    }
   ],
   "source": [
    "s = 'splot'\n",
    "s = s.replace('pl','pamal')\n",
    "s"
   ]
  },
  {
   "cell_type": "code",
   "execution_count": 329,
   "id": "fb2038a6-6711-4a44-88e8-2aacdee06ea6",
   "metadata": {},
   "outputs": [
    {
     "data": {
      "text/plain": [
       "'That is 1 dead bird!'"
      ]
     },
     "execution_count": 329,
     "metadata": {},
     "output_type": "execute_result"
    }
   ],
   "source": [
    "'That is %d %s bird!' % (1,'dead')"
   ]
  },
  {
   "cell_type": "code",
   "execution_count": 332,
   "id": "e335f2d6-7aad-42d1-80e6-6541d97eeadf",
   "metadata": {},
   "outputs": [
    {
     "data": {
      "text/plain": [
       "'Parrot'"
      ]
     },
     "execution_count": 332,
     "metadata": {},
     "output_type": "execute_result"
    }
   ],
   "source": [
    "s = 'parrot'\n",
    "s.capitalize()"
   ]
  },
  {
   "cell_type": "code",
   "execution_count": 338,
   "id": "e69f44cc-f64a-44d6-9e3d-186ffa03bb6b",
   "metadata": {},
   "outputs": [
    {
     "data": {
      "text/plain": [
       "4"
      ]
     },
     "execution_count": 338,
     "metadata": {},
     "output_type": "execute_result"
    }
   ],
   "source": [
    "s = 'xxxxSPAMxxxxSPAMxxxx'\n",
    "where = s.find('SPAM')\n",
    "where"
   ]
  },
  {
   "cell_type": "code",
   "execution_count": 339,
   "id": "7e87fee7-37d8-4e43-a2b9-cfc8d7fa8db1",
   "metadata": {},
   "outputs": [],
   "source": [
    "s = s[:where] + 'EGGS' + s[(where+4):]"
   ]
  },
  {
   "cell_type": "code",
   "execution_count": null,
   "id": "b1fe4be6-e4ba-4537-9e0f-3492d572f0f4",
   "metadata": {},
   "outputs": [],
   "source": []
  }
 ],
 "metadata": {
  "kernelspec": {
   "display_name": "Python 3 (ipykernel)",
   "language": "python",
   "name": "python3"
  },
  "language_info": {
   "codemirror_mode": {
    "name": "ipython",
    "version": 3
   },
   "file_extension": ".py",
   "mimetype": "text/x-python",
   "name": "python",
   "nbconvert_exporter": "python",
   "pygments_lexer": "ipython3",
   "version": "3.11.9"
  }
 },
 "nbformat": 4,
 "nbformat_minor": 5
}
