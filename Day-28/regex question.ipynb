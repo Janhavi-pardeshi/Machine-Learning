{
 "cells": [
  {
   "cell_type": "code",
   "execution_count": 4,
   "id": "70090bee",
   "metadata": {},
   "outputs": [
    {
     "ename": "TypeError",
     "evalue": "match() missing 1 required positional argument: 'string'",
     "output_type": "error",
     "traceback": [
      "\u001b[1;31m---------------------------------------------------------------------------\u001b[0m",
      "\u001b[1;31mTypeError\u001b[0m                                 Traceback (most recent call last)",
      "\u001b[1;32m~\\AppData\\Local\\Temp/ipykernel_20784/3471507799.py\u001b[0m in \u001b[0;36m<module>\u001b[1;34m\u001b[0m\n\u001b[0;32m      3\u001b[0m \u001b[1;33m\u001b[0m\u001b[0m\n\u001b[0;32m      4\u001b[0m \u001b[0mstring\u001b[0m\u001b[1;33m=\u001b[0m \u001b[1;34m\"we have to find brown.fox in the string.\"\u001b[0m\u001b[1;33m\u001b[0m\u001b[1;33m\u001b[0m\u001b[0m\n\u001b[1;32m----> 5\u001b[1;33m \u001b[0mpattern\u001b[0m \u001b[1;33m=\u001b[0m \u001b[0mre\u001b[0m\u001b[1;33m.\u001b[0m\u001b[0mmatch\u001b[0m\u001b[1;33m(\u001b[0m\u001b[1;34mr\"[brown.fox]\"\u001b[0m\u001b[1;33m)\u001b[0m\u001b[1;33m\u001b[0m\u001b[1;33m\u001b[0m\u001b[0m\n\u001b[0m\u001b[0;32m      6\u001b[0m \u001b[1;33m\u001b[0m\u001b[0m\n\u001b[0;32m      7\u001b[0m \u001b[0mmatch\u001b[0m \u001b[1;33m=\u001b[0m \u001b[0mre\u001b[0m\u001b[1;33m.\u001b[0m\u001b[0msearch\u001b[0m\u001b[1;33m(\u001b[0m\u001b[0mpattern\u001b[0m\u001b[1;33m,\u001b[0m\u001b[0mstring\u001b[0m\u001b[1;33m)\u001b[0m\u001b[1;33m\u001b[0m\u001b[1;33m\u001b[0m\u001b[0m\n",
      "\u001b[1;31mTypeError\u001b[0m: match() missing 1 required positional argument: 'string'"
     ]
    }
   ],
   "source": [
    "# this code uses a regular expression to search for the pattern \"brown.fox\" within the string. the dot (.) in the pattern represent any character. if a match is found, it prints \"match found!\" otherwise. it points\"match not found\".\n",
    "import re\n",
    "\n",
    "string= \"we have to find brown.fox in the string.\"\n",
    "pattern = re.match(r\"[brown.fox]\")\n",
    "\n",
    "match = re.search(pattern,string)\n",
    "\n",
    "if match :\n",
    "    print(\"match\")\n",
    "print(\"not match\")"
   ]
  },
  {
   "cell_type": "code",
   "execution_count": 5,
   "id": "88c1b4c2",
   "metadata": {},
   "outputs": [
    {
     "name": "stdout",
     "output_type": "stream",
     "text": [
      "s-*ject has -*er booked already\n"
     ]
    }
   ],
   "source": [
    "import re \n",
    "print(re.sub('ub', '-*',\"subject has uber booked already\",flags = re.I))"
   ]
  },
  {
   "cell_type": "code",
   "execution_count": 7,
   "id": "8f053c71",
   "metadata": {},
   "outputs": [
    {
     "name": "stdout",
     "output_type": "stream",
     "text": [
      "s-*ject has -*er booked already\n"
     ]
    }
   ],
   "source": [
    "print(re.sub('ub', '-*',\"subject has uber booked already\"))"
   ]
  },
  {
   "cell_type": "code",
   "execution_count": 8,
   "id": "87505ef1",
   "metadata": {},
   "outputs": [
    {
     "name": "stdout",
     "output_type": "stream",
     "text": [
      "s-*ject has uber booked already\n"
     ]
    }
   ],
   "source": [
    "print(re.sub('ub', '-*',\"subject has uber booked already\",count=1, flags =re.I))"
   ]
  },
  {
   "cell_type": "code",
   "execution_count": 9,
   "id": "7c71351f",
   "metadata": {},
   "outputs": [
    {
     "name": "stdout",
     "output_type": "stream",
     "text": [
      "baked beans&spam\n"
     ]
    }
   ],
   "source": [
    "print(re.sub(r'\\sAND\\s','&',\"baked beans And spam\",flags = re.I))"
   ]
  },
  {
   "cell_type": "code",
   "execution_count": 1,
   "id": "d00e823e",
   "metadata": {},
   "outputs": [
    {
     "name": "stdout",
     "output_type": "stream",
     "text": [
      "are 20\n"
     ]
    }
   ],
   "source": [
    "# check patterns\n",
    "# 1) start char  2) space 3) digits\n",
    "\n",
    "\n",
    "import re\n",
    "\n",
    "string = \"here are 20 students sitting in class\"\n",
    "\n",
    "pattern = '(\\D{3}) (\\d{2})'\n",
    "\n",
    "match = re.search(pattern,string)\n",
    "\n",
    "if match :\n",
    "    print(match.group())\n",
    "\n",
    "\n"
   ]
  },
  {
   "cell_type": "code",
   "execution_count": 5,
   "id": "1c235a8d",
   "metadata": {},
   "outputs": [
    {
     "name": "stdout",
     "output_type": "stream",
     "text": [
      " e\n"
     ]
    }
   ],
   "source": [
    "# check string end with ey\n",
    "\n",
    "import re\n",
    "\n",
    "string = \"it ends with 123eyey\"\n",
    "\n",
    "pattern = ' [eyEy]'\n",
    "\n",
    "match = re.search(pattern,string)\n",
    "\n",
    "if match :\n",
    "    print(match.group())\n",
    "\n"
   ]
  },
  {
   "cell_type": "code",
   "execution_count": 13,
   "id": "ac6f4ef2",
   "metadata": {},
   "outputs": [
    {
     "name": "stdout",
     "output_type": "stream",
     "text": [
      "not matched\n"
     ]
    }
   ],
   "source": [
    "# check string end with ey\n",
    "\n",
    "import re\n",
    "\n",
    "string = \"it ends with 123eyey\"\n",
    "\n",
    "pattern = '(\\b[eyEy])'   # 'ey$|ey'               re.findall()\n",
    "\n",
    "match = re.search(pattern,string)\n",
    "\n",
    "if match :\n",
    "    print(match.group())\n",
    "    print(\"matched\")\n",
    "else:\n",
    "    print(\"not matched\")\n",
    "\n"
   ]
  },
  {
   "cell_type": "code",
   "execution_count": 17,
   "id": "3c352946",
   "metadata": {},
   "outputs": [
    {
     "name": "stdout",
     "output_type": "stream",
     "text": [
      "not matched\n"
     ]
    }
   ],
   "source": [
    "# check special character at end\n",
    "\n",
    "string = \"hello@ if$ not! available@ do~ your$ lec@\"\n",
    "pattern = '(\\W{@})'\n",
    "\n",
    "match = re.match(pattern,string)\n",
    "\n",
    "\n",
    "if match :\n",
    "    print(match.group())\n",
    "    print(\"matched\")\n",
    "else:\n",
    "    print(\"not matched\")\n"
   ]
  },
  {
   "cell_type": "code",
   "execution_count": 34,
   "id": "50fcbbd4",
   "metadata": {},
   "outputs": [
    {
     "name": "stdout",
     "output_type": "stream",
     "text": [
      "['wh@t ', 'wr!ti']\n"
     ]
    }
   ],
   "source": [
    "# write a prgm which contain special character in **middle** of word\n",
    "\n",
    "import re\n",
    "\n",
    "string = \"hello@ wh@t arewr!ting\"\n",
    "\n",
    "pattern = '(.[a-z]\\W[a-z].)'\n",
    "match = re.findall(pattern,string)\n",
    "\n",
    "print(match)\n"
   ]
  },
  {
   "cell_type": "code",
   "execution_count": 35,
   "id": "9bdc94b2",
   "metadata": {},
   "outputs": [
    {
     "name": "stdout",
     "output_type": "stream",
     "text": [
      "['h@t', 'r!t']\n"
     ]
    }
   ],
   "source": [
    "# write a prgm which contain special character in **middle** of word\n",
    "\n",
    "import re\n",
    "\n",
    "string = \"hello@ wh@t arewr!ting\"\n",
    "\n",
    "pattern = '\\w\\W\\w'\n",
    "match = re.findall(pattern,string)\n",
    "\n",
    "print(match)\n"
   ]
  },
  {
   "cell_type": "code",
   "execution_count": null,
   "id": "e1dac513",
   "metadata": {},
   "outputs": [],
   "source": [
    "#tokenization\n",
    "# count words in the sentences\n",
    "\n",
    "import re\n"
   ]
  },
  {
   "cell_type": "code",
   "execution_count": null,
   "id": "2823fe25",
   "metadata": {},
   "outputs": [],
   "source": [
    "#count words in a sentence... can be multiline as well"
   ]
  },
  {
   "cell_type": "code",
   "execution_count": 55,
   "id": "5554f9ce",
   "metadata": {},
   "outputs": [
    {
     "name": "stdout",
     "output_type": "stream",
     "text": [
      "Avalue:  ['12345']\n",
      "bvalue:  ['\\n']\n",
      "Avalue:  ['12345', '1']\n",
      "bvalue:  ['\\n', ' hi there \\n']\n",
      "Avalue:  ['12345', '1', '2']\n",
      "bvalue:  ['\\n', ' hi there \\n', ' how are you doing\\n']\n",
      "Avalue:  ['12345', '1', '2', '3']\n",
      "bvalue:  ['\\n', ' hi there \\n', ' how are you doing\\n', ' we will meet today\\n']\n",
      "Avalue:  ['12345', '1', '2', '3', '4']\n",
      "bvalue:  ['\\n', ' hi there \\n', ' how are you doing\\n', ' we will meet today\\n', ' do read that book']\n"
     ]
    }
   ],
   "source": [
    "#========================text analysis========================\n",
    "import re \n",
    "\n",
    "pattern_a = r'\\d+'\n",
    "pattern_b = r'\\D+'\n",
    "\n",
    "\n",
    "a_values = []\n",
    "b_values = []\n",
    "\n",
    "with open('config.txt','r') as file:\n",
    "    for line in file:\n",
    "        \n",
    "        matches_a = re.findall(pattern_a,line)\n",
    "        matches_b = re.findall(pattern_b,line)\n",
    "\n",
    "        a_values.extend(matches_a)\n",
    "        b_values.extend(matches_b)\n",
    "        \n",
    "        print(\"Avalue: \",a_values)\n",
    "        print(\"bvalue: \",b_values)\n"
   ]
  },
  {
   "cell_type": "code",
   "execution_count": null,
   "id": "d35d1314",
   "metadata": {},
   "outputs": [],
   "source": [
    "# regular expression are a powerful tool for pattern matching within string, undestanding the fundamenta componenets of regex such as character classes , quantifier, assertion and alternations is essential for leveraging their full potential\n",
    "\n",
    "# 1. character classes = []\n",
    "''' 2. quantifiers = * -> matches 0 or more occurance\n",
    "+ -> 1 or more\n",
    "? -> 0 or 1\n",
    "{n} -> n \n",
    "{n,} -> more than n\n",
    "{n,m} -> in between'''\n"
   ]
  },
  {
   "cell_type": "code",
   "execution_count": 71,
   "id": "41616dae",
   "metadata": {},
   "outputs": [
    {
     "name": "stdout",
     "output_type": "stream",
     "text": [
      "[]\n"
     ]
    }
   ],
   "source": [
    "text = \"the rain in spain falls mainly in the plain.\"\n",
    "\n",
    "matches = re.findall(r'\\b\\w*l+\\b',text)\n",
    "\n",
    "print(matches)"
   ]
  },
  {
   "cell_type": "code",
   "execution_count": 72,
   "id": "0d1a3140",
   "metadata": {},
   "outputs": [
    {
     "name": "stdout",
     "output_type": "stream",
     "text": [
      "['fall', 'mainl', 'pl']\n"
     ]
    }
   ],
   "source": [
    "text = \"the rain in spain falls mainly in the plain.\"\n",
    "\n",
    "matches = re.findall(r'\\w*l+',text)\n",
    "\n",
    "print(matches)"
   ]
  },
  {
   "cell_type": "code",
   "execution_count": 75,
   "id": "7acf35ff",
   "metadata": {},
   "outputs": [
    {
     "name": "stdout",
     "output_type": "stream",
     "text": [
      "['lovely', 'falls', 'mainly', 'plain']\n"
     ]
    }
   ],
   "source": [
    "text = \"the lovely rain in spain falls mainly in the plain.\"\n",
    "\n",
    "matches = re.findall(r'\\w*l+\\w*',text)\n",
    "\n",
    "print(matches)"
   ]
  },
  {
   "cell_type": "code",
   "execution_count": 82,
   "id": "22f6b046",
   "metadata": {},
   "outputs": [
    {
     "name": "stdout",
     "output_type": "stream",
     "text": [
      "['Jhon', 'Ted']\n"
     ]
    }
   ],
   "source": [
    "text = \"Jhon: 120, Bill: 110, Ted: 125\"\n",
    "\n",
    "matches = re.findall(r'\\b\\w+(?=: 1[2-9]\\d)',  text)\n",
    "\n",
    "print(matches)"
   ]
  },
  {
   "cell_type": "code",
   "execution_count": 105,
   "id": "9430762e",
   "metadata": {},
   "outputs": [],
   "source": [
    "import csv\n",
    "import re\n",
    "\n",
    "date_pattern = r'\\d{2}/\\d{2}/20\\d{2}'\n",
    "matching_rows = []\n",
    "\n",
    "with open(\"data.csv\", mode='r') as file:\n",
    "    csv_reader = csv.DictReader(file)\n",
    "    for row in csv_reader:\n",
    "        if row['A'] == \"Custom word check\" and re.match(date_pattern, row['B']):\n",
    "            matching_rows.append(row)  \n",
    "\n",
    "    for match in matching_rows:\n",
    "        print(match)\n"
   ]
  },
  {
   "cell_type": "code",
   "execution_count": null,
   "id": "4aa944ac",
   "metadata": {},
   "outputs": [],
   "source": []
  }
 ],
 "metadata": {
  "kernelspec": {
   "display_name": "Python 3 (ipykernel)",
   "language": "python",
   "name": "python3"
  },
  "language_info": {
   "codemirror_mode": {
    "name": "ipython",
    "version": 3
   },
   "file_extension": ".py",
   "mimetype": "text/x-python",
   "name": "python",
   "nbconvert_exporter": "python",
   "pygments_lexer": "ipython3",
   "version": "3.9.7"
  }
 },
 "nbformat": 4,
 "nbformat_minor": 5
}
