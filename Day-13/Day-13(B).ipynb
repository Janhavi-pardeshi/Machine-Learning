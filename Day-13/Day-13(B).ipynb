{
 "cells": [
  {
   "cell_type": "markdown",
   "id": "8f7ba66b-5ca4-4903-b39e-5cac3732bc57",
   "metadata": {},
   "source": [
    "## Recursion"
   ]
  },
  {
   "cell_type": "code",
   "execution_count": 1,
   "id": "9a32a2f0-cce4-48ea-b5d2-4199fa2f2423",
   "metadata": {},
   "outputs": [
    {
     "data": {
      "text/plain": [
       "[11, 111, 1111, 11111, 111111]"
      ]
     },
     "execution_count": 1,
     "metadata": {},
     "output_type": "execute_result"
    }
   ],
   "source": [
    "a = [1, 11, 111, 1111, 11111, 111111]\n",
    "a[1:]"
   ]
  },
  {
   "cell_type": "code",
   "execution_count": 2,
   "id": "bd3d4cec-0e22-40c5-8f43-a0d2959206f1",
   "metadata": {},
   "outputs": [
    {
     "data": {
      "text/plain": [
       "[111, 1111, 11111, 111111]"
      ]
     },
     "execution_count": 2,
     "metadata": {},
     "output_type": "execute_result"
    }
   ],
   "source": [
    "a[2:]"
   ]
  },
  {
   "cell_type": "code",
   "execution_count": 4,
   "id": "f5f3e478-56d0-42b3-a7c9-69363a93d16b",
   "metadata": {},
   "outputs": [
    {
     "data": {
      "text/plain": [
       "[1111, 11111, 111111]"
      ]
     },
     "execution_count": 4,
     "metadata": {},
     "output_type": "execute_result"
    }
   ],
   "source": [
    "a[3:]"
   ]
  },
  {
   "cell_type": "code",
   "execution_count": 5,
   "id": "80058671-31cd-4a2e-8468-2408a5c150f5",
   "metadata": {},
   "outputs": [
    {
     "data": {
      "text/plain": [
       "[1111, 11111]"
      ]
     },
     "execution_count": 5,
     "metadata": {},
     "output_type": "execute_result"
    }
   ],
   "source": [
    "a[3:5]"
   ]
  },
  {
   "cell_type": "code",
   "execution_count": 14,
   "id": "55b3d03f-c7b4-4d44-8c5f-98375b5d5aaa",
   "metadata": {},
   "outputs": [
    {
     "data": {
      "text/plain": [
       "15"
      ]
     },
     "execution_count": 14,
     "metadata": {},
     "output_type": "execute_result"
    }
   ],
   "source": [
    "def sumlist(items):\n",
    "    if items == []:\n",
    "        return 0\n",
    "    else:\n",
    "        return items[0] + sumlist(items[1:])\n",
    "\n",
    "sumlist([1,2,3,4,5])"
   ]
  },
  {
   "cell_type": "code",
   "execution_count": 15,
   "id": "7a2ce07c-8bc5-403b-acb5-447876c6ff12",
   "metadata": {},
   "outputs": [
    {
     "name": "stdout",
     "output_type": "stream",
     "text": [
      "Reversed list:\n",
      "5 4 3 2 1 "
     ]
    }
   ],
   "source": [
    "# using recursion print reverse of list in python \n",
    "\n",
    "def print_reverse_list(lst):\n",
    "    if not lst:\n",
    "        return\n",
    "    print(lst[-1], end=' ')\n",
    "    print_reverse_list(lst[:-1])\n",
    "\n",
    "\n",
    "my_list = [1, 2, 3, 4, 5]\n",
    "print(\"Reversed list:\")\n",
    "print_reverse_list(my_list)\n"
   ]
  },
  {
   "cell_type": "code",
   "execution_count": 17,
   "id": "c3f8c43b-5bf4-4dce-aacd-50f69616002d",
   "metadata": {},
   "outputs": [
    {
     "name": "stdout",
     "output_type": "stream",
     "text": [
      "Element found at index: 8\n"
     ]
    }
   ],
   "source": [
    "#fibonacci search\n",
    "\n",
    "def fibonacci_search(arr, x, offset=0, fib2=0, fib1=1):\n",
    "    fib = fib2 + fib1\n",
    "    return -1 if not arr else (lambda i: i if arr[i] == x else fibonacci_search(arr, x, (i + 1 if arr[i] < x else offset), (fib1 if arr[i] < x else fib2), (fib2 if arr[i] < x else fib1 - fib2)))(min(offset + fib2, len(arr) - 1))\n",
    "\n",
    "arr = [10, 22, 35, 40, 45, 50, 80, 82, 85, 90, 100]\n",
    "x = 85\n",
    "index = fibonacci_search(arr, x)\n",
    "print(f\"Element found at index: {index}\" if index != -1 else \"Element not found in the array\")\n"
   ]
  },
  {
   "cell_type": "markdown",
   "id": "f5978e16-e703-4e5c-b95a-02090a8fb9a2",
   "metadata": {},
   "source": [
    "## Dynamic Programming"
   ]
  },
  {
   "cell_type": "code",
   "execution_count": null,
   "id": "a74b39d0-df4a-47fe-92c5-b52a4931eef0",
   "metadata": {},
   "outputs": [],
   "source": []
  }
 ],
 "metadata": {
  "kernelspec": {
   "display_name": "Python 3 (ipykernel)",
   "language": "python",
   "name": "python3"
  },
  "language_info": {
   "codemirror_mode": {
    "name": "ipython",
    "version": 3
   },
   "file_extension": ".py",
   "mimetype": "text/x-python",
   "name": "python",
   "nbconvert_exporter": "python",
   "pygments_lexer": "ipython3",
   "version": "3.11.9"
  }
 },
 "nbformat": 4,
 "nbformat_minor": 5
}
