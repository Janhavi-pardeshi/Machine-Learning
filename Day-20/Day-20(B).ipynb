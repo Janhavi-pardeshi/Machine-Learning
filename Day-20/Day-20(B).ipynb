{
 "cells": [
  {
   "cell_type": "markdown",
   "id": "dcf6dde9-205c-4bfb-8228-06633a851fd6",
   "metadata": {},
   "source": [
    "## MySql"
   ]
  },
  {
   "cell_type": "code",
   "execution_count": 1,
   "id": "2eb469a2-1e70-40d3-a1b2-cbbecaf016e7",
   "metadata": {},
   "outputs": [
    {
     "name": "stdout",
     "output_type": "stream",
     "text": [
      "Requirement already satisfied: mysql-connector-python in c:\\users\\admin\\appdata\\local\\packages\\pythonsoftwarefoundation.python.3.11_qbz5n2kfra8p0\\localcache\\local-packages\\python311\\site-packages (9.0.0)\n",
      "Note: you may need to restart the kernel to use updated packages.\n"
     ]
    }
   ],
   "source": [
    "pip install mysql-connector-python"
   ]
  },
  {
   "cell_type": "code",
   "execution_count": 2,
   "id": "b1d960f8-3115-42a8-9d13-00ae8c302264",
   "metadata": {},
   "outputs": [],
   "source": [
    "import mysql.connector as sqltor\n",
    "mycon = sqltor.connect(host = \"localhost\",user=\"root\",passwd =\"Saikiran@78\",database=\"student\")"
   ]
  },
  {
   "cell_type": "code",
   "execution_count": 3,
   "id": "0b43334f-6218-41f7-8672-4cfe08db7e13",
   "metadata": {},
   "outputs": [
    {
     "name": "stdout",
     "output_type": "stream",
     "text": [
      "Successfully Connected to MYSQL database\n"
     ]
    }
   ],
   "source": [
    "if mycon.is_connected():\n",
    "    print('Successfully Connected to MYSQL database')"
   ]
  },
  {
   "cell_type": "code",
   "execution_count": 4,
   "id": "d3d931c5-88e9-4d1c-b178-5d93d9df1e72",
   "metadata": {},
   "outputs": [],
   "source": [
    "cursor = mycon.cursor()"
   ]
  },
  {
   "cell_type": "code",
   "execution_count": 5,
   "id": "5398b938-5fbd-449b-aa8a-d84832f3b6de",
   "metadata": {},
   "outputs": [],
   "source": [
    "cursor.execute(\"Select * from stud\")"
   ]
  },
  {
   "cell_type": "code",
   "execution_count": 6,
   "id": "0235446a-eb68-4c9e-909b-dbc91b88741a",
   "metadata": {},
   "outputs": [
    {
     "name": "stdout",
     "output_type": "stream",
     "text": [
      "(1, 'janhavi')\n",
      "(2, 'raksha')\n",
      "(3, 'shruti')\n",
      "(2, 'raksha')\n",
      "(3, 'shruti')\n",
      "(4, 'shubhangi')\n"
     ]
    }
   ],
   "source": [
    "stud = cursor.fetchall()\n",
    "for row in stud:\n",
    "    print(row)"
   ]
  },
  {
   "cell_type": "code",
   "execution_count": 7,
   "id": "e45163cd-5bcd-4876-90df-b381ebf239ee",
   "metadata": {},
   "outputs": [],
   "source": [
    "cursor.execute(\"Insert into stud (id,name) values(2,'raksha')\")"
   ]
  },
  {
   "cell_type": "code",
   "execution_count": 8,
   "id": "26aacfc5-ea40-4b99-bc49-1ea9defdbb51",
   "metadata": {},
   "outputs": [],
   "source": [
    "cursor.execute(\"Insert into stud (id,name) values(3,'shruti')\")"
   ]
  },
  {
   "cell_type": "code",
   "execution_count": 9,
   "id": "f15a7d18-cc98-4a0f-8696-4aa6c7f82ff3",
   "metadata": {},
   "outputs": [],
   "source": [
    "cursor.execute(\"Insert into stud (id,name) values(4,'shubhangi')\")"
   ]
  },
  {
   "cell_type": "code",
   "execution_count": 10,
   "id": "70eb5930-9c76-48bf-8604-6d190cec2987",
   "metadata": {},
   "outputs": [],
   "source": [
    "#mycon.commit()"
   ]
  },
  {
   "cell_type": "code",
   "execution_count": 11,
   "id": "cfb5c28c-1df0-4d68-8d79-2077307923a8",
   "metadata": {},
   "outputs": [],
   "source": [
    "stud = cursor.fetchmany(2)\n",
    "for row in stud:\n",
    "    print(row)"
   ]
  },
  {
   "cell_type": "code",
   "execution_count": 12,
   "id": "22060e38-4e54-44c9-b2da-1689b90da379",
   "metadata": {},
   "outputs": [
    {
     "name": "stdout",
     "output_type": "stream",
     "text": [
      "Total no. of rows retrived from resultset: 1\n",
      "None\n",
      "\n",
      " Again fetching one record\n",
      "Total no. of rows retrived from resultset: 1\n",
      "None\n"
     ]
    }
   ],
   "source": [
    "stud = cursor.fetchone()\n",
    "count = cursor.rowcount\n",
    "print(\"Total no. of rows retrived from resultset:\",count)\n",
    "print(stud)\n",
    "print(\"\\n Again fetching one record\")\n",
    "stud = cursor.fetchone()\n",
    "count = cursor.rowcount\n",
    "print(\"Total no. of rows retrived from resultset:\",count)\n",
    "print(stud)"
   ]
  },
  {
   "cell_type": "code",
   "execution_count": null,
   "id": "0413d3f9-48e1-49f7-aac1-2e5060658b85",
   "metadata": {},
   "outputs": [],
   "source": [
    "cusor.execute(stud)\n",
    "stud = cursor."
   ]
  }
 ],
 "metadata": {
  "kernelspec": {
   "display_name": "Python 3 (ipykernel)",
   "language": "python",
   "name": "python3"
  },
  "language_info": {
   "codemirror_mode": {
    "name": "ipython",
    "version": 3
   },
   "file_extension": ".py",
   "mimetype": "text/x-python",
   "name": "python",
   "nbconvert_exporter": "python",
   "pygments_lexer": "ipython3",
   "version": "3.11.9"
  }
 },
 "nbformat": 4,
 "nbformat_minor": 5
}
