{
 "cells": [
  {
   "cell_type": "code",
   "execution_count": 3,
   "id": "9576bffb-05be-44e6-b1fe-c428591a499c",
   "metadata": {},
   "outputs": [],
   "source": [
    "# Write a python program to check if the two strings are same if second strings can be obtained by doing an leftshift of the first string."
   ]
  },
  {
   "cell_type": "code",
   "execution_count": 20,
   "id": "7cd842ab-4b9f-4e0e-8406-5a14ed9d5082",
   "metadata": {},
   "outputs": [
    {
     "name": "stdout",
     "output_type": "stream",
     "text": [
      "Both strings are the same after left shift:  True\n"
     ]
    }
   ],
   "source": [
    "def leftshift(s1, s2):\n",
    "    if len(s1) != len(s2):\n",
    "        return False\n",
    "\n",
    "    for i in range(len(s1)):\n",
    "        new = s1[i:] + s1[:i]\n",
    "        \n",
    "        if new == s2:\n",
    "            return True\n",
    "\n",
    "    return False\n",
    "\n",
    "s1 = \"abcdef\"\n",
    "s2 = \"cdefab\"\n",
    "result = leftshift(s1, s2)\n",
    "print(\"Both strings are the same after left shift: \",result)"
   ]
  },
  {
   "cell_type": "code",
   "execution_count": 21,
   "id": "7044d5e7-e7da-4beb-90ba-bdc331088e14",
   "metadata": {},
   "outputs": [],
   "source": [
    "# given in list are the number and single number in target,create a logic where sum of three numbers from the list is closest to the target and hence print those three number in python and without built-in function"
   ]
  },
  {
   "cell_type": "code",
   "execution_count": 39,
   "id": "6ca62604-8c7c-47ad-9df8-33532d74d8e7",
   "metadata": {},
   "outputs": [
    {
     "name": "stdout",
     "output_type": "stream",
     "text": [
      "[16, 36, 31, 40, 13, 8, 17, 28, 37, 32]\n"
     ]
    },
    {
     "data": {
      "text/plain": [
       "8"
      ]
     },
     "execution_count": 39,
     "metadata": {},
     "output_type": "execute_result"
    }
   ],
   "source": [
    "list = [1,10,5,25,2]\n",
    "sumList=[]\n",
    "target=1\n",
    "min=100\n",
    "\n",
    "for i in range(len(list)):\n",
    "    for j in range(i):\n",
    "        for k in range(j):\n",
    "            sum = list[i]+list[j]+list[k]\n",
    "            sumList.append(sum)\n",
    "print(sumList)\n",
    "for i in range(len(sumList)-1):\n",
    "    if min>sumList[i]:\n",
    "        min = sumList[i]\n",
    "\n",
    "min"
   ]
  },
  {
   "cell_type": "code",
   "execution_count": 40,
   "id": "7e9b7edc-093b-4a08-aa79-3807efc3a7d5",
   "metadata": {},
   "outputs": [],
   "source": [
    "# write program to print longest substring without repeating the charcter[PWWKEW] in python in simple way without built-in function"
   ]
  },
  {
   "cell_type": "code",
   "execution_count": 44,
   "id": "7b6b786a-f517-44b9-9a4e-369b0e630ac0",
   "metadata": {},
   "outputs": [
    {
     "data": {
      "text/plain": [
       "'ABC'"
      ]
     },
     "execution_count": 44,
     "metadata": {},
     "output_type": "execute_result"
    }
   ],
   "source": [
    "def checksub(s):\n",
    "    m = 0\n",
    "    ss =''\n",
    "    i=0\n",
    "    while i < len(s)-1:\n",
    "        st=s[i]\n",
    "        for j in range(i+1,len(s)):\n",
    "            if s[j] in st:\n",
    "                i=j\n",
    "                break\n",
    "            st+=s[j]\n",
    "            i+=1\n",
    "        if len(st) > m:\n",
    "            m = len(st)\n",
    "            ss = st\n",
    "    return ss\n",
    "    \n",
    "checksub('ABCBBE')"
   ]
  },
  {
   "cell_type": "code",
   "execution_count": null,
   "id": "d5769577-31dc-4899-9e93-380195a9023c",
   "metadata": {},
   "outputs": [],
   "source": []
  }
 ],
 "metadata": {
  "kernelspec": {
   "display_name": "Python 3 (ipykernel)",
   "language": "python",
   "name": "python3"
  },
  "language_info": {
   "codemirror_mode": {
    "name": "ipython",
    "version": 3
   },
   "file_extension": ".py",
   "mimetype": "text/x-python",
   "name": "python",
   "nbconvert_exporter": "python",
   "pygments_lexer": "ipython3",
   "version": "3.11.9"
  }
 },
 "nbformat": 4,
 "nbformat_minor": 5
}
