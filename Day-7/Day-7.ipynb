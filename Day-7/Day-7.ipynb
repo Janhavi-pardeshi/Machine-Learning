{
 "cells": [
  {
   "cell_type": "markdown",
   "id": "aaea3d31-d23d-464f-bd0e-fec13da5bdd5",
   "metadata": {},
   "source": [
    "### Python "
   ]
  },
  {
   "cell_type": "code",
   "execution_count": 6,
   "id": "e6377338-9133-4c30-9990-75d84e7ed6e9",
   "metadata": {},
   "outputs": [
    {
     "name": "stdin",
     "output_type": "stream",
     "text": [
      "Enter your name:  ram\n"
     ]
    },
    {
     "name": "stdout",
     "output_type": "stream",
     "text": [
      "ram\n"
     ]
    }
   ],
   "source": [
    "### Taking input from the user...\n",
    "\n",
    "name = input(\"Enter your name: \")\n",
    "print(name)"
   ]
  },
  {
   "cell_type": "code",
   "execution_count": 15,
   "id": "120e2bdc-de71-47d3-ae72-ada164787e30",
   "metadata": {},
   "outputs": [
    {
     "name": "stdout",
     "output_type": "stream",
     "text": [
      "The next letter is: H\n",
      "POS: 0\n",
      "The next letter is: l\n",
      "POS: 2\n",
      "The next letter is: o\n",
      "POS: 4\n",
      "The next letter is: w\n",
      "POS: 6\n",
      "The next letter is: r\n",
      "POS: 8\n",
      "The next letter is: d\n",
      "POS: 10\n"
     ]
    }
   ],
   "source": [
    "# Handling of string\n",
    "\n",
    "phrase = \"Hello world!\"\n",
    "pos = -1\n",
    "for letter in phrase:\n",
    "    pos +=1\n",
    "    if pos%2 ==0:\n",
    "        print(\"The next letter is:\",letter)\n",
    "        print(\"POS:\",pos)"
   ]
  },
  {
   "cell_type": "code",
   "execution_count": 17,
   "id": "fac623a0-cca4-4ac0-8306-bed5bf3724c6",
   "metadata": {},
   "outputs": [
    {
     "name": "stdout",
     "output_type": "stream",
     "text": [
      "The next word is: Hello\n",
      "POS: 0\n",
      "The next word is: World\n",
      "POS: 1\n"
     ]
    }
   ],
   "source": [
    "# for splitting the chracters(space is also consider as a character)\n",
    "\n",
    "phrase = \"Hello World\"\n",
    "pos = -1\n",
    "for word in phrase.split():\n",
    "    pos +=1\n",
    "    print(\"The next word is:\",word)\n",
    "    print(\"POS:\",pos)"
   ]
  },
  {
   "cell_type": "code",
   "execution_count": 18,
   "id": "871d5ad5-297e-4e54-a7c0-b9c5df3652fb",
   "metadata": {},
   "outputs": [
    {
     "name": "stdout",
     "output_type": "stream",
     "text": [
      "Total: 1\n",
      "Total: 3\n",
      "Total: 7\n",
      "Total: 17\n",
      "Total: 37\n"
     ]
    }
   ],
   "source": [
    "# Total of number and its sum\n",
    "\n",
    "total = 0\n",
    "for num in [1,2,4,10,20]:\n",
    "    total = total+num\n",
    "    print(\"Total:\",total)\n"
   ]
  },
  {
   "cell_type": "markdown",
   "id": "8eaba22d-e985-41bb-b6d2-572eac18e99a",
   "metadata": {},
   "source": [
    "## String Operations"
   ]
  },
  {
   "cell_type": "code",
   "execution_count": 30,
   "id": "77b1e33b-9678-440b-99b7-c85173345961",
   "metadata": {},
   "outputs": [
    {
     "data": {
      "text/plain": [
       "'spamxyz'"
      ]
     },
     "execution_count": 30,
     "metadata": {},
     "output_type": "execute_result"
    }
   ],
   "source": [
    "s = 'spam'\n",
    "s +'xyz'"
   ]
  },
  {
   "cell_type": "code",
   "execution_count": 31,
   "id": "1fea4c0c-340c-4486-b1dc-cccca4de019b",
   "metadata": {},
   "outputs": [
    {
     "data": {
      "text/plain": [
       "'spamxyz'"
      ]
     },
     "execution_count": 31,
     "metadata": {},
     "output_type": "execute_result"
    }
   ],
   "source": [
    "s = s +'xyz'\n",
    "s"
   ]
  },
  {
   "cell_type": "code",
   "execution_count": 32,
   "id": "105e94a1-be62-403b-be5e-000442f3492b",
   "metadata": {},
   "outputs": [
    {
     "data": {
      "text/plain": [
       "'spamxyzspamxyzspamxyzspamxyzspamxyzspamxyzspamxyzspamxyz'"
      ]
     },
     "execution_count": 32,
     "metadata": {},
     "output_type": "execute_result"
    }
   ],
   "source": [
    "s * 8"
   ]
  },
  {
   "cell_type": "code",
   "execution_count": 33,
   "id": "ac2eae0b-40f3-417e-9d86-ce2539545063",
   "metadata": {},
   "outputs": [
    {
     "data": {
      "text/plain": [
       "'zpamxyz'"
      ]
     },
     "execution_count": 33,
     "metadata": {},
     "output_type": "execute_result"
    }
   ],
   "source": [
    "s = 'z' + s[1:]\n",
    "s"
   ]
  },
  {
   "cell_type": "code",
   "execution_count": 34,
   "id": "11052e6f-b260-437b-aa96-a692aa63d93e",
   "metadata": {},
   "outputs": [
    {
     "data": {
      "text/plain": [
       "1"
      ]
     },
     "execution_count": 34,
     "metadata": {},
     "output_type": "execute_result"
    }
   ],
   "source": [
    "s.find('pa')"
   ]
  },
  {
   "cell_type": "code",
   "execution_count": 37,
   "id": "81e9db99-ff58-485f-ad2d-69ffc849f4b8",
   "metadata": {},
   "outputs": [
    {
     "data": {
      "text/plain": [
       "'spam'"
      ]
     },
     "execution_count": 37,
     "metadata": {},
     "output_type": "execute_result"
    }
   ],
   "source": [
    "s = 'spam'\n",
    "s"
   ]
  },
  {
   "cell_type": "code",
   "execution_count": 39,
   "id": "4d0f737e-6afb-4689-852f-e983df622e96",
   "metadata": {},
   "outputs": [
    {
     "data": {
      "text/plain": [
       "'sXYZm'"
      ]
     },
     "execution_count": 39,
     "metadata": {},
     "output_type": "execute_result"
    }
   ],
   "source": [
    "s.replace('pa','XYZ')\n"
   ]
  },
  {
   "cell_type": "code",
   "execution_count": 40,
   "id": "efa04b9e-9ad3-4b3a-9a1c-c24b4b7dacab",
   "metadata": {},
   "outputs": [
    {
     "data": {
      "text/plain": [
       "'spam'"
      ]
     },
     "execution_count": 40,
     "metadata": {},
     "output_type": "execute_result"
    }
   ],
   "source": [
    "s"
   ]
  },
  {
   "cell_type": "code",
   "execution_count": 41,
   "id": "06870f33-853a-4ea9-a036-fa6977118be1",
   "metadata": {},
   "outputs": [
    {
     "data": {
      "text/plain": [
       "'SPAM'"
      ]
     },
     "execution_count": 41,
     "metadata": {},
     "output_type": "execute_result"
    }
   ],
   "source": [
    "line  = 'aaa,bbb,ccccc,dd'\n",
    "line.split(',')\n",
    "['aaa,bbb,ccccc,dd']\n",
    "s = 'spam'\n",
    "s.upper()"
   ]
  },
  {
   "cell_type": "code",
   "execution_count": 42,
   "id": "1ec8e387-88be-4827-90df-0bcff8828d83",
   "metadata": {},
   "outputs": [
    {
     "data": {
      "text/plain": [
       "<function str.isalpha()>"
      ]
     },
     "execution_count": 42,
     "metadata": {},
     "output_type": "execute_result"
    }
   ],
   "source": [
    "s.isalpha"
   ]
  },
  {
   "cell_type": "code",
   "execution_count": 43,
   "id": "b1189a7a-3876-4189-b34b-ec961de3f933",
   "metadata": {},
   "outputs": [
    {
     "data": {
      "text/plain": [
       "['aaa,bbb,ccccc,dd']"
      ]
     },
     "execution_count": 43,
     "metadata": {},
     "output_type": "execute_result"
    }
   ],
   "source": [
    "line  = 'aaa,bbb,ccccc,dd\\n'\n",
    "line =line.rsplit()\n",
    "line"
   ]
  },
  {
   "cell_type": "code",
   "execution_count": 44,
   "id": "ac7e50b0-2423-41d0-911c-f5ac5f59e30d",
   "metadata": {},
   "outputs": [
    {
     "data": {
      "text/plain": [
       "'spam, eggs, and SPAM!'"
      ]
     },
     "execution_count": 44,
     "metadata": {},
     "output_type": "execute_result"
    }
   ],
   "source": [
    "'%s, eggs, and %s' % ('spam', 'SPAM!')    # formatting expresson all"
   ]
  },
  {
   "cell_type": "code",
   "execution_count": 47,
   "id": "37128e7b-58d3-4743-867b-0e5face1b54a",
   "metadata": {},
   "outputs": [
    {
     "data": {
      "text/plain": [
       "'spam, eggs, and SPAM!'"
      ]
     },
     "execution_count": 47,
     "metadata": {},
     "output_type": "execute_result"
    }
   ],
   "source": [
    "'{0}, eggs, and {1}'.format('spam','SPAM!') #formatting method"
   ]
  },
  {
   "cell_type": "code",
   "execution_count": 49,
   "id": "cc711764-ce42-49b2-900a-f05520337642",
   "metadata": {},
   "outputs": [
    {
     "data": {
      "text/plain": [
       "['__add__',\n",
       " '__class__',\n",
       " '__contains__',\n",
       " '__delattr__',\n",
       " '__dir__',\n",
       " '__doc__',\n",
       " '__eq__',\n",
       " '__format__',\n",
       " '__ge__',\n",
       " '__getattribute__',\n",
       " '__getitem__',\n",
       " '__getnewargs__',\n",
       " '__getstate__',\n",
       " '__gt__',\n",
       " '__hash__',\n",
       " '__init__',\n",
       " '__init_subclass__',\n",
       " '__iter__',\n",
       " '__le__',\n",
       " '__len__',\n",
       " '__lt__',\n",
       " '__mod__',\n",
       " '__mul__',\n",
       " '__ne__',\n",
       " '__new__',\n",
       " '__reduce__',\n",
       " '__reduce_ex__',\n",
       " '__repr__',\n",
       " '__rmod__',\n",
       " '__rmul__',\n",
       " '__setattr__',\n",
       " '__sizeof__',\n",
       " '__str__',\n",
       " '__subclasshook__',\n",
       " 'capitalize',\n",
       " 'casefold',\n",
       " 'center',\n",
       " 'count',\n",
       " 'encode',\n",
       " 'endswith',\n",
       " 'expandtabs',\n",
       " 'find',\n",
       " 'format',\n",
       " 'format_map',\n",
       " 'index',\n",
       " 'isalnum',\n",
       " 'isalpha',\n",
       " 'isascii',\n",
       " 'isdecimal',\n",
       " 'isdigit',\n",
       " 'isidentifier',\n",
       " 'islower',\n",
       " 'isnumeric',\n",
       " 'isprintable',\n",
       " 'isspace',\n",
       " 'istitle',\n",
       " 'isupper',\n",
       " 'join',\n",
       " 'ljust',\n",
       " 'lower',\n",
       " 'lstrip',\n",
       " 'maketrans',\n",
       " 'partition',\n",
       " 'removeprefix',\n",
       " 'removesuffix',\n",
       " 'replace',\n",
       " 'rfind',\n",
       " 'rindex',\n",
       " 'rjust',\n",
       " 'rpartition',\n",
       " 'rsplit',\n",
       " 'rstrip',\n",
       " 'split',\n",
       " 'splitlines',\n",
       " 'startswith',\n",
       " 'strip',\n",
       " 'swapcase',\n",
       " 'title',\n",
       " 'translate',\n",
       " 'upper',\n",
       " 'zfill']"
      ]
     },
     "execution_count": 49,
     "metadata": {},
     "output_type": "execute_result"
    }
   ],
   "source": [
    "dir(s)"
   ]
  },
  {
   "cell_type": "code",
   "execution_count": 50,
   "id": "538c47c0-6a70-49de-9f67-263431ac2818",
   "metadata": {},
   "outputs": [
    {
     "name": "stdout",
     "output_type": "stream",
     "text": [
      "Help on built-in function replace:\n",
      "\n",
      "replace(old, new, count=-1, /) method of builtins.str instance\n",
      "    Return a copy with all occurrences of substring old replaced by new.\n",
      "    \n",
      "      count\n",
      "        Maximum number of occurrences to replace.\n",
      "        -1 (the default value) means replace all occurrences.\n",
      "    \n",
      "    If the optional argument count is given, only the first count occurrences are\n",
      "    replaced.\n",
      "\n"
     ]
    }
   ],
   "source": [
    "help(s.replace)"
   ]
  },
  {
   "cell_type": "code",
   "execution_count": 52,
   "id": "1613e980-d5bb-4634-b9f8-e293c754b5a3",
   "metadata": {},
   "outputs": [
    {
     "data": {
      "text/plain": [
       "'Python '"
      ]
     },
     "execution_count": 52,
     "metadata": {},
     "output_type": "execute_result"
    }
   ],
   "source": [
    "# Pattern matching\n",
    "\n",
    "import re\n",
    "match = re.match('Hello[ \\t]*(.*)world', 'Hello  Python world')\n",
    "match.group(1)"
   ]
  },
  {
   "cell_type": "code",
   "execution_count": 53,
   "id": "bd2d112e-2a06-43c1-bf89-8025dec927a9",
   "metadata": {},
   "outputs": [
    {
     "data": {
      "text/plain": [
       "3"
      ]
     },
     "execution_count": 53,
     "metadata": {},
     "output_type": "execute_result"
    }
   ],
   "source": [
    "# sequence opertion\n",
    "\n",
    "L = [123, 'spam' , 1.23] # l = datatype is list(3 different object)\n",
    "len(L)"
   ]
  },
  {
   "cell_type": "code",
   "execution_count": 54,
   "id": "c14bfc49-7084-4fb2-a6a9-554739a82119",
   "metadata": {},
   "outputs": [
    {
     "data": {
      "text/plain": [
       "123"
      ]
     },
     "execution_count": 54,
     "metadata": {},
     "output_type": "execute_result"
    }
   ],
   "source": [
    "L[0]"
   ]
  },
  {
   "cell_type": "code",
   "execution_count": 55,
   "id": "3095037a-1cd4-4db6-85b3-70093de99be3",
   "metadata": {},
   "outputs": [
    {
     "data": {
      "text/plain": [
       "[123, 'spam']"
      ]
     },
     "execution_count": 55,
     "metadata": {},
     "output_type": "execute_result"
    }
   ],
   "source": [
    "L[:-1]"
   ]
  },
  {
   "cell_type": "code",
   "execution_count": 56,
   "id": "4f7206bd-0b44-4f0d-bfb5-466304c60609",
   "metadata": {},
   "outputs": [
    {
     "data": {
      "text/plain": [
       "[123, 'spam', 1.23, 4, 5, 6]"
      ]
     },
     "execution_count": 56,
     "metadata": {},
     "output_type": "execute_result"
    }
   ],
   "source": [
    "L + [4,5,6] #concatenation consits of separate element"
   ]
  },
  {
   "cell_type": "code",
   "execution_count": 58,
   "id": "ad59e42a-ae19-4208-b25e-7facf7a54d7b",
   "metadata": {},
   "outputs": [
    {
     "data": {
      "text/plain": [
       "[123, 'spam', 1.23, 'NI', [4, 5, 6]]"
      ]
     },
     "execution_count": 58,
     "metadata": {},
     "output_type": "execute_result"
    }
   ],
   "source": [
    "L.append([4,5,6]) \n",
    "L"
   ]
  },
  {
   "cell_type": "code",
   "execution_count": 59,
   "id": "63bf42dc-2540-48b5-b0b1-5bbe862a1060",
   "metadata": {},
   "outputs": [
    {
     "data": {
      "text/plain": [
       "1.23"
      ]
     },
     "execution_count": 59,
     "metadata": {},
     "output_type": "execute_result"
    }
   ],
   "source": [
    "L.pop(2)"
   ]
  },
  {
   "cell_type": "code",
   "execution_count": 60,
   "id": "da6a0e55-89f7-4846-ae12-4bf8b3cb571a",
   "metadata": {},
   "outputs": [
    {
     "data": {
      "text/plain": [
       "['aa', 'bb', 'cc']"
      ]
     },
     "execution_count": 60,
     "metadata": {},
     "output_type": "execute_result"
    }
   ],
   "source": [
    "# sorting is also applicable for characters\n",
    "\n",
    "M = ['bb','aa','cc']\n",
    "M.sort()\n",
    "M"
   ]
  },
  {
   "cell_type": "code",
   "execution_count": 61,
   "id": "fa70b245-c3b0-41ef-999e-bce8a643f7d5",
   "metadata": {},
   "outputs": [
    {
     "data": {
      "text/plain": [
       "['cc', 'bb', 'aa']"
      ]
     },
     "execution_count": 61,
     "metadata": {},
     "output_type": "execute_result"
    }
   ],
   "source": [
    "M.reverse()\n",
    "M"
   ]
  },
  {
   "cell_type": "code",
   "execution_count": 70,
   "id": "887ef0fc-b8f6-4e3e-a356-a8a9899f2536",
   "metadata": {},
   "outputs": [
    {
     "data": {
      "text/plain": [
       "[[1, 2, 3], [4, 5, 6], [7, 8, 9]]"
      ]
     },
     "execution_count": 70,
     "metadata": {},
     "output_type": "execute_result"
    }
   ],
   "source": [
    "# Nesting(list of list)\n",
    "\n",
    "M = [[1,2,3],\n",
    "     [4,5,6],\n",
    "     [7,8,9]]\n",
    "M"
   ]
  },
  {
   "cell_type": "code",
   "execution_count": 63,
   "id": "7ecee474-457f-4b18-9c09-9fb93a7ae478",
   "metadata": {},
   "outputs": [
    {
     "data": {
      "text/plain": [
       "[4, 5, 6]"
      ]
     },
     "execution_count": 63,
     "metadata": {},
     "output_type": "execute_result"
    }
   ],
   "source": [
    "M[1]"
   ]
  },
  {
   "cell_type": "code",
   "execution_count": 64,
   "id": "1c34e65d-bd45-4d65-90a9-5446e6aca10a",
   "metadata": {},
   "outputs": [
    {
     "data": {
      "text/plain": [
       "6"
      ]
     },
     "execution_count": 64,
     "metadata": {},
     "output_type": "execute_result"
    }
   ],
   "source": [
    "M[1][2]"
   ]
  },
  {
   "cell_type": "markdown",
   "id": "f29606fe-34e4-4141-85eb-d6a36754f174",
   "metadata": {},
   "source": [
    "## List Comprehensions"
   ]
  },
  {
   "cell_type": "code",
   "execution_count": 72,
   "id": "2f9bd0fb-6fe6-40bf-95f1-661e2eb32737",
   "metadata": {},
   "outputs": [
    {
     "data": {
      "text/plain": [
       "[2, 5, 8]"
      ]
     },
     "execution_count": 72,
     "metadata": {},
     "output_type": "execute_result"
    }
   ],
   "source": [
    "\n",
    "col = [row[1] for row in M]\n",
    "col"
   ]
  },
  {
   "cell_type": "code",
   "execution_count": 74,
   "id": "240864b0-a474-438b-9aef-d598f490df37",
   "metadata": {},
   "outputs": [
    {
     "data": {
      "text/plain": [
       "[3, 6, 9]"
      ]
     },
     "execution_count": 74,
     "metadata": {},
     "output_type": "execute_result"
    }
   ],
   "source": [
    "[row[1] + 1 for row in M]   # Add 1 to each item in column 2\n"
   ]
  },
  {
   "cell_type": "code",
   "execution_count": 75,
   "id": "0f2a491a-afff-4523-a2a2-5f1ed555f38d",
   "metadata": {},
   "outputs": [
    {
     "data": {
      "text/plain": [
       "[2, 8]"
      ]
     },
     "execution_count": 75,
     "metadata": {},
     "output_type": "execute_result"
    }
   ],
   "source": [
    "[ row[1] for row in M if row[1] %  2 ==0]"
   ]
  },
  {
   "cell_type": "code",
   "execution_count": 76,
   "id": "76881b59-72a3-424b-a4de-613b44b2a841",
   "metadata": {},
   "outputs": [
    {
     "data": {
      "text/plain": [
       "[1, 5, 9]"
      ]
     },
     "execution_count": 76,
     "metadata": {},
     "output_type": "execute_result"
    }
   ],
   "source": [
    "diag = [M[i][i] for i in [0,1,2]]  # collect a diaginal from matrix\n",
    "diag"
   ]
  },
  {
   "cell_type": "code",
   "execution_count": 77,
   "id": "b0f77e59-e53d-4975-8b8f-6aa52c80a5f0",
   "metadata": {},
   "outputs": [
    {
     "data": {
      "text/plain": [
       "['ss', 'pp', 'aa', 'mm']"
      ]
     },
     "execution_count": 77,
     "metadata": {},
     "output_type": "execute_result"
    }
   ],
   "source": [
    "doubles = [c * 2 for c in 'spam'] # repeat characters in string\n",
    "doubles"
   ]
  },
  {
   "cell_type": "markdown",
   "id": "db4a2776-6565-4275-a3bb-3ab3f70d7eff",
   "metadata": {},
   "source": [
    "## Map Function(built-in)"
   ]
  },
  {
   "cell_type": "code",
   "execution_count": 79,
   "id": "9372916a-c01f-4626-a4dd-2e99af94078e",
   "metadata": {},
   "outputs": [
    {
     "data": {
      "text/plain": [
       "[6, 15, 24]"
      ]
     },
     "execution_count": 79,
     "metadata": {},
     "output_type": "execute_result"
    }
   ],
   "source": [
    "list(map(sum, M))"
   ]
  },
  {
   "cell_type": "code",
   "execution_count": 83,
   "id": "c4047579-7001-4b7f-b628-504ae78e4864",
   "metadata": {},
   "outputs": [
    {
     "data": {
      "text/plain": [
       "{6, 15, 24}"
      ]
     },
     "execution_count": 83,
     "metadata": {},
     "output_type": "execute_result"
    }
   ],
   "source": [
    "{sum(row) for row in M}"
   ]
  },
  {
   "cell_type": "code",
   "execution_count": 82,
   "id": "681ae244-9671-45be-90ef-3e0f00ab1760",
   "metadata": {},
   "outputs": [
    {
     "data": {
      "text/plain": [
       "{0: 6, 1: 15, 2: 24}"
      ]
     },
     "execution_count": 82,
     "metadata": {},
     "output_type": "execute_result"
    }
   ],
   "source": [
    "{i : sum(M[i]) for i in range(3)}"
   ]
  },
  {
   "cell_type": "code",
   "execution_count": 86,
   "id": "012ac2d3-05f3-4056-af5a-73e96e441c26",
   "metadata": {},
   "outputs": [
    {
     "data": {
      "text/plain": [
       "{'s': 115, 'p': 112, 'a': 97, 'm': 109}"
      ]
     },
     "execution_count": 86,
     "metadata": {},
     "output_type": "execute_result"
    }
   ],
   "source": [
    "[ord(x) for x in 'spam']"
   ]
  },
  {
   "cell_type": "code",
   "execution_count": 89,
   "id": "787a0b8a-f20d-4095-bf6e-50c3e6b588fc",
   "metadata": {},
   "outputs": [
    {
     "data": {
      "text/plain": [
       "{97, 109, 112, 115}"
      ]
     },
     "execution_count": 89,
     "metadata": {},
     "output_type": "execute_result"
    }
   ],
   "source": [
    "{ord(x) for x in 'spaam'}"
   ]
  },
  {
   "cell_type": "code",
   "execution_count": 90,
   "id": "9912e99e-0bec-4124-b0f5-2955b3a03470",
   "metadata": {},
   "outputs": [
    {
     "data": {
      "text/plain": [
       "{'s': 115, 'p': 112, 'a': 97, 'm': 109}"
      ]
     },
     "execution_count": 90,
     "metadata": {},
     "output_type": "execute_result"
    }
   ],
   "source": [
    "{x: ord(x) for x in 'spaam'}"
   ]
  },
  {
   "cell_type": "markdown",
   "id": "17501543-89ec-400e-9708-ada66f0f864a",
   "metadata": {},
   "source": [
    "## Dictionaries"
   ]
  },
  {
   "cell_type": "code",
   "execution_count": 93,
   "id": "bcedddaf-c617-4dc7-8787-ee82e3af4394",
   "metadata": {},
   "outputs": [],
   "source": [
    "D = {'food':'spam','quantity':4,'color':'pink'}"
   ]
  },
  {
   "cell_type": "code",
   "execution_count": 94,
   "id": "6df029f0-5954-412d-a88a-5ae64057f7e7",
   "metadata": {},
   "outputs": [
    {
     "data": {
      "text/plain": [
       "'spam'"
      ]
     },
     "execution_count": 94,
     "metadata": {},
     "output_type": "execute_result"
    }
   ],
   "source": [
    "D['food']"
   ]
  },
  {
   "cell_type": "code",
   "execution_count": 95,
   "id": "d4dfb718-7916-48d9-9dc2-4d527e3bfb6e",
   "metadata": {},
   "outputs": [
    {
     "data": {
      "text/plain": [
       "4"
      ]
     },
     "execution_count": 95,
     "metadata": {},
     "output_type": "execute_result"
    }
   ],
   "source": [
    "D['quantity'] "
   ]
  },
  {
   "cell_type": "code",
   "execution_count": 96,
   "id": "5575696a-1bf0-44c5-8d09-c132985bb79b",
   "metadata": {},
   "outputs": [
    {
     "data": {
      "text/plain": [
       "'pink'"
      ]
     },
     "execution_count": 96,
     "metadata": {},
     "output_type": "execute_result"
    }
   ],
   "source": [
    "D['color']"
   ]
  },
  {
   "cell_type": "code",
   "execution_count": 97,
   "id": "d39a505a-7d66-42ce-a8de-30c0f5457a0a",
   "metadata": {},
   "outputs": [
    {
     "data": {
      "text/plain": [
       "{'food': 'spam', 'quantity': 5, 'color': 'pink'}"
      ]
     },
     "execution_count": 97,
     "metadata": {},
     "output_type": "execute_result"
    }
   ],
   "source": [
    "D['quantity'] +=1\n",
    "D"
   ]
  },
  {
   "cell_type": "code",
   "execution_count": 98,
   "id": "249310b8-db23-4897-a71b-3a64476c2586",
   "metadata": {},
   "outputs": [
    {
     "data": {
      "text/plain": [
       "{'name': 'Ram', 'job': 'Dev', 'age': 30}"
      ]
     },
     "execution_count": 98,
     "metadata": {},
     "output_type": "execute_result"
    }
   ],
   "source": [
    "D={}\n",
    "D['name'] = 'Ram'  \n",
    "D['job'] = 'Dev'\n",
    "D['age'] = 30\n",
    "D"
   ]
  },
  {
   "cell_type": "code",
   "execution_count": 99,
   "id": "990c4ca3-80ae-4320-a124-04fb8ff3eaee",
   "metadata": {},
   "outputs": [
    {
     "data": {
      "text/plain": [
       "'Ram'"
      ]
     },
     "execution_count": 99,
     "metadata": {},
     "output_type": "execute_result"
    }
   ],
   "source": [
    "D['name']"
   ]
  },
  {
   "cell_type": "code",
   "execution_count": 100,
   "id": "28e36fad-758c-48de-bbbd-19c1241e6c94",
   "metadata": {},
   "outputs": [],
   "source": [
    "rec = {'name': {'first': 'bob', 'last':'smith'},\n",
    "       'job': ['dev' ,'mgr'],\n",
    "       'age': 40}"
   ]
  },
  {
   "cell_type": "code",
   "execution_count": 104,
   "id": "ad1d4a56-0ac4-4b57-a855-b4ff566c8f53",
   "metadata": {},
   "outputs": [
    {
     "data": {
      "text/plain": [
       "'smith'"
      ]
     },
     "execution_count": 104,
     "metadata": {},
     "output_type": "execute_result"
    }
   ],
   "source": [
    "rec['name']['last']"
   ]
  },
  {
   "cell_type": "code",
   "execution_count": 106,
   "id": "0f4f4eee-6e01-4e50-bd8e-5de8b39a92d2",
   "metadata": {},
   "outputs": [
    {
     "data": {
      "text/plain": [
       "'mgr'"
      ]
     },
     "execution_count": 106,
     "metadata": {},
     "output_type": "execute_result"
    }
   ],
   "source": [
    "rec['job'][1]"
   ]
  },
  {
   "cell_type": "code",
   "execution_count": 107,
   "id": "b508e3df-58fc-4936-8f58-18bd254a0894",
   "metadata": {},
   "outputs": [
    {
     "data": {
      "text/plain": [
       "{'name': {'first': 'bob', 'last': 'smith'},\n",
       " 'job': ['dev', 'mgr', 'janitor'],\n",
       " 'age': 40}"
      ]
     },
     "execution_count": 107,
     "metadata": {},
     "output_type": "execute_result"
    }
   ],
   "source": [
    "rec['job'].append('janitor')\n",
    "rec"
   ]
  },
  {
   "cell_type": "code",
   "execution_count": 108,
   "id": "9d1dadb5-699b-4a9f-97a0-abefb88b9aa9",
   "metadata": {},
   "outputs": [
    {
     "data": {
      "text/plain": [
       "{'name': 'Ram', 'job': 'Dev', 'age': 30}"
      ]
     },
     "execution_count": 108,
     "metadata": {},
     "output_type": "execute_result"
    }
   ],
   "source": [
    "D"
   ]
  },
  {
   "cell_type": "code",
   "execution_count": 109,
   "id": "49d8031e-00bc-4dff-a1ba-bb697aab4ce6",
   "metadata": {},
   "outputs": [
    {
     "name": "stdout",
     "output_type": "stream",
     "text": [
      "age => 30\n",
      "job => Dev\n",
      "name => Ram\n"
     ]
    }
   ],
   "source": [
    "for key in sorted(D):\n",
    "    print(key, '=>' ,D[key])"
   ]
  },
  {
   "cell_type": "code",
   "execution_count": 110,
   "id": "db7856d2-5c5e-4ea5-8608-3e5495321d3a",
   "metadata": {},
   "outputs": [
    {
     "name": "stdout",
     "output_type": "stream",
     "text": [
      "S\n",
      "P\n",
      "A\n",
      "M\n"
     ]
    }
   ],
   "source": [
    "for c in 'spam':\n",
    "    print(c.upper())"
   ]
  },
  {
   "cell_type": "code",
   "execution_count": 115,
   "id": "6393695a-b5de-4ea0-833a-ac70a6f3a044",
   "metadata": {},
   "outputs": [
    {
     "name": "stdout",
     "output_type": "stream",
     "text": [
      "spam!spam!spam!spam!\n",
      "spam!spam!spam!\n",
      "spam!spam!\n",
      "spam!\n"
     ]
    }
   ],
   "source": [
    "x=4\n",
    "while x > 0:\n",
    "    print('spam!' * x)\n",
    "    x -=1"
   ]
  },
  {
   "cell_type": "code",
   "execution_count": 116,
   "id": "ab96b865-066b-411d-911a-48d23eb9ea56",
   "metadata": {},
   "outputs": [
    {
     "data": {
      "text/plain": [
       "[1, 4, 9, 16, 25]"
      ]
     },
     "execution_count": 116,
     "metadata": {},
     "output_type": "execute_result"
    }
   ],
   "source": [
    "squares = [x ** 2 for x in[1,2,3,4,5]]\n",
    "squares"
   ]
  },
  {
   "cell_type": "code",
   "execution_count": 119,
   "id": "7847d703-74f6-4667-8012-87aecec7642e",
   "metadata": {},
   "outputs": [],
   "source": [
    "squares=[]\n",
    "for x in [1,2,3,4,5]:\n",
    "    squares.append(x ** 2)"
   ]
  },
  {
   "cell_type": "code",
   "execution_count": 120,
   "id": "49897e3b-f8f9-4fcd-94fc-77b450925933",
   "metadata": {},
   "outputs": [
    {
     "data": {
      "text/plain": [
       "[1, 4, 9, 16, 25]"
      ]
     },
     "execution_count": 120,
     "metadata": {},
     "output_type": "execute_result"
    }
   ],
   "source": [
    "squares"
   ]
  },
  {
   "cell_type": "code",
   "execution_count": 124,
   "id": "93e51abb-e08a-4811-a8e1-0f03e2cccd9b",
   "metadata": {},
   "outputs": [],
   "source": [
    "D ={ 'a':1,'c':3,'b':2}"
   ]
  },
  {
   "cell_type": "code",
   "execution_count": 125,
   "id": "2b1348de-53df-42a8-af11-2536f3479d38",
   "metadata": {},
   "outputs": [
    {
     "data": {
      "text/plain": [
       "{'a': 1, 'c': 3, 'b': 2, 'e': 99}"
      ]
     },
     "execution_count": 125,
     "metadata": {},
     "output_type": "execute_result"
    }
   ],
   "source": [
    "D['e'] = 99\n",
    "D"
   ]
  },
  {
   "cell_type": "code",
   "execution_count": 126,
   "id": "76e13be7-18fc-4026-b447-9b4a7ca5a237",
   "metadata": {},
   "outputs": [
    {
     "data": {
      "text/plain": [
       "2"
      ]
     },
     "execution_count": 126,
     "metadata": {},
     "output_type": "execute_result"
    }
   ],
   "source": [
    "D['b']"
   ]
  },
  {
   "cell_type": "code",
   "execution_count": 129,
   "id": "01a2b97f-adba-4409-91eb-cc58a378e43a",
   "metadata": {},
   "outputs": [
    {
     "name": "stdout",
     "output_type": "stream",
     "text": [
      "missing\n"
     ]
    }
   ],
   "source": [
    "'f' in D\n",
    "if not 'f' in D:\n",
    "    print('missing')"
   ]
  },
  {
   "cell_type": "code",
   "execution_count": 130,
   "id": "ca527165-51c5-446f-8227-4cf61262ea8d",
   "metadata": {},
   "outputs": [
    {
     "data": {
      "text/plain": [
       "0"
      ]
     },
     "execution_count": 130,
     "metadata": {},
     "output_type": "execute_result"
    }
   ],
   "source": [
    "value = D.get('x',0)\n",
    "value"
   ]
  },
  {
   "cell_type": "code",
   "execution_count": 132,
   "id": "39b7753a-7c8d-4d67-be94-2765b20752fb",
   "metadata": {},
   "outputs": [
    {
     "data": {
      "text/plain": [
       "0"
      ]
     },
     "execution_count": 132,
     "metadata": {},
     "output_type": "execute_result"
    }
   ],
   "source": [
    "value = D['x'] if 'x' in D else 0\n",
    "value"
   ]
  },
  {
   "cell_type": "markdown",
   "id": "597dc57e-a944-4f66-9f30-e7875baca4d6",
   "metadata": {},
   "source": [
    "## Tuples"
   ]
  },
  {
   "cell_type": "code",
   "execution_count": 133,
   "id": "c4977f19-0181-4f30-990a-9653816d0e68",
   "metadata": {},
   "outputs": [
    {
     "data": {
      "text/plain": [
       "4"
      ]
     },
     "execution_count": 133,
     "metadata": {},
     "output_type": "execute_result"
    }
   ],
   "source": [
    "T = (1,2,3,4,)\n",
    "len(T)"
   ]
  },
  {
   "cell_type": "code",
   "execution_count": 135,
   "id": "7e19175e-f15f-461f-847e-a218806cd8d9",
   "metadata": {},
   "outputs": [
    {
     "data": {
      "text/plain": [
       "(1, 2, 3, 4, 5, 6)"
      ]
     },
     "execution_count": 135,
     "metadata": {},
     "output_type": "execute_result"
    }
   ],
   "source": [
    "T + (5,6)"
   ]
  },
  {
   "cell_type": "code",
   "execution_count": 136,
   "id": "2ec65a7c-70bf-4dd1-87d9-131e5fa102c6",
   "metadata": {},
   "outputs": [
    {
     "data": {
      "text/plain": [
       "1"
      ]
     },
     "execution_count": 136,
     "metadata": {},
     "output_type": "execute_result"
    }
   ],
   "source": [
    "T[0]"
   ]
  },
  {
   "cell_type": "code",
   "execution_count": 137,
   "id": "3be47338-4988-43db-9f50-967f6c4f7a82",
   "metadata": {},
   "outputs": [
    {
     "data": {
      "text/plain": [
       "3"
      ]
     },
     "execution_count": 137,
     "metadata": {},
     "output_type": "execute_result"
    }
   ],
   "source": [
    "T.index(4)"
   ]
  },
  {
   "cell_type": "code",
   "execution_count": 143,
   "id": "6a9adc2d-dfb6-439c-89a8-c3bf7c199993",
   "metadata": {},
   "outputs": [
    {
     "data": {
      "text/plain": [
       "1"
      ]
     },
     "execution_count": 143,
     "metadata": {},
     "output_type": "execute_result"
    }
   ],
   "source": [
    "T.count(3)"
   ]
  },
  {
   "cell_type": "code",
   "execution_count": 144,
   "id": "4518d2ed-c511-4c46-9494-16fc6659e366",
   "metadata": {},
   "outputs": [
    {
     "data": {
      "text/plain": [
       "3.0"
      ]
     },
     "execution_count": 144,
     "metadata": {},
     "output_type": "execute_result"
    }
   ],
   "source": [
    "T = ('spam',3.0,[11,22,33])\n",
    "T[1]"
   ]
  },
  {
   "cell_type": "code",
   "execution_count": 145,
   "id": "1b626b4f-b77e-4c6a-8a47-c75f3f11f81e",
   "metadata": {},
   "outputs": [
    {
     "data": {
      "text/plain": [
       "22"
      ]
     },
     "execution_count": 145,
     "metadata": {},
     "output_type": "execute_result"
    }
   ],
   "source": [
    "T[2][1]"
   ]
  },
  {
   "cell_type": "markdown",
   "id": "e93c0386-02da-4907-9ded-916561bf48e5",
   "metadata": {},
   "source": [
    "## Files"
   ]
  },
  {
   "cell_type": "code",
   "execution_count": 146,
   "id": "193366bd-99c7-4719-8582-2b04bac279c5",
   "metadata": {},
   "outputs": [
    {
     "data": {
      "text/plain": [
       "6"
      ]
     },
     "execution_count": 146,
     "metadata": {},
     "output_type": "execute_result"
    }
   ],
   "source": [
    "f = open('data.txt', 'w')\n",
    "f.write('Hello\\n')"
   ]
  },
  {
   "cell_type": "code",
   "execution_count": 147,
   "id": "91f68235-110a-4abe-8170-8783062ce4d2",
   "metadata": {},
   "outputs": [
    {
     "data": {
      "text/plain": [
       "7"
      ]
     },
     "execution_count": 147,
     "metadata": {},
     "output_type": "execute_result"
    }
   ],
   "source": [
    "f.write('world/n')"
   ]
  },
  {
   "cell_type": "code",
   "execution_count": 149,
   "id": "84de12fc-711c-4957-ab85-6aa3737b7dfd",
   "metadata": {},
   "outputs": [
    {
     "data": {
      "text/plain": [
       "'Hello\\nworld/n'"
      ]
     },
     "execution_count": 149,
     "metadata": {},
     "output_type": "execute_result"
    }
   ],
   "source": [
    "f = open('data.txt')\n",
    "text = f.read()\n",
    "text"
   ]
  },
  {
   "cell_type": "code",
   "execution_count": 150,
   "id": "3dc53b32-b3ab-4c9e-9d59-6ba11237bd70",
   "metadata": {},
   "outputs": [
    {
     "name": "stdout",
     "output_type": "stream",
     "text": [
      "Hello\n",
      "world/n\n"
     ]
    }
   ],
   "source": [
    "print(text)"
   ]
  },
  {
   "cell_type": "code",
   "execution_count": 151,
   "id": "1c98b94f-1eb2-4791-be8c-e876d07fc529",
   "metadata": {},
   "outputs": [
    {
     "data": {
      "text/plain": [
       "['Hello', 'world/n']"
      ]
     },
     "execution_count": 151,
     "metadata": {},
     "output_type": "execute_result"
    }
   ],
   "source": [
    "text.split()"
   ]
  },
  {
   "cell_type": "code",
   "execution_count": 158,
   "id": "f7780681-49d8-4114-8dc3-011eb086574a",
   "metadata": {},
   "outputs": [
    {
     "data": {
      "text/plain": [
       "b''"
      ]
     },
     "execution_count": 158,
     "metadata": {},
     "output_type": "execute_result"
    }
   ],
   "source": [
    "f = open('data.bin', 'w')\n",
    "data = open('data.bin', 'rb').read()\n",
    "data"
   ]
  },
  {
   "cell_type": "code",
   "execution_count": 159,
   "id": "7c8f2f3c-1f77-40b1-8d79-39486ca83021",
   "metadata": {},
   "outputs": [
    {
     "data": {
      "text/plain": [
       "b''"
      ]
     },
     "execution_count": 159,
     "metadata": {},
     "output_type": "execute_result"
    }
   ],
   "source": [
    "data[4:8]"
   ]
  },
  {
   "cell_type": "markdown",
   "id": "cba68544-d67e-43ab-9c4b-ad94c452dc42",
   "metadata": {},
   "source": [
    "## Other Core Type"
   ]
  },
  {
   "cell_type": "markdown",
   "id": "6d060f81-659f-4e19-b01d-8ea27277d323",
   "metadata": {},
   "source": [
    "## Sets"
   ]
  },
  {
   "cell_type": "code",
   "execution_count": 161,
   "id": "2fc78d44-417b-4d07-ae57-17b4f084cb19",
   "metadata": {},
   "outputs": [
    {
     "data": {
      "text/plain": [
       "({'a', 'm', 'p', 's'}, {'a', 'h', 'm'})"
      ]
     },
     "execution_count": 161,
     "metadata": {},
     "output_type": "execute_result"
    }
   ],
   "source": [
    "x = set('spam')\n",
    "y = {'h','a','m'}\n",
    "x,y"
   ]
  },
  {
   "cell_type": "code",
   "execution_count": 162,
   "id": "d2147382-4ed7-493a-b9bf-be4ffa28d663",
   "metadata": {},
   "outputs": [
    {
     "data": {
      "text/plain": [
       "{'a', 'm'}"
      ]
     },
     "execution_count": 162,
     "metadata": {},
     "output_type": "execute_result"
    }
   ],
   "source": [
    "x&y"
   ]
  },
  {
   "cell_type": "code",
   "execution_count": 163,
   "id": "f307acb9-b3c5-4192-9ce6-24354ffc840b",
   "metadata": {},
   "outputs": [
    {
     "data": {
      "text/plain": [
       "{'a', 'h', 'm', 'p', 's'}"
      ]
     },
     "execution_count": 163,
     "metadata": {},
     "output_type": "execute_result"
    }
   ],
   "source": [
    "x|y"
   ]
  },
  {
   "cell_type": "code",
   "execution_count": 164,
   "id": "b0181c45-b7ed-4355-aad5-13530bf3066e",
   "metadata": {},
   "outputs": [
    {
     "data": {
      "text/plain": [
       "{'p', 's'}"
      ]
     },
     "execution_count": 164,
     "metadata": {},
     "output_type": "execute_result"
    }
   ],
   "source": [
    "x-y"
   ]
  },
  {
   "cell_type": "code",
   "execution_count": 167,
   "id": "0abd48f5-d686-4001-af91-7148d0298536",
   "metadata": {},
   "outputs": [
    {
     "data": {
      "text/plain": [
       "{1, 4, 9, 16}"
      ]
     },
     "execution_count": 167,
     "metadata": {},
     "output_type": "execute_result"
    }
   ],
   "source": [
    "{x ** 2 for x in [1,2,3,4]}"
   ]
  },
  {
   "cell_type": "code",
   "execution_count": 168,
   "id": "bc471d02-5cc5-4afc-ab09-ca5881e68f7a",
   "metadata": {},
   "outputs": [
    {
     "data": {
      "text/plain": [
       "0.3333333333333333"
      ]
     },
     "execution_count": 168,
     "metadata": {},
     "output_type": "execute_result"
    }
   ],
   "source": [
    "1/3"
   ]
  },
  {
   "cell_type": "code",
   "execution_count": 169,
   "id": "81039b2a-fca8-48e4-b967-460810a1d862",
   "metadata": {},
   "outputs": [
    {
     "data": {
      "text/plain": [
       "1.3333333333333333"
      ]
     },
     "execution_count": 169,
     "metadata": {},
     "output_type": "execute_result"
    }
   ],
   "source": [
    "(2/3) +(2/3)"
   ]
  },
  {
   "cell_type": "code",
   "execution_count": 171,
   "id": "e795a3ac-7302-465d-8ce1-8c80a30c1db7",
   "metadata": {},
   "outputs": [
    {
     "data": {
      "text/plain": [
       "Decimal('4.141')"
      ]
     },
     "execution_count": 171,
     "metadata": {},
     "output_type": "execute_result"
    }
   ],
   "source": [
    "import decimal\n",
    "d =decimal.Decimal('3.141')\n",
    "d + 1"
   ]
  },
  {
   "cell_type": "code",
   "execution_count": 172,
   "id": "0b9c6a4b-80f6-4bc5-b1c8-4d9ca9df9e69",
   "metadata": {},
   "outputs": [
    {
     "data": {
      "text/plain": [
       "Decimal('0.33')"
      ]
     },
     "execution_count": 172,
     "metadata": {},
     "output_type": "execute_result"
    }
   ],
   "source": [
    "decimal.getcontext().prec = 2\n",
    "decimal.Decimal('1.00')/ decimal.Decimal('3.00')"
   ]
  },
  {
   "cell_type": "code",
   "execution_count": 174,
   "id": "d72e80fc-141f-4d5f-af07-dd62a83010ac",
   "metadata": {},
   "outputs": [
    {
     "data": {
      "text/plain": [
       "Fraction(5, 3)"
      ]
     },
     "execution_count": 174,
     "metadata": {},
     "output_type": "execute_result"
    }
   ],
   "source": [
    "from fractions import Fraction\n",
    "f = Fraction(2,3)\n",
    "f+1"
   ]
  },
  {
   "cell_type": "code",
   "execution_count": 176,
   "id": "25acb1a8-4bbb-46ef-8580-ecfe3bd7639c",
   "metadata": {},
   "outputs": [
    {
     "data": {
      "text/plain": [
       "Fraction(7, 6)"
      ]
     },
     "execution_count": 176,
     "metadata": {},
     "output_type": "execute_result"
    }
   ],
   "source": [
    "f + Fraction(1,2)"
   ]
  },
  {
   "cell_type": "code",
   "execution_count": 177,
   "id": "46ad0fd9-0f83-4b45-89d2-2000bc5144ac",
   "metadata": {},
   "outputs": [
    {
     "name": "stdout",
     "output_type": "stream",
     "text": [
      "None\n"
     ]
    }
   ],
   "source": [
    "X = None\n",
    "print(X)"
   ]
  },
  {
   "cell_type": "code",
   "execution_count": 179,
   "id": "8a08eab2-cb3b-4bb9-83b1-067a35e30c74",
   "metadata": {},
   "outputs": [
    {
     "data": {
      "text/plain": [
       "[None, None, None, None, None, None, None, None, None, None]"
      ]
     },
     "execution_count": 179,
     "metadata": {},
     "output_type": "execute_result"
    }
   ],
   "source": [
    "L = [None] * 10\n",
    "L "
   ]
  },
  {
   "cell_type": "code",
   "execution_count": 182,
   "id": "75bd50ea-19d2-462a-9bbe-62b1a4f93925",
   "metadata": {},
   "outputs": [
    {
     "name": "stdout",
     "output_type": "stream",
     "text": [
      "True\n"
     ]
    }
   ],
   "source": [
    "if isinstance(L, list):\n",
    "    print('True')"
   ]
  },
  {
   "cell_type": "markdown",
   "id": "4e5a1ea3-aec5-4e38-bcb5-279bc15fa50d",
   "metadata": {},
   "source": [
    "## User-Defined Classes"
   ]
  },
  {
   "cell_type": "code",
   "execution_count": 188,
   "id": "c6f3be45-4343-49d5-9bdc-185c9a50133f",
   "metadata": {},
   "outputs": [],
   "source": [
    "class Worker:\n",
    "    def __init__(self, name, pay):\n",
    "        self.name = name\n",
    "        self.pay = pay\n",
    "    def lastname(self):\n",
    "        return self.name.split()[-1]\n",
    "    def giveRaise(self,percent ):\n",
    "        self.pay *= (1.0 + percent)\n",
    "        "
   ]
  },
  {
   "cell_type": "code",
   "execution_count": 190,
   "id": "363c7701-398e-457f-b3ab-58924eeefcd5",
   "metadata": {},
   "outputs": [
    {
     "data": {
      "text/plain": [
       "'Smith'"
      ]
     },
     "execution_count": 190,
     "metadata": {},
     "output_type": "execute_result"
    }
   ],
   "source": [
    "bob = Worker('Bob Smith',50000)\n",
    "sue = Worker('sue Jones',60000)\n",
    "bob.lastname()"
   ]
  },
  {
   "cell_type": "code",
   "execution_count": 191,
   "id": "301f63d8-fc00-42c6-b224-80045d655ea2",
   "metadata": {},
   "outputs": [
    {
     "data": {
      "text/plain": [
       "'Jones'"
      ]
     },
     "execution_count": 191,
     "metadata": {},
     "output_type": "execute_result"
    }
   ],
   "source": [
    "sue.lastname()"
   ]
  },
  {
   "cell_type": "code",
   "execution_count": 192,
   "id": "9bbb315b-60e8-41ce-82a8-c741deec8ef2",
   "metadata": {},
   "outputs": [
    {
     "data": {
      "text/plain": [
       "66000.0"
      ]
     },
     "execution_count": 192,
     "metadata": {},
     "output_type": "execute_result"
    }
   ],
   "source": [
    "sue.giveRaise(.10)\n",
    "sue.pay"
   ]
  },
  {
   "cell_type": "markdown",
   "id": "8cbdcff7-9aec-4df4-85be-15f7341de7d7",
   "metadata": {},
   "source": [
    "### Numeric Display Format"
   ]
  },
  {
   "cell_type": "code",
   "execution_count": 2,
   "id": "ed6df237-9093-47a6-9279-b827b59e7ea8",
   "metadata": {},
   "outputs": [
    {
     "data": {
      "text/plain": [
       "0.45454545454545453"
      ]
     },
     "execution_count": 2,
     "metadata": {},
     "output_type": "execute_result"
    }
   ],
   "source": [
    "a = 20\n",
    "b = 10\n",
    "b/ (2.0 + a)"
   ]
  },
  {
   "cell_type": "code",
   "execution_count": 3,
   "id": "54611db4-a3ad-40b6-9cf4-15545ec143f4",
   "metadata": {},
   "outputs": [],
   "source": [
    "a1 = b/(2.0+a)"
   ]
  },
  {
   "cell_type": "code",
   "execution_count": 4,
   "id": "f6f43ecb-785e-4774-84b2-f9d956cd63c9",
   "metadata": {},
   "outputs": [
    {
     "name": "stdout",
     "output_type": "stream",
     "text": [
      "0.45\n"
     ]
    }
   ],
   "source": [
    "print(\"%.2f\" %a1)"
   ]
  },
  {
   "cell_type": "code",
   "execution_count": 5,
   "id": "2d14d484-6901-473b-ab17-806e16844d31",
   "metadata": {},
   "outputs": [
    {
     "data": {
      "text/plain": [
       "0.45"
      ]
     },
     "execution_count": 5,
     "metadata": {},
     "output_type": "execute_result"
    }
   ],
   "source": [
    "round(a1,2)"
   ]
  },
  {
   "cell_type": "code",
   "execution_count": null,
   "id": "a888c3b6-6491-49fb-a3df-3ebc2c3d145a",
   "metadata": {},
   "outputs": [],
   "source": []
  }
 ],
 "metadata": {
  "kernelspec": {
   "display_name": "Python 3 (ipykernel)",
   "language": "python",
   "name": "python3"
  },
  "language_info": {
   "codemirror_mode": {
    "name": "ipython",
    "version": 3
   },
   "file_extension": ".py",
   "mimetype": "text/x-python",
   "name": "python",
   "nbconvert_exporter": "python",
   "pygments_lexer": "ipython3",
   "version": "3.11.9"
  }
 },
 "nbformat": 4,
 "nbformat_minor": 5
}
