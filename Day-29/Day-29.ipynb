{
 "cells": [
  {
   "cell_type": "markdown",
   "id": "2c8f1956-8490-48fa-b24e-9f6bfc059272",
   "metadata": {},
   "source": [
    "## Date and Time"
   ]
  },
  {
   "cell_type": "code",
   "execution_count": 1,
   "id": "488a8e06-da16-4b7e-8218-85e899c61a12",
   "metadata": {},
   "outputs": [],
   "source": [
    "import time"
   ]
  },
  {
   "cell_type": "code",
   "execution_count": 2,
   "id": "63ff184a-561d-4b90-9e7c-c88d1ff508f5",
   "metadata": {},
   "outputs": [],
   "source": [
    "ticks = time.time()"
   ]
  },
  {
   "cell_type": "code",
   "execution_count": 3,
   "id": "8857c7c2-a994-4447-9309-4293741371a8",
   "metadata": {},
   "outputs": [
    {
     "name": "stdout",
     "output_type": "stream",
     "text": [
      "Number of ticks since 12:00am, January 1, 1970: 1722842723.5826986\n"
     ]
    }
   ],
   "source": [
    "print(\"Number of ticks since 12:00am, January 1, 1970:\", ticks)\n"
   ]
  },
  {
   "cell_type": "code",
   "execution_count": 4,
   "id": "60388b08-20e9-4954-ab67-ae83cab94bb7",
   "metadata": {},
   "outputs": [
    {
     "name": "stdout",
     "output_type": "stream",
     "text": [
      "Local current time : time.struct_time(tm_year=2024, tm_mon=8, tm_mday=5, tm_hour=12, tm_min=55, tm_sec=23, tm_wday=0, tm_yday=218, tm_isdst=0)\n"
     ]
    }
   ],
   "source": [
    "localtime = time.localtime(time.time())\n",
    "print (\"Local current time :\", localtime)"
   ]
  },
  {
   "cell_type": "code",
   "execution_count": 5,
   "id": "e4bdb9f3-1387-47f4-ac03-e9e9f7818e22",
   "metadata": {},
   "outputs": [
    {
     "data": {
      "text/plain": [
       "0"
      ]
     },
     "execution_count": 5,
     "metadata": {},
     "output_type": "execute_result"
    }
   ],
   "source": [
    "localtime[6]"
   ]
  },
  {
   "cell_type": "code",
   "execution_count": 6,
   "id": "084d439e-8745-4875-ae5c-58ae46e69afb",
   "metadata": {},
   "outputs": [
    {
     "name": "stdout",
     "output_type": "stream",
     "text": [
      "Local current time : Mon Aug  5 12:55:23 2024\n"
     ]
    }
   ],
   "source": [
    "localtime = time.asctime( time.localtime(time.time()) )\n",
    "print (\"Local current time :\", localtime)"
   ]
  },
  {
   "cell_type": "code",
   "execution_count": 7,
   "id": "f6af48cc-3a49-4051-959f-7eeadd8570c9",
   "metadata": {},
   "outputs": [
    {
     "data": {
      "text/plain": [
       "'o'"
      ]
     },
     "execution_count": 7,
     "metadata": {},
     "output_type": "execute_result"
    }
   ],
   "source": [
    "localtime[1]"
   ]
  },
  {
   "cell_type": "code",
   "execution_count": 8,
   "id": "8846fc8b-61ad-4505-a3c3-d078bde892ca",
   "metadata": {},
   "outputs": [],
   "source": [
    "# Write a program to fetch current time from asc time function thus, print new time format as follow monthday,time,day of week."
   ]
  },
  {
   "cell_type": "code",
   "execution_count": 9,
   "id": "75a59b6d-907d-435c-ac96-e8dd79e3a18f",
   "metadata": {},
   "outputs": [
    {
     "data": {
      "text/plain": [
       "['Mon', 'Aug', '', '5', '12:55:23', '2024']"
      ]
     },
     "execution_count": 9,
     "metadata": {},
     "output_type": "execute_result"
    }
   ],
   "source": [
    "localtime1 = time.asctime( time.localtime(time.time()) )\n",
    "localtime  = localtime1.split(' ')\n",
    "localtime"
   ]
  },
  {
   "cell_type": "code",
   "execution_count": 10,
   "id": "19d0e983-d5dd-4f5a-bc77-0f9cce032f6e",
   "metadata": {},
   "outputs": [
    {
     "data": {
      "text/plain": [
       "('5', '12:55:23', 'Mon')"
      ]
     },
     "execution_count": 10,
     "metadata": {},
     "output_type": "execute_result"
    }
   ],
   "source": [
    "localtime[3],localtime[4],localtime[0]"
   ]
  },
  {
   "cell_type": "code",
   "execution_count": 11,
   "id": "91e5097a-a910-47e5-b7ca-0dc27ebea833",
   "metadata": {},
   "outputs": [
    {
     "name": "stdout",
     "output_type": "stream",
     "text": [
      "Here is the Calendar:\n",
      "    January 2024\n",
      "Mo Tu We Th Fr Sa Su\n",
      " 1  2  3  4  5  6  7\n",
      " 8  9 10 11 12 13 14\n",
      "15 16 17 18 19 20 21\n",
      "22 23 24 25 26 27 28\n",
      "29 30 31\n",
      "\n"
     ]
    }
   ],
   "source": [
    "import calendar\n",
    "cal = calendar.month(2024, 1)\n",
    "print(\"Here is the Calendar:\")\n",
    "print (cal)"
   ]
  },
  {
   "cell_type": "code",
   "execution_count": 12,
   "id": "75effdad-beae-47e4-b4f8-afd7e54b8e81",
   "metadata": {},
   "outputs": [
    {
     "data": {
      "text/plain": [
       "str"
      ]
     },
     "execution_count": 12,
     "metadata": {},
     "output_type": "execute_result"
    }
   ],
   "source": [
    "type(cal)"
   ]
  },
  {
   "cell_type": "code",
   "execution_count": 13,
   "id": "1dc0dada-333a-4bbf-8f1e-6a27b5874466",
   "metadata": {},
   "outputs": [],
   "source": [
    "from datetime import timedelta\n",
    "delta = timedelta(\n",
    "    days=50,\n",
    "    seconds=27,\n",
    "    microseconds=10,\n",
    "    milliseconds=29000,\n",
    "    minutes=5,\n",
    "    hours=8,\n",
    "    weeks=2\n",
    "\n",
    ")"
   ]
  },
  {
   "cell_type": "code",
   "execution_count": 14,
   "id": "8bdf321a-5be9-4d8b-b0ae-f43b2ed0d5b1",
   "metadata": {},
   "outputs": [
    {
     "data": {
      "text/plain": [
       "datetime.timedelta(days=64, seconds=29156, microseconds=10)"
      ]
     },
     "execution_count": 14,
     "metadata": {},
     "output_type": "execute_result"
    }
   ],
   "source": [
    "delta"
   ]
  },
  {
   "cell_type": "code",
   "execution_count": 15,
   "id": "bda58001-5137-4f87-8302-9d694789ef76",
   "metadata": {},
   "outputs": [
    {
     "data": {
      "text/plain": [
       "(-1, 86399, 999999)"
      ]
     },
     "execution_count": 15,
     "metadata": {},
     "output_type": "execute_result"
    }
   ],
   "source": [
    "from datetime import timedelta\n",
    "d = timedelta(microseconds=-1)\n",
    "(d.days,d.seconds,d.microseconds)"
   ]
  },
  {
   "cell_type": "code",
   "execution_count": 16,
   "id": "8ec025f8-442b-4533-9415-c7e5c5d3c900",
   "metadata": {},
   "outputs": [
    {
     "data": {
      "text/plain": [
       "datetime.date(2019, 12, 4)"
      ]
     },
     "execution_count": 16,
     "metadata": {},
     "output_type": "execute_result"
    }
   ],
   "source": [
    "from datetime import date\n",
    "date.fromisoformat('2019-12-04')"
   ]
  },
  {
   "cell_type": "code",
   "execution_count": 17,
   "id": "5dfa80a3-fbda-4dd5-967f-c1bad8ae5d5b",
   "metadata": {},
   "outputs": [
    {
     "data": {
      "text/plain": [
       "datetime.IsoCalendarDate(year=2024, week=32, weekday=1)"
      ]
     },
     "execution_count": 17,
     "metadata": {},
     "output_type": "execute_result"
    }
   ],
   "source": [
    "from datetime import date\n",
    "date(2024, 8, 5).isocalendar()"
   ]
  },
  {
   "cell_type": "code",
   "execution_count": 18,
   "id": "104278fc-f8ac-43d4-80f6-1c8757976ca3",
   "metadata": {},
   "outputs": [],
   "source": [
    "from datetime import date\n",
    "d = date(2024, 7, 5).isocalendar()"
   ]
  },
  {
   "cell_type": "code",
   "execution_count": 19,
   "id": "420523d3-bae0-498d-b8a6-1a31e3464ba6",
   "metadata": {},
   "outputs": [
    {
     "data": {
      "text/plain": [
       "datetime.IsoCalendarDate"
      ]
     },
     "execution_count": 19,
     "metadata": {},
     "output_type": "execute_result"
    }
   ],
   "source": [
    "type(d)"
   ]
  },
  {
   "cell_type": "code",
   "execution_count": 20,
   "id": "119205b1-098d-4ee4-a03b-03daff1b6cc1",
   "metadata": {},
   "outputs": [
    {
     "data": {
      "text/plain": [
       "'Mon Aug  5 00:00:00 2024'"
      ]
     },
     "execution_count": 20,
     "metadata": {},
     "output_type": "execute_result"
    }
   ],
   "source": [
    "from datetime import date\n",
    "date(2024,8,5).ctime()"
   ]
  },
  {
   "cell_type": "code",
   "execution_count": 21,
   "id": "68c6df10-6fc5-4ae8-aced-009e423dac28",
   "metadata": {},
   "outputs": [
    {
     "data": {
      "text/plain": [
       "datetime.date(2024, 8, 5)"
      ]
     },
     "execution_count": 21,
     "metadata": {},
     "output_type": "execute_result"
    }
   ],
   "source": [
    "import time\n",
    "from datetime import date\n",
    "today = date.today()\n",
    "today"
   ]
  },
  {
   "cell_type": "code",
   "execution_count": 22,
   "id": "6238a070-d91a-4cae-b153-dc6cc22f0e4f",
   "metadata": {},
   "outputs": [
    {
     "data": {
      "text/plain": [
       "True"
      ]
     },
     "execution_count": 22,
     "metadata": {},
     "output_type": "execute_result"
    }
   ],
   "source": [
    "today  == date.fromtimestamp(time.time())"
   ]
  },
  {
   "cell_type": "code",
   "execution_count": 23,
   "id": "7e331475-ee46-47f6-b3f6-7b187f20da5f",
   "metadata": {},
   "outputs": [],
   "source": [
    "my_birthday = date(today.year, 10, 24)\n",
    "if my_birthday < today:\n",
    "    my_birthday = my_birthday.replace(year = today.year + 1)"
   ]
  },
  {
   "cell_type": "code",
   "execution_count": 24,
   "id": "65db4219-be9e-4a92-90c4-73ef2d16554a",
   "metadata": {},
   "outputs": [
    {
     "data": {
      "text/plain": [
       "datetime.date(2024, 10, 24)"
      ]
     },
     "execution_count": 24,
     "metadata": {},
     "output_type": "execute_result"
    }
   ],
   "source": [
    "my_birthday"
   ]
  },
  {
   "cell_type": "code",
   "execution_count": 25,
   "id": "9f39b149-fd3c-4d16-8db5-6f11b91cb494",
   "metadata": {},
   "outputs": [
    {
     "data": {
      "text/plain": [
       "80"
      ]
     },
     "execution_count": 25,
     "metadata": {},
     "output_type": "execute_result"
    }
   ],
   "source": [
    "time_to_birthday = abs(my_birthday - today)\n",
    "time_to_birthday.days"
   ]
  },
  {
   "cell_type": "code",
   "execution_count": 26,
   "id": "8360322f-c1ce-4a89-b4d8-4a15a25ee250",
   "metadata": {},
   "outputs": [
    {
     "data": {
      "text/plain": [
       "datetime.date(2002, 3, 11)"
      ]
     },
     "execution_count": 26,
     "metadata": {},
     "output_type": "execute_result"
    }
   ],
   "source": [
    "from datetime import date\n",
    "d = date.fromordinal(730920)\n",
    "d"
   ]
  },
  {
   "cell_type": "code",
   "execution_count": 27,
   "id": "c48760bd-f35b-4618-9b77-13c384fb683b",
   "metadata": {},
   "outputs": [
    {
     "data": {
      "text/plain": [
       "'2002-03-11'"
      ]
     },
     "execution_count": 27,
     "metadata": {},
     "output_type": "execute_result"
    }
   ],
   "source": [
    "d.isoformat()"
   ]
  },
  {
   "cell_type": "code",
   "execution_count": 28,
   "id": "4fd9160d-4e3f-42ad-9d44-f0b25af49b2f",
   "metadata": {},
   "outputs": [
    {
     "data": {
      "text/plain": [
       "'11/03/02'"
      ]
     },
     "execution_count": 28,
     "metadata": {},
     "output_type": "execute_result"
    }
   ],
   "source": [
    "d.strftime(\"%d/%m/%y\")"
   ]
  },
  {
   "cell_type": "code",
   "execution_count": 29,
   "id": "b044a747-b831-4150-8255-7921466dc491",
   "metadata": {},
   "outputs": [
    {
     "data": {
      "text/plain": [
       "'Monday 11. March 2002'"
      ]
     },
     "execution_count": 29,
     "metadata": {},
     "output_type": "execute_result"
    }
   ],
   "source": [
    "d.strftime(\"%A %d. %B %Y\")"
   ]
  },
  {
   "cell_type": "code",
   "execution_count": 30,
   "id": "3a1f75f9-c34a-4363-8ca3-1cbac8e99213",
   "metadata": {},
   "outputs": [
    {
     "data": {
      "text/plain": [
       "'Mon Mar 11 00:00:00 2002'"
      ]
     },
     "execution_count": 30,
     "metadata": {},
     "output_type": "execute_result"
    }
   ],
   "source": [
    "d.ctime()"
   ]
  },
  {
   "cell_type": "code",
   "execution_count": 31,
   "id": "4bfe0eef-780a-46a0-a734-b73624ac5132",
   "metadata": {},
   "outputs": [
    {
     "data": {
      "text/plain": [
       "'The day is 11, the month is March.'"
      ]
     },
     "execution_count": 31,
     "metadata": {},
     "output_type": "execute_result"
    }
   ],
   "source": [
    "'The {1} is {0:%d}, the {2} is {0:%B}.'.format(d, \"day\", \"month\")\n"
   ]
  },
  {
   "cell_type": "code",
   "execution_count": 32,
   "id": "a606554d-6aef-4bcf-ae73-2828eca2e3be",
   "metadata": {},
   "outputs": [
    {
     "name": "stdout",
     "output_type": "stream",
     "text": [
      "2002\n",
      "3\n",
      "11\n",
      "0\n",
      "0\n",
      "0\n",
      "0\n",
      "70\n",
      "-1\n"
     ]
    }
   ],
   "source": [
    "t = d.timetuple()\n",
    "for i in t:\n",
    "    print(i)"
   ]
  },
  {
   "cell_type": "code",
   "execution_count": 33,
   "id": "8d4412ed-c44b-4ae7-a5c7-f84ec677dcdb",
   "metadata": {},
   "outputs": [
    {
     "name": "stdout",
     "output_type": "stream",
     "text": [
      "2002\n",
      "11\n",
      "1\n"
     ]
    }
   ],
   "source": [
    "ic = d.isocalendar()\n",
    "for i in ic:\n",
    "    print(i)"
   ]
  },
  {
   "cell_type": "code",
   "execution_count": 34,
   "id": "0229472f-54df-464f-a859-3a06b2d29278",
   "metadata": {},
   "outputs": [
    {
     "data": {
      "text/plain": [
       "datetime.date(2024, 3, 11)"
      ]
     },
     "execution_count": 34,
     "metadata": {},
     "output_type": "execute_result"
    }
   ],
   "source": [
    "# A date object is immutable; all operations produce a new object\n",
    "d.replace(year=2024)"
   ]
  },
  {
   "cell_type": "code",
   "execution_count": 35,
   "id": "66ac2b73-2af2-425e-a99b-d3da5ff3b37b",
   "metadata": {},
   "outputs": [],
   "source": [
    "# Write a program to check whether the applicant previous interview date and current interview days has a gap of 180 days if not then give a applicant a new date provide a above condition"
   ]
  },
  {
   "cell_type": "code",
   "execution_count": 36,
   "id": "7e8cd270-6f64-4426-a55b-610038d98fbf",
   "metadata": {},
   "outputs": [
    {
     "name": "stdin",
     "output_type": "stream",
     "text": [
      "Enter the previous interview date (YYYY-MM-DD):  2021-09-09\n",
      "Enter the current interview date (YYYY-MM-DD):  2023-09-09\n"
     ]
    },
    {
     "name": "stdout",
     "output_type": "stream",
     "text": [
      "The gap is at least 180 days. The current interview date is acceptable.\n"
     ]
    }
   ],
   "source": [
    "from datetime import datetime, timedelta\n",
    "\n",
    "p_date_str = input(\"Enter the previous interview date (YYYY-MM-DD): \")\n",
    "c_date_str = input(\"Enter the current interview date (YYYY-MM-DD): \")\n",
    "\n",
    "p_date = datetime.strptime(p_date_str, \"%Y-%m-%d\")\n",
    "c_date = datetime.strptime(c_date_str, \"%Y-%m-%d\")\n",
    "\n",
    "difference = (c_date - p_date).days\n",
    "\n",
    "if difference < 180:\n",
    "    new_interview_date = p_date + timedelta(days=180)\n",
    "    print(f\"The gap is less than 180 days. The new interview date should be: {new_interview_date.strftime('%Y-%m-%d')}\")\n",
    "else:\n",
    "    print(\"The gap is at least 180 days. The current interview date is acceptable.\")\n"
   ]
  },
  {
   "cell_type": "code",
   "execution_count": 49,
   "id": "1b22e494-7158-48a7-9856-6fcf3d59318b",
   "metadata": {},
   "outputs": [],
   "source": [
    "# Write a program to count amount of profit generated by machine one if it runs 4 hr/working day from 1st jan 2024 till current date the rate of the machine profits is 10,000 per hour use date time module"
   ]
  },
  {
   "cell_type": "code",
   "execution_count": 50,
   "id": "78bd801d-0411-408d-a700-ecdca001da94",
   "metadata": {},
   "outputs": [],
   "source": [
    "from datetime import datetime, timedelta\n",
    "\n",
    "s_date = datetime(2024, 1, 1)\n",
    "e_date = datetime.now()\n",
    "h_per_day = 4\n",
    "p_per_hour = 10000\n"
   ]
  },
  {
   "cell_type": "code",
   "execution_count": 51,
   "id": "b641b1d5-d1bc-4b15-b640-13e63c93e5eb",
   "metadata": {},
   "outputs": [
    {
     "name": "stdout",
     "output_type": "stream",
     "text": [
      "The profit generated by the machine from 2024-01-01 to 2024-08-05 is: 6240000 units.\n"
     ]
    }
   ],
   "source": [
    "num_days = (e_date - s_date).days + 1\n",
    "\n",
    "working_days = sum(1 for day in (s_date + timedelta(days=i)\n",
    "                                 for i in range(num_days)) if day.weekday() < 5)\n",
    "\n",
    "total_profit = working_days * h_per_day * p_per_hour\n",
    "\n",
    "print(f\"The profit generated by the machine from {s_date.date()} to {e_date.date()} is: {total_profit} units.\")\n"
   ]
  },
  {
   "cell_type": "code",
   "execution_count": 52,
   "id": "c7b649cc-b8a7-49eb-bad9-72ae17f4ca4f",
   "metadata": {},
   "outputs": [],
   "source": [
    "# Write a program for a theme park where it is open for 3 hr from monday to friday on 6 hr on weekend. calculate total operating cost if per hr 2000rs worth of electricity is use till current date from 1 jan 2024"
   ]
  },
  {
   "cell_type": "code",
   "execution_count": 53,
   "id": "d54bb212-d22d-4f0a-97ed-5ec9cd9f0c9f",
   "metadata": {},
   "outputs": [],
   "source": [
    "from datetime import datetime"
   ]
  },
  {
   "cell_type": "raw",
   "id": "2bfb666a-66d7-4434-8f59-75307eaac291",
   "metadata": {},
   "source": [
    "theme_park = 3\n",
    "per_hour = 6\n",
    "cost = 2000"
   ]
  },
  {
   "cell_type": "code",
   "execution_count": 54,
   "id": "fb578fac-d8eb-4f4d-bb9b-fda1ab18ad8f",
   "metadata": {},
   "outputs": [],
   "source": [
    "start_date = datetime(2024, 1, 1)\n",
    "current_date = datetime(2024, 8, 5)"
   ]
  },
  {
   "cell_type": "code",
   "execution_count": 55,
   "id": "ff4cac2b-9911-4b04-9826-9985c912dcca",
   "metadata": {},
   "outputs": [
    {
     "data": {
      "text/plain": [
       "217"
      ]
     },
     "execution_count": 55,
     "metadata": {},
     "output_type": "execute_result"
    }
   ],
   "source": [
    " new_days = (e_date-s_date).days\n",
    "new_days"
   ]
  },
  {
   "cell_type": "code",
   "execution_count": 56,
   "id": "98f8cda5-333e-4cf4-9e94-5bab5aaa35e3",
   "metadata": {},
   "outputs": [],
   "source": [
    "total_cost=0"
   ]
  },
  {
   "cell_type": "code",
   "execution_count": 57,
   "id": "d1c61bf9-c5bb-41ad-9f74-a665c3fb1ee3",
   "metadata": {},
   "outputs": [
    {
     "data": {
      "text/plain": [
       "43"
      ]
     },
     "execution_count": 57,
     "metadata": {},
     "output_type": "execute_result"
    }
   ],
   "source": [
    "217//5"
   ]
  },
  {
   "cell_type": "code",
   "execution_count": 58,
   "id": "b47ee19e-bc19-43d0-8ad3-9d9d8d76c319",
   "metadata": {},
   "outputs": [
    {
     "data": {
      "text/plain": [
       "86"
      ]
     },
     "execution_count": 58,
     "metadata": {},
     "output_type": "execute_result"
    }
   ],
   "source": [
    "43*2"
   ]
  },
  {
   "cell_type": "code",
   "execution_count": 59,
   "id": "332c1b02-b5de-45af-b505-192fc4e82e29",
   "metadata": {},
   "outputs": [
    {
     "data": {
      "text/plain": [
       "131"
      ]
     },
     "execution_count": 59,
     "metadata": {},
     "output_type": "execute_result"
    }
   ],
   "source": [
    "217-86"
   ]
  },
  {
   "cell_type": "code",
   "execution_count": 60,
   "id": "53cf80e6-a4f8-4cbf-a216-610fc94dc27d",
   "metadata": {},
   "outputs": [
    {
     "data": {
      "text/plain": [
       "786000"
      ]
     },
     "execution_count": 60,
     "metadata": {},
     "output_type": "execute_result"
    }
   ],
   "source": [
    "131*3*2000"
   ]
  },
  {
   "cell_type": "code",
   "execution_count": null,
   "id": "70e83a4f-ae0a-4c52-b9cb-817c4f723647",
   "metadata": {},
   "outputs": [],
   "source": []
  },
  {
   "cell_type": "code",
   "execution_count": null,
   "id": "19ed0db2-1ebb-4a02-94b4-31ebf4eb04d8",
   "metadata": {},
   "outputs": [],
   "source": []
  }
 ],
 "metadata": {
  "kernelspec": {
   "display_name": "Python 3 (ipykernel)",
   "language": "python",
   "name": "python3"
  },
  "language_info": {
   "codemirror_mode": {
    "name": "ipython",
    "version": 3
   },
   "file_extension": ".py",
   "mimetype": "text/x-python",
   "name": "python",
   "nbconvert_exporter": "python",
   "pygments_lexer": "ipython3",
   "version": "3.11.9"
  }
 },
 "nbformat": 4,
 "nbformat_minor": 5
}
