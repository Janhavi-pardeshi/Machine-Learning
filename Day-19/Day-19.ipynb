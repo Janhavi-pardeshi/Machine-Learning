{
 "cells": [
  {
   "cell_type": "markdown",
   "id": "23a421a0-a7cb-466e-9ed6-997047071968",
   "metadata": {},
   "source": [
    "## Learning Exceptions\n"
   ]
  },
  {
   "cell_type": "code",
   "execution_count": 10,
   "id": "4c923ad0-1a72-412d-92c7-46f43fdcf005",
   "metadata": {},
   "outputs": [
    {
     "name": "stdin",
     "output_type": "stream",
     "text": [
      "Enter the first number:  35\n",
      "Enter the second number:  35\n"
     ]
    },
    {
     "name": "stdout",
     "output_type": "stream",
     "text": [
      "Both the numbers entered were correct\n",
      "Great.. you are a good programmer\n",
      "JOB OVER... GO GET SOME REST\n"
     ]
    }
   ],
   "source": [
    "### print(\"Learning Exceptions...\")\n",
    "\n",
    "try:\n",
    "    num1 = int(input(\"Enter the first number: \"))\n",
    "    num2 = int(input(\"Enter the second number: \"))\n",
    "    quotient = num1 / num2\n",
    "    print(\"Both the numbers entered were correct\")\n",
    "except ValueError:  # to enter only integers\n",
    "    print(\"Please enter only numbers\")\n",
    "except ZeroDivisionError:  # Denominator should not be zero\n",
    "    print(\"Number 2 should not be zero\")\n",
    "else:\n",
    "    print(\"Great.. you are a good programmer\")\n",
    "finally:  # to be executed at the end\n",
    "    print(\"JOB OVER... GO GET SOME REST\")\n"
   ]
  },
  {
   "cell_type": "markdown",
   "id": "edb45da1-8732-4c43-a727-081f5d93d31f",
   "metadata": {},
   "source": [
    "## Representation of Binary Tree using Dictionary"
   ]
  },
  {
   "cell_type": "code",
   "execution_count": 5,
   "id": "60f3b125-3cb2-4f67-9d45-957756053af4",
   "metadata": {},
   "outputs": [],
   "source": [
    "root = {'data': None, 'left': None, 'right': None, 'parent': None}\n",
    "\n",
    "root['left'] = {'data': 1, 'left': None, 'right': None, 'parent': root}\n",
    "root['right'] = {'data': 2, 'left': None, 'right': None, 'parent': root}\n",
    "\n",
    "l = root['left']\n",
    "l['left'] = {'data': 3, 'left': None, 'right': None, 'parent': l}\n",
    "\n",
    "r = root['right']\n",
    "r['left'] = {'data': 4, 'left': None, 'right': None, 'parent': r}\n",
    "r['right'] = {'data': 5, 'left': None, 'right': None, 'parent': r}\n",
    "\n",
    "x = r['left']\n",
    "x['left'] = {'data': 6, 'left': None, 'right': None, 'parent': x}\n",
    "x['right'] = {'data': 7, 'left': None, 'right': None, 'parent': x}\n",
    "\n"
   ]
  },
  {
   "cell_type": "code",
   "execution_count": 15,
   "id": "581f5215-3a41-481d-b6fa-f048c19ca36c",
   "metadata": {},
   "outputs": [
    {
     "name": "stdout",
     "output_type": "stream",
     "text": [
      "None 1 3 2 4 6 7 5 None\n",
      "3 1 None 6 4 7 2 5 None\n",
      "3 1 6 7 4 5 2 None None\n"
     ]
    }
   ],
   "source": [
    "def preorder(T):\n",
    "    if T == None: return\n",
    "    print(T['data'], end=\" \")\n",
    "    preorder(T['left'])\n",
    "    preorder(T['right'])\n",
    "\n",
    "def inorder(T):\n",
    "    if T == None: return\n",
    "    inorder(T['left'])\n",
    "    print(T['data'], end=\" \")\n",
    "    inorder(T['right'])\n",
    "\n",
    "def postorder(T):\n",
    "    if T == None: return\n",
    "    postorder(T['left'])\n",
    "    postorder(T['right'])\n",
    "    print(T['data'], end=\" \")\n",
    "\n",
    "print(preorder(root))\n",
    "print(inorder(root))\n",
    "print(postorder(root))"
   ]
  },
  {
   "cell_type": "code",
   "execution_count": 19,
   "id": "b4335fb5-da35-4962-8ec3-a1957e5c13ab",
   "metadata": {},
   "outputs": [],
   "source": [
    "def print_tree(tree,f):\n",
    "    N= len(tree) \n",
    "    print(N,file=f) \n",
    "    for i in range(N):\n",
    "        print(tree[i]['data'],tree[i]['left'],tree[i]['right'], \n",
    "    file=f) \n",
    "    return\n",
    "\n"
   ]
  },
  {
   "cell_type": "code",
   "execution_count": 24,
   "id": "c21dc175-33b0-43e1-9b4e-943efb93c0db",
   "metadata": {},
   "outputs": [],
   "source": [
    "def read_tree(filename):\n",
    "    with open(filename) as f:\n",
    "        tree = []\n",
    "        for line in f:\n",
    "            fields = list(map(int, line.split()))\n",
    "            if len(fields) == 1:  \n",
    "                N = int(fields[0])\n",
    "                tree = [{'data': None, 'left': None, 'right': None, 'parent': None}\n",
    "                        for i in range(N)]\n",
    "                index = 0\n",
    "            else:\n",
    "                tree[index]['data'] = fields[0]\n",
    "                tree[index]['left'] = fields[1]\n",
    "                tree[index]['right'] = fields[2]\n",
    "                index += 1\n",
    "        return tree\n"
   ]
  },
  {
   "cell_type": "markdown",
   "id": "92d41a7d-1264-432c-8803-d6a6b0ad0ec8",
   "metadata": {},
   "source": [
    "## Representation of Binary Tree using Linked list"
   ]
  },
  {
   "cell_type": "code",
   "execution_count": 37,
   "id": "3567038d-f466-42c2-bf9f-b99a9ce22991",
   "metadata": {},
   "outputs": [
    {
     "name": "stdout",
     "output_type": "stream",
     "text": [
      "root.right.left.data: E\n"
     ]
    }
   ],
   "source": [
    "class TreeNode:\n",
    "    def __init__(self, data):\n",
    "        self.data = data\n",
    "        self.left = None\n",
    "        self.right = None\n",
    "\n",
    "root = TreeNode('R')\n",
    "nodeA = TreeNode('A')\n",
    "nodeB = TreeNode('B')\n",
    "nodeC = TreeNode('C')\n",
    "nodeD = TreeNode('D')\n",
    "nodeE = TreeNode('E')\n",
    "nodeF = TreeNode('F')\n",
    "nodeG = TreeNode('G')\n",
    "\n",
    "root.left = nodeA\n",
    "root.right = nodeB\n",
    "\n",
    "nodeA.left = nodeC\n",
    "nodeA.right = nodeD\n",
    "\n",
    "nodeB.left = nodeE\n",
    "nodeB.right = nodeF\n",
    "\n",
    "nodeF.left = nodeG\n",
    "\n",
    "print(\"root.right.left.data:\", root.right.left.data)\n"
   ]
  },
  {
   "cell_type": "markdown",
   "id": "ca3bb6e9-2b36-40a6-9d2d-4e036bb96e59",
   "metadata": {},
   "source": [
    "## Preorder Traversal"
   ]
  },
  {
   "cell_type": "code",
   "execution_count": 38,
   "id": "09ad2f3c-fcd9-4f89-a465-9744258f33e9",
   "metadata": {},
   "outputs": [
    {
     "name": "stdout",
     "output_type": "stream",
     "text": [
      "R, A, C, D, B, E, F, G, "
     ]
    }
   ],
   "source": [
    "\n",
    "class TreeNode:\n",
    "    def __init__(self, data):\n",
    "        self.data = data\n",
    "        self.left = None\n",
    "        self.right = None\n",
    "\n",
    "def preOrderTraversal(node):\n",
    "    if node is None:\n",
    "        return\n",
    "    print(node.data, end=\", \")\n",
    "    preOrderTraversal(node.left)\n",
    "    preOrderTraversal(node.right)\n",
    "\n",
    "root = TreeNode('R')\n",
    "nodeA = TreeNode('A')\n",
    "nodeB = TreeNode('B')\n",
    "nodeC = TreeNode('C')\n",
    "nodeD = TreeNode('D')\n",
    "nodeE = TreeNode('E')\n",
    "nodeF = TreeNode('F')\n",
    "nodeG = TreeNode('G')\n",
    "\n",
    "root.left = nodeA\n",
    "root.right = nodeB\n",
    "\n",
    "nodeA.left = nodeC\n",
    "nodeA.right = nodeD\n",
    "\n",
    "nodeB.left = nodeE\n",
    "nodeB.right = nodeF\n",
    "\n",
    "nodeF.left = nodeG\n",
    "\n",
    "preOrderTraversal(root)\n",
    "\n"
   ]
  },
  {
   "cell_type": "markdown",
   "id": "c43eddc1-e378-481c-ac44-3cab3cf8eb2d",
   "metadata": {},
   "source": [
    "## Inorder Traversal"
   ]
  },
  {
   "cell_type": "code",
   "execution_count": 39,
   "id": "53ed0ef6-8711-4449-b640-a8f58027f4f7",
   "metadata": {},
   "outputs": [
    {
     "name": "stdout",
     "output_type": "stream",
     "text": [
      "C, A, D, R, E, B, G, F, "
     ]
    }
   ],
   "source": [
    "class TreeNode:\n",
    "    def __init__(self, data):\n",
    "        self.data = data\n",
    "        self.left = None\n",
    "        self.right = None\n",
    "\n",
    "def inOrderTraversal(node):\n",
    "    if node is None:\n",
    "        return\n",
    "    inOrderTraversal(node.left)\n",
    "    print(node.data, end=\", \")\n",
    "    inOrderTraversal(node.right)\n",
    "\n",
    "root = TreeNode('R')\n",
    "nodeA = TreeNode('A')\n",
    "nodeB = TreeNode('B')\n",
    "nodeC = TreeNode('C')\n",
    "nodeD = TreeNode('D')\n",
    "nodeE = TreeNode('E')\n",
    "nodeF = TreeNode('F')\n",
    "nodeG = TreeNode('G')\n",
    "\n",
    "root.left = nodeA\n",
    "root.right = nodeB\n",
    "\n",
    "nodeA.left = nodeC\n",
    "nodeA.right = nodeD\n",
    "\n",
    "nodeB.left = nodeE\n",
    "nodeB.right = nodeF\n",
    "\n",
    "nodeF.left = nodeG\n",
    "\n",
    "inOrderTraversal(root)\n",
    "\n"
   ]
  },
  {
   "cell_type": "markdown",
   "id": "26d327b2-ff21-4243-96e0-fd3b392cf01f",
   "metadata": {},
   "source": [
    "## post Order Traversal"
   ]
  },
  {
   "cell_type": "code",
   "execution_count": 40,
   "id": "8a4e7874-1d40-41df-b1c4-93e0fa0ab6ca",
   "metadata": {},
   "outputs": [
    {
     "name": "stdout",
     "output_type": "stream",
     "text": [
      "C, D, A, E, G, F, B, R, "
     ]
    }
   ],
   "source": [
    "class TreeNode:\n",
    "    def __init__(self, data):\n",
    "        self.data = data\n",
    "        self.left = None\n",
    "        self.right = None\n",
    "\n",
    "def postOrderTraversal(node):\n",
    "    if node is None:\n",
    "        return\n",
    "    postOrderTraversal(node.left)\n",
    "    postOrderTraversal(node.right)\n",
    "    print(node.data, end=\", \")\n",
    "\n",
    "root = TreeNode('R')\n",
    "nodeA = TreeNode('A')\n",
    "nodeB = TreeNode('B')\n",
    "nodeC = TreeNode('C')\n",
    "nodeD = TreeNode('D')\n",
    "nodeE = TreeNode('E')\n",
    "nodeF = TreeNode('F')\n",
    "nodeG = TreeNode('G')\n",
    "\n",
    "root.left = nodeA\n",
    "root.right = nodeB\n",
    "\n",
    "nodeA.left = nodeC\n",
    "nodeA.right = nodeD\n",
    "\n",
    "nodeB.left = nodeE\n",
    "nodeB.right = nodeF\n",
    "\n",
    "nodeF.left = nodeG\n",
    "\n",
    "postOrderTraversal(root)\n"
   ]
  },
  {
   "cell_type": "markdown",
   "id": "df7271c6-1e3d-44b2-b73f-140b4a102dc1",
   "metadata": {},
   "source": [
    "## Array Implementation"
   ]
  },
  {
   "cell_type": "code",
   "execution_count": 41,
   "id": "a2be7547-3d4e-4131-b288-903498bb1671",
   "metadata": {},
   "outputs": [
    {
     "name": "stdout",
     "output_type": "stream",
     "text": [
      "root.right.left.data: E\n"
     ]
    }
   ],
   "source": [
    "binary_tree_array = ['R', 'A', 'B', 'C', 'D', 'E', 'F', None, None, None, None, None, None, 'G']\n",
    "\n",
    "def left_child_index(index):\n",
    "    return 2 * index + 1\n",
    "\n",
    "def right_child_index(index):\n",
    "    return 2 * index + 2\n",
    "\n",
    "def get_data(index):\n",
    "    if 0 <= index < len(binary_tree_array):\n",
    "        return binary_tree_array[index]\n",
    "    return None\n",
    "\n",
    "right_child = right_child_index(0)\n",
    "\n",
    "left_child_of_right_child = left_child_index(right_child)\n",
    "data = get_data(left_child_of_right_child)\n",
    "\n",
    "print(\"root.right.left.data:\", data)\n"
   ]
  },
  {
   "cell_type": "code",
   "execution_count": null,
   "id": "42ec0b83-288e-4537-ac0d-ea7978f8a31f",
   "metadata": {},
   "outputs": [],
   "source": []
  },
  {
   "cell_type": "code",
   "execution_count": null,
   "id": "12dbede0-47b7-4d00-b71e-549be3a0b80c",
   "metadata": {},
   "outputs": [],
   "source": []
  },
  {
   "cell_type": "code",
   "execution_count": null,
   "id": "da80661f-a75b-45e8-83f4-3bd526808bf1",
   "metadata": {},
   "outputs": [],
   "source": []
  }
 ],
 "metadata": {
  "kernelspec": {
   "display_name": "Python 3 (ipykernel)",
   "language": "python",
   "name": "python3"
  },
  "language_info": {
   "codemirror_mode": {
    "name": "ipython",
    "version": 3
   },
   "file_extension": ".py",
   "mimetype": "text/x-python",
   "name": "python",
   "nbconvert_exporter": "python",
   "pygments_lexer": "ipython3",
   "version": "3.11.9"
  }
 },
 "nbformat": 4,
 "nbformat_minor": 5
}
